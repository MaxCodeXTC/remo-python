{
 "cells": [
  {
   "cell_type": "code",
   "execution_count": 1,
   "metadata": {},
   "outputs": [],
   "source": [
    "import sys\n",
    "# MC: need to specify path to remo in notebook\n",
    "# mac version\n",
    "local_path_to_repo =  '/Users/melodi/Docs/remo-python'\n",
    "# windows version\n",
    "#local_path_to_repo =  'C:/Users/crows/Documents/GitHub/remo-python'\n",
    "\n",
    "sys.path.insert(0, local_path_to_repo)"
   ]
  },
  {
   "cell_type": "code",
   "execution_count": 2,
   "metadata": {},
   "outputs": [
    {
     "name": "stdout",
     "output_type": "stream",
     "text": [
      "\n",
      "    (\\(\\ \n",
      "    (>':') Remo server is running: {'version': '0.3.4'}\n",
      "                \n"
     ]
    }
   ],
   "source": [
    "%load_ext autoreload\n",
    "%autoreload 2\n",
    "import remo"
   ]
  },
  {
   "cell_type": "code",
   "execution_count": 3,
   "metadata": {},
   "outputs": [
    {
     "data": {
      "text/plain": [
       "[Dataset 1 - 'Vova's dataset',\n",
       " Dataset 2 - 'open images detection',\n",
       " Dataset 3 - 'Subset of OID',\n",
       " Dataset 4 - 'train',\n",
       " Dataset 6 - 'test',\n",
       " Dataset 12 - 'oid 100',\n",
       " Dataset 13 - 'open images sample data',\n",
       " Dataset 19 - 'oid building ',\n",
       " Dataset 21 - 'oid building and car',\n",
       " Dataset 22 - 'oid building car detection',\n",
       " Dataset 25 - 'open images data',\n",
       " Dataset 26 - 'oid car',\n",
       " Dataset 28 - 'oid car and person',\n",
       " Dataset 29 - 'test upload',\n",
       " Dataset 30 - 'test upload 2',\n",
       " Dataset 31 - 'cats and dogs']"
      ]
     },
     "execution_count": 3,
     "metadata": {},
     "output_type": "execute_result"
    }
   ],
   "source": [
    "remo.list_datasets() "
   ]
  },
  {
   "cell_type": "code",
   "execution_count": 4,
   "metadata": {},
   "outputs": [],
   "source": [
    "my_dataset = remo.get_dataset(28)"
   ]
  },
  {
   "cell_type": "code",
   "execution_count": 5,
   "metadata": {},
   "outputs": [
    {
     "data": {
      "text/plain": [
       "[Annotation set 19 - 'Object Detection Actual', task: Object detection, #classes: 5,\n",
       " Annotation set 25 - 'preds', task: Object detection, #classes: 0,\n",
       " Annotation set 29 - 'Image classification', task: Image classification, #classes: 2]"
      ]
     },
     "execution_count": 5,
     "metadata": {},
     "output_type": "execute_result"
    }
   ],
   "source": [
    "my_dataset.list_annotation_sets()"
   ]
  },
  {
   "cell_type": "code",
   "execution_count": 78,
   "metadata": {},
   "outputs": [],
   "source": [
    "val = my_dataset[0:len(my_dataset) // 3]"
   ]
  },
  {
   "cell_type": "code",
   "execution_count": 79,
   "metadata": {},
   "outputs": [],
   "source": [
    "train = my_dataset[len(my_dataset) // 3:]"
   ]
  },
  {
   "cell_type": "code",
   "execution_count": 80,
   "metadata": {},
   "outputs": [],
   "source": [
    "val.export_annotation_to_csv('val.csv')"
   ]
  },
  {
   "cell_type": "code",
   "execution_count": 81,
   "metadata": {},
   "outputs": [],
   "source": [
    "train.export_annotation_to_csv('train.csv')"
   ]
  },
  {
   "cell_type": "code",
   "execution_count": 73,
   "metadata": {},
   "outputs": [],
   "source": [
    "import pandas as pd\n",
    "df = pd.read_csv('train.csv')"
   ]
  },
  {
   "cell_type": "code",
   "execution_count": 74,
   "metadata": {},
   "outputs": [
    {
     "data": {
      "text/html": [
       "<div>\n",
       "<style scoped>\n",
       "    .dataframe tbody tr th:only-of-type {\n",
       "        vertical-align: middle;\n",
       "    }\n",
       "\n",
       "    .dataframe tbody tr th {\n",
       "        vertical-align: top;\n",
       "    }\n",
       "\n",
       "    .dataframe thead th {\n",
       "        text-align: right;\n",
       "    }\n",
       "</style>\n",
       "<table border=\"1\" class=\"dataframe\">\n",
       "  <thead>\n",
       "    <tr style=\"text-align: right;\">\n",
       "      <th></th>\n",
       "      <th>file_name</th>\n",
       "      <th>class</th>\n",
       "      <th>xmin</th>\n",
       "      <th>ymin</th>\n",
       "      <th>xmax</th>\n",
       "      <th>ymax</th>\n",
       "      <th>height</th>\n",
       "      <th>width</th>\n",
       "    </tr>\n",
       "  </thead>\n",
       "  <tbody>\n",
       "    <tr>\n",
       "      <td>0</td>\n",
       "      <td>039b687dbee6ec4a.jpg</td>\n",
       "      <td>/m/01g317</td>\n",
       "      <td>103.863296</td>\n",
       "      <td>283.794432</td>\n",
       "      <td>226.743296</td>\n",
       "      <td>588.800256</td>\n",
       "      <td>768</td>\n",
       "      <td>1024</td>\n",
       "    </tr>\n",
       "    <tr>\n",
       "      <td>1</td>\n",
       "      <td>039b687dbee6ec4a.jpg</td>\n",
       "      <td>/m/01g317</td>\n",
       "      <td>383.268864</td>\n",
       "      <td>212.845824</td>\n",
       "      <td>558.811136</td>\n",
       "      <td>626.833920</td>\n",
       "      <td>768</td>\n",
       "      <td>1024</td>\n",
       "    </tr>\n",
       "    <tr>\n",
       "      <td>2</td>\n",
       "      <td>039b687dbee6ec4a.jpg</td>\n",
       "      <td>/m/01g317</td>\n",
       "      <td>542.720000</td>\n",
       "      <td>273.553920</td>\n",
       "      <td>664.868864</td>\n",
       "      <td>629.760000</td>\n",
       "      <td>768</td>\n",
       "      <td>1024</td>\n",
       "    </tr>\n",
       "    <tr>\n",
       "      <td>3</td>\n",
       "      <td>039b687dbee6ec4a.jpg</td>\n",
       "      <td>/m/01g317</td>\n",
       "      <td>683.154432</td>\n",
       "      <td>242.102784</td>\n",
       "      <td>811.154432</td>\n",
       "      <td>632.686080</td>\n",
       "      <td>768</td>\n",
       "      <td>1024</td>\n",
       "    </tr>\n",
       "    <tr>\n",
       "      <td>4</td>\n",
       "      <td>039b687dbee6ec4a.jpg</td>\n",
       "      <td>/m/01g317</td>\n",
       "      <td>733.623296</td>\n",
       "      <td>0.000000</td>\n",
       "      <td>1023.268864</td>\n",
       "      <td>767.268864</td>\n",
       "      <td>768</td>\n",
       "      <td>1024</td>\n",
       "    </tr>\n",
       "  </tbody>\n",
       "</table>\n",
       "</div>"
      ],
      "text/plain": [
       "              file_name      class        xmin        ymin         xmax  \\\n",
       "0  039b687dbee6ec4a.jpg  /m/01g317  103.863296  283.794432   226.743296   \n",
       "1  039b687dbee6ec4a.jpg  /m/01g317  383.268864  212.845824   558.811136   \n",
       "2  039b687dbee6ec4a.jpg  /m/01g317  542.720000  273.553920   664.868864   \n",
       "3  039b687dbee6ec4a.jpg  /m/01g317  683.154432  242.102784   811.154432   \n",
       "4  039b687dbee6ec4a.jpg  /m/01g317  733.623296    0.000000  1023.268864   \n",
       "\n",
       "         ymax  height  width  \n",
       "0  588.800256     768   1024  \n",
       "1  626.833920     768   1024  \n",
       "2  629.760000     768   1024  \n",
       "3  632.686080     768   1024  \n",
       "4  767.268864     768   1024  "
      ]
     },
     "execution_count": 74,
     "metadata": {},
     "output_type": "execute_result"
    }
   ],
   "source": [
    "df.head()"
   ]
  },
  {
   "cell_type": "markdown",
   "metadata": {},
   "source": [
    "We need to convert annotation format into .xml for darknet."
   ]
  },
  {
   "cell_type": "code",
   "execution_count": 14,
   "metadata": {},
   "outputs": [],
   "source": [
    "def convert_row(row, class_name='car', root_path='/Users/melodi/Docs/images/'):\n",
    "    class_codes = {'/m/01g317':'Person', '/m/0k4j':'Car'}\n",
    "    vals = ('train', row['file_name'], root_path + row['file_name'], str(row['width']), str(row['height']),)\n",
    "    for i in range(len(row['class'])):\n",
    "        vals = vals + (class_codes[row['class'][i]].lower(),str(row['xmin'][i]), str(row['ymin'][i]), str(row['xmax'][i]), str(row['ymax'][i]),)\n",
    "    \n",
    "    result = \"\"\"<annotation>\n",
    "    <folder>%s</folder>\n",
    "    <filename>%s</filename>\n",
    "    <path>%s</path>\n",
    "    <source>\n",
    "        <database>Unknown</database>\n",
    "    </source>\n",
    "    <size>\n",
    "        <width>%s</width>\n",
    "        <height>%s</height>\n",
    "        <depth>3</depth>\n",
    "    </size>\n",
    "    <segmented>0</segmented>\n",
    "    \"\"\" + \"\"\"<object>\n",
    "        <name>%s</name>\n",
    "        <pose>Unspecified</pose>\n",
    "        <truncated>0</truncated>\n",
    "        <difficult>0</difficult>\n",
    "        <bndbox>\n",
    "            <xmin>%s</xmin>\n",
    "            <ymin>%s</ymin>\n",
    "            <xmax>%s</xmax>\n",
    "            <ymax>%s</ymax>\n",
    "        </bndbox>\n",
    "    </object>\"\"\" * len(row['class']) +\"\"\"\n",
    "</annotation>\n",
    "\"\"\" \n",
    "    result = result % vals\n",
    "    filename = row['file_name'].split('.')[0]\n",
    "    path = '/Users/melodi/Docs/annots/' + filename\n",
    "    f =  open(path + \".xml\", \"w\")\n",
    "    f.write(result)\n",
    "    f.close()\n"
   ]
  },
  {
   "cell_type": "markdown",
   "metadata": {},
   "source": [
    "We will group by file_name and aggreagate in a list in the case of multiple objects."
   ]
  },
  {
   "cell_type": "code",
   "execution_count": 75,
   "metadata": {},
   "outputs": [],
   "source": [
    "df_grouped = df.groupby('file_name')['class'].apply(list).reset_index(name='class')\n",
    "for column in df.columns[2:]:\n",
    "    df_new = df.groupby('file_name')[column].apply(list).reset_index(name=column)\n",
    "    df_grouped = df_grouped.merge(df_new, on=['file_name'])"
   ]
  },
  {
   "cell_type": "code",
   "execution_count": 76,
   "metadata": {},
   "outputs": [],
   "source": [
    "# height and width is the same\n",
    "df_grouped['height'] = df_grouped['height'].apply(lambda x: x[0])\n",
    "df_grouped['width'] = df_grouped['width'].apply(lambda x: x[0])"
   ]
  },
  {
   "cell_type": "code",
   "execution_count": 77,
   "metadata": {},
   "outputs": [
    {
     "data": {
      "text/html": [
       "<div>\n",
       "<style scoped>\n",
       "    .dataframe tbody tr th:only-of-type {\n",
       "        vertical-align: middle;\n",
       "    }\n",
       "\n",
       "    .dataframe tbody tr th {\n",
       "        vertical-align: top;\n",
       "    }\n",
       "\n",
       "    .dataframe thead th {\n",
       "        text-align: right;\n",
       "    }\n",
       "</style>\n",
       "<table border=\"1\" class=\"dataframe\">\n",
       "  <thead>\n",
       "    <tr style=\"text-align: right;\">\n",
       "      <th></th>\n",
       "      <th>file_name</th>\n",
       "      <th>class</th>\n",
       "      <th>xmin</th>\n",
       "      <th>ymin</th>\n",
       "      <th>xmax</th>\n",
       "      <th>ymax</th>\n",
       "      <th>height</th>\n",
       "      <th>width</th>\n",
       "    </tr>\n",
       "  </thead>\n",
       "  <tbody>\n",
       "    <tr>\n",
       "      <td>0</td>\n",
       "      <td>039b687dbee6ec4a.jpg</td>\n",
       "      <td>/m/01g317</td>\n",
       "      <td>103.863296</td>\n",
       "      <td>283.794432</td>\n",
       "      <td>226.743296</td>\n",
       "      <td>588.800256</td>\n",
       "      <td>768</td>\n",
       "      <td>1024</td>\n",
       "    </tr>\n",
       "    <tr>\n",
       "      <td>1</td>\n",
       "      <td>039b687dbee6ec4a.jpg</td>\n",
       "      <td>/m/01g317</td>\n",
       "      <td>383.268864</td>\n",
       "      <td>212.845824</td>\n",
       "      <td>558.811136</td>\n",
       "      <td>626.833920</td>\n",
       "      <td>768</td>\n",
       "      <td>1024</td>\n",
       "    </tr>\n",
       "    <tr>\n",
       "      <td>2</td>\n",
       "      <td>039b687dbee6ec4a.jpg</td>\n",
       "      <td>/m/01g317</td>\n",
       "      <td>542.720000</td>\n",
       "      <td>273.553920</td>\n",
       "      <td>664.868864</td>\n",
       "      <td>629.760000</td>\n",
       "      <td>768</td>\n",
       "      <td>1024</td>\n",
       "    </tr>\n",
       "    <tr>\n",
       "      <td>3</td>\n",
       "      <td>039b687dbee6ec4a.jpg</td>\n",
       "      <td>/m/01g317</td>\n",
       "      <td>683.154432</td>\n",
       "      <td>242.102784</td>\n",
       "      <td>811.154432</td>\n",
       "      <td>632.686080</td>\n",
       "      <td>768</td>\n",
       "      <td>1024</td>\n",
       "    </tr>\n",
       "    <tr>\n",
       "      <td>4</td>\n",
       "      <td>039b687dbee6ec4a.jpg</td>\n",
       "      <td>/m/01g317</td>\n",
       "      <td>733.623296</td>\n",
       "      <td>0.000000</td>\n",
       "      <td>1023.268864</td>\n",
       "      <td>767.268864</td>\n",
       "      <td>768</td>\n",
       "      <td>1024</td>\n",
       "    </tr>\n",
       "  </tbody>\n",
       "</table>\n",
       "</div>"
      ],
      "text/plain": [
       "              file_name      class        xmin        ymin         xmax  \\\n",
       "0  039b687dbee6ec4a.jpg  /m/01g317  103.863296  283.794432   226.743296   \n",
       "1  039b687dbee6ec4a.jpg  /m/01g317  383.268864  212.845824   558.811136   \n",
       "2  039b687dbee6ec4a.jpg  /m/01g317  542.720000  273.553920   664.868864   \n",
       "3  039b687dbee6ec4a.jpg  /m/01g317  683.154432  242.102784   811.154432   \n",
       "4  039b687dbee6ec4a.jpg  /m/01g317  733.623296    0.000000  1023.268864   \n",
       "\n",
       "         ymax  height  width  \n",
       "0  588.800256     768   1024  \n",
       "1  626.833920     768   1024  \n",
       "2  629.760000     768   1024  \n",
       "3  632.686080     768   1024  \n",
       "4  767.268864     768   1024  "
      ]
     },
     "execution_count": 77,
     "metadata": {},
     "output_type": "execute_result"
    }
   ],
   "source": [
    "df.head()"
   ]
  },
  {
   "cell_type": "code",
   "execution_count": 17,
   "metadata": {},
   "outputs": [
    {
     "data": {
      "text/plain": [
       "0      None\n",
       "1      None\n",
       "2      None\n",
       "3      None\n",
       "4      None\n",
       "       ... \n",
       "129    None\n",
       "130    None\n",
       "131    None\n",
       "132    None\n",
       "133    None\n",
       "Length: 134, dtype: object"
      ]
     },
     "execution_count": 17,
     "metadata": {},
     "output_type": "execute_result"
    }
   ],
   "source": [
    "df_grouped.apply(convert_row,axis=1)"
   ]
  },
  {
   "cell_type": "markdown",
   "metadata": {},
   "source": [
    "### Darknet"
   ]
  },
  {
   "cell_type": "code",
   "execution_count": 32,
   "metadata": {
    "scrolled": true
   },
   "outputs": [],
   "source": [
    "import cv2\n",
    "from darkflow.net.build import TFNet\n",
    "import matplotlib.pyplot as plt\n",
    "%config InlineBackend.figure_format = 'svg'"
   ]
  },
  {
   "cell_type": "code",
   "execution_count": 19,
   "metadata": {},
   "outputs": [],
   "source": [
    "options = {\"model\": \"/Users/melodi/remo-python/cfg/yolov2.cfg\", \n",
    "           \"load\": \"/Users/melodi/remo-python/bin/yolov2.weights\",\n",
    "           \"batch\": 40,\n",
    "           \"epoch\": 1,\n",
    "           \"train\": True,\n",
    "           \"verbalise\": False,\n",
    "           \"annotation\": \"/Users/melodi/Docs/annots/\",\n",
    "           \"dataset\": \"/Users/melodi/Docs/images/\",\n",
    "           \"labels\": \"/Users/melodi/remo-python/labels.txt\",\n",
    "          \"backup\": \"/Users/melodi/remo-python/ckpt/\"}"
   ]
  },
  {
   "cell_type": "code",
   "execution_count": 20,
   "metadata": {},
   "outputs": [
    {
     "name": "stdout",
     "output_type": "stream",
     "text": [
      "Parsing /Users/melodi/Docs/remo-python/cfg/yolov2.cfg\n",
      "Loading /Users/melodi/Docs/remo-python/bin/yolov2.weights ...\n",
      "Successfully identified 203934260 bytes\n",
      "Finished in 1.413050889968872s\n",
      "/Users/melodi/Docs/remo-python/cfg/yolov2.cfg loss hyper-parameters:\n",
      "\tH       = 19\n",
      "\tW       = 19\n",
      "\tbox     = 5\n",
      "\tclasses = 80\n",
      "\tscales  = [1.0, 5.0, 1.0, 1.0]\n",
      "WARNING:tensorflow:From /Users/melodi/opt/anaconda3/lib/python3.7/site-packages/darkflow/net/yolov2/train.py:87: to_float (from tensorflow.python.ops.math_ops) is deprecated and will be removed in a future version.\n",
      "Instructions for updating:\n",
      "Use `tf.cast` instead.\n",
      "Building /Users/melodi/Docs/remo-python/cfg/yolov2.cfg loss\n",
      "WARNING:tensorflow:From /Users/melodi/opt/anaconda3/lib/python3.7/site-packages/darkflow/net/yolov2/train.py:107: The name tf.summary.scalar is deprecated. Please use tf.compat.v1.summary.scalar instead.\n",
      "\n",
      "INFO:tensorflow:Summary name /Users/melodi/Docs/remo-python/cfg/yolov2.cfg loss is illegal; using Users/melodi/Docs/remo-python/cfg/yolov2.cfg_loss instead.\n",
      "WARNING:tensorflow:From /Users/melodi/opt/anaconda3/lib/python3.7/site-packages/tensorflow/python/ops/math_grad.py:1205: add_dispatch_support.<locals>.wrapper (from tensorflow.python.ops.array_ops) is deprecated and will be removed in a future version.\n",
      "Instructions for updating:\n",
      "Use tf.where in 2.0, which has the same broadcast rule as np.where\n",
      "WARNING:tensorflow:From /Users/melodi/opt/anaconda3/lib/python3.7/site-packages/tensorflow/python/training/rmsprop.py:119: calling Ones.__init__ (from tensorflow.python.ops.init_ops) with dtype is deprecated and will be removed in a future version.\n",
      "Instructions for updating:\n",
      "Call initializer instance with the dtype argument instead of passing it to the constructor\n"
     ]
    }
   ],
   "source": [
    "tfnet = TFNet(options)"
   ]
  },
  {
   "cell_type": "code",
   "execution_count": null,
   "metadata": {},
   "outputs": [
    {
     "name": "stdout",
     "output_type": "stream",
     "text": [
      "\n",
      "/Users/melodi/Docs/remo-python/cfg/yolov2.cfg parsing /Users/melodi/Docs/annots/\n",
      "Parsing for ['person', 'bicycle', 'car', 'motorbike', 'aeroplane', 'bus', 'train', 'truck', 'boat', 'traffic light', 'fire hydrant', 'stop sign', 'parking meter', 'bench', 'bird', 'cat', 'dog', 'horse', 'sheep', 'cow', 'elephant', 'bear', 'zebra', 'giraffe', 'backpack', 'umbrella', 'handbag', 'tie', 'suitcase', 'frisbee', 'skis', 'snowboard', 'sports ball', 'kite', 'baseball bat', 'baseball glove', 'skateboard', 'surfboard', 'tennis racket', 'bottle', 'wine glass', 'cup', 'fork', 'knife', 'spoon', 'bowl', 'banana', 'apple', 'sandwich', 'orange', 'broccoli', 'carrot', 'hot dog', 'pizza', 'donut', 'cake', 'chair', 'sofa', 'pottedplant', 'bed', 'diningtable', 'toilet', 'tvmonitor', 'laptop', 'mouse', 'remote', 'keyboard', 'cell phone', 'microwave', 'oven', 'toaster', 'sink', 'refrigerator', 'book', 'clock', 'vase', 'scissors', 'teddy bear', 'hair drier', 'toothbrush'] \n",
      "[====================>]100%  09e3c15d734763b1.xml\n",
      "Statistics:\n",
      "car: 194\n",
      "person: 296\n",
      "Dataset size: 134\n",
      "Dataset of 134 instance(s)\n"
     ]
    }
   ],
   "source": [
    "tfnet.train()"
   ]
  },
  {
   "cell_type": "code",
   "execution_count": 24,
   "metadata": {},
   "outputs": [
    {
     "name": "stdout",
     "output_type": "stream",
     "text": [
      "Parsing /Users/melodi/Docs/remo-python/cfg/yolov2.cfg\n",
      "Loading None ...\n",
      "Finished in 0.00019788742065429688s\n",
      "INFO:tensorflow:Restoring parameters from /Users/melodi/Docs/remo-python/ckpt/yolov2-3\n"
     ]
    }
   ],
   "source": [
    "options = {\n",
    " \"model\": \"/Users/melodi/remo-python/cfg/yolov2.cfg\", \n",
    "   \"load\": 3,\n",
    " 'threshold': 0.5,\n",
    "    \"verbalise\": False,\n",
    "    \"labels\": \"/Users/melodi/remo-python/labels.txt\",\n",
    "  \"backup\": \"/Users/melodi/remo-python/ckpt/\"}\n",
    "\n",
    "tfnet2 = TFNet(options)"
   ]
  },
  {
   "cell_type": "code",
   "execution_count": 25,
   "metadata": {},
   "outputs": [
    {
     "name": "stdout",
     "output_type": "stream",
     "text": [
      "INFO:tensorflow:Restoring parameters from /Users/melodi/Docs/remo-python/ckpt/yolov2-3\n"
     ]
    }
   ],
   "source": [
    "tfnet2.load_from_ckpt()"
   ]
  },
  {
   "cell_type": "markdown",
   "metadata": {},
   "source": [
    "### Visualize Predictions in Remo"
   ]
  },
  {
   "cell_type": "markdown",
   "metadata": {},
   "source": [
    "We feed our validation set into the model and prepare the results to upload Remo."
   ]
  },
  {
   "cell_type": "code",
   "execution_count": 34,
   "metadata": {},
   "outputs": [],
   "source": [
    "import os \n",
    "cars = os.listdir('/Users/melodi/remo-python/val/Car')\n",
    "results = []\n",
    "for img_file in cars:\n",
    "    original_img = cv2.imread('/Users/melodi/remo-python/val/Car/'+img_file)\n",
    "    original_img = cv2.cvtColor(original_img, cv2.COLOR_BGR2RGB)\n",
    "    outputs = tfnet2.return_predict(original_img)\n",
    "    result = {'file_name':img_file, 'objects':outputs}\n",
    "    results.append(result)"
   ]
  },
  {
   "cell_type": "code",
   "execution_count": 35,
   "metadata": {},
   "outputs": [],
   "source": [
    "people = os.listdir('/Users/melodi/remo-python/val/Person')\n",
    "for img_file in people:\n",
    "    original_img = cv2.imread('/Users/melodi/remo-python/val/Person/'+img_file)\n",
    "    original_img = cv2.cvtColor(original_img, cv2.COLOR_BGR2RGB)\n",
    "    outputs = tfnet2.return_predict(original_img)\n",
    "    result = {'file_name':img_file, 'objects':outputs}\n",
    "    results.append(result)"
   ]
  },
  {
   "cell_type": "markdown",
   "metadata": {},
   "source": [
    "Each output consists to a dictionary containing file_name and objects. "
   ]
  },
  {
   "cell_type": "markdown",
   "metadata": {},
   "source": [
    "Then we will convert this into dataframe in order to feed into Remo as below."
   ]
  },
  {
   "cell_type": "code",
   "execution_count": 44,
   "metadata": {},
   "outputs": [],
   "source": [
    "import pandas as pd\n",
    "df = pd.DataFrame(columns=['file_name','class','xmin','ymin','xmax','ymax'])\n",
    "for res in results:\n",
    "    for i in range(len(res['objects'])):\n",
    "        df.loc[len(df)+1] = [res['file_name'],d.get(res['objects'][i]['label']).capitalize(),res['objects'][i]['topleft']['x'],res['objects'][i]['topleft']['y'], res['objects'][i]['bottomright']['x'], res['objects'][i]['bottomright']['y']]"
   ]
  },
  {
   "cell_type": "code",
   "execution_count": 11,
   "metadata": {},
   "outputs": [
    {
     "data": {
      "text/html": [
       "<div>\n",
       "<style scoped>\n",
       "    .dataframe tbody tr th:only-of-type {\n",
       "        vertical-align: middle;\n",
       "    }\n",
       "\n",
       "    .dataframe tbody tr th {\n",
       "        vertical-align: top;\n",
       "    }\n",
       "\n",
       "    .dataframe thead th {\n",
       "        text-align: right;\n",
       "    }\n",
       "</style>\n",
       "<table border=\"1\" class=\"dataframe\">\n",
       "  <thead>\n",
       "    <tr style=\"text-align: right;\">\n",
       "      <th></th>\n",
       "      <th>file_name</th>\n",
       "      <th>class</th>\n",
       "      <th>xmin</th>\n",
       "      <th>ymin</th>\n",
       "      <th>xmax</th>\n",
       "      <th>ymax</th>\n",
       "    </tr>\n",
       "  </thead>\n",
       "  <tbody>\n",
       "    <tr>\n",
       "      <td>0</td>\n",
       "      <td>0004d295cfb46842.jpg</td>\n",
       "      <td>Person</td>\n",
       "      <td>858</td>\n",
       "      <td>411</td>\n",
       "      <td>927</td>\n",
       "      <td>607</td>\n",
       "    </tr>\n",
       "    <tr>\n",
       "      <td>1</td>\n",
       "      <td>0004d295cfb46842.jpg</td>\n",
       "      <td>Car</td>\n",
       "      <td>166</td>\n",
       "      <td>409</td>\n",
       "      <td>249</td>\n",
       "      <td>451</td>\n",
       "    </tr>\n",
       "    <tr>\n",
       "      <td>2</td>\n",
       "      <td>0004d295cfb46842.jpg</td>\n",
       "      <td>Car</td>\n",
       "      <td>547</td>\n",
       "      <td>423</td>\n",
       "      <td>668</td>\n",
       "      <td>484</td>\n",
       "    </tr>\n",
       "    <tr>\n",
       "      <td>3</td>\n",
       "      <td>0004d295cfb46842.jpg</td>\n",
       "      <td>Car</td>\n",
       "      <td>747</td>\n",
       "      <td>424</td>\n",
       "      <td>901</td>\n",
       "      <td>499</td>\n",
       "    </tr>\n",
       "    <tr>\n",
       "      <td>4</td>\n",
       "      <td>006cc2c07c881fe0.jpg</td>\n",
       "      <td>Person</td>\n",
       "      <td>711</td>\n",
       "      <td>221</td>\n",
       "      <td>752</td>\n",
       "      <td>326</td>\n",
       "    </tr>\n",
       "  </tbody>\n",
       "</table>\n",
       "</div>"
      ],
      "text/plain": [
       "              file_name   class  xmin  ymin  xmax  ymax\n",
       "0  0004d295cfb46842.jpg  Person   858   411   927   607\n",
       "1  0004d295cfb46842.jpg     Car   166   409   249   451\n",
       "2  0004d295cfb46842.jpg     Car   547   423   668   484\n",
       "3  0004d295cfb46842.jpg     Car   747   424   901   499\n",
       "4  006cc2c07c881fe0.jpg  Person   711   221   752   326"
      ]
     },
     "execution_count": 11,
     "metadata": {},
     "output_type": "execute_result"
    }
   ],
   "source": [
    "df.head()"
   ]
  },
  {
   "cell_type": "code",
   "execution_count": 53,
   "metadata": {},
   "outputs": [],
   "source": [
    "# drop the other classes different than car and person.\n",
    "df = df.dropna(subset=['class'])"
   ]
  },
  {
   "cell_type": "code",
   "execution_count": null,
   "metadata": {},
   "outputs": [],
   "source": [
    "df.to_csv('/Users/melodi/Docs/remo-python/example/detection_preds_raw1.csv',index=False)"
   ]
  },
  {
   "cell_type": "markdown",
   "metadata": {},
   "source": [
    "We will upload this .csv file into Remo dataset."
   ]
  },
  {
   "cell_type": "code",
   "execution_count": 13,
   "metadata": {},
   "outputs": [
    {
     "data": {
      "text/plain": [
       "{'id': 39,\n",
       " 'name': 'Car',\n",
       " 'released_at': None,\n",
       " 'updated_at': '2020-01-29T09:55:14.767706Z',\n",
       " 'task': 1,\n",
       " 'dataset': 28,\n",
       " 'last_annotated_date': None,\n",
       " 'classes': [{'id': 34, 'name': 'Car'}, {'id': 1, 'name': 'Person'}],\n",
       " 'is_last_modified': False,\n",
       " 'type': 'image',\n",
       " 'is_public': False}"
      ]
     },
     "execution_count": 13,
     "metadata": {},
     "output_type": "execute_result"
    }
   ],
   "source": [
    "my_dataset.create_annotation_set(annotation_task='Object detection', name='Det',classes=[\"Person\",\"Car\"])"
   ]
  },
  {
   "cell_type": "code",
   "execution_count": 6,
   "metadata": {},
   "outputs": [
    {
     "name": "stdout",
     "output_type": "stream",
     "text": [
      "{'objects': [{'name': 'OBJ 0', 'coordinates': [{'x': 858.0, 'y': 411.0}, {'x': 927.0, 'y': 607.0}], 'auto_created': False, 'position_number': 1, 'classes': [{'name': 'Person', 'lower': 'person', 'questionable': False}], 'objectId': 0, 'isHidden': False}]}\n",
      "{'objects': [{'name': 'OBJ 1', 'coordinates': [{'x': 166.0, 'y': 409.0}, {'x': 249.0, 'y': 451.0}], 'auto_created': False, 'position_number': 1, 'classes': [{'name': 'Car', 'lower': 'car', 'questionable': False}], 'objectId': 1, 'isHidden': False}]}\n",
      "{'objects': [{'name': 'OBJ 2', 'coordinates': [{'x': 547.0, 'y': 423.0}, {'x': 668.0, 'y': 484.0}], 'auto_created': False, 'position_number': 1, 'classes': [{'name': 'Car', 'lower': 'car', 'questionable': False}], 'objectId': 2, 'isHidden': False}]}\n",
      "{'objects': [{'name': 'OBJ 3', 'coordinates': [{'x': 747.0, 'y': 424.0}, {'x': 901.0, 'y': 499.0}], 'auto_created': False, 'position_number': 1, 'classes': [{'name': 'Car', 'lower': 'car', 'questionable': False}], 'objectId': 3, 'isHidden': False}]}\n",
      "{'objects': [{'name': 'OBJ 0', 'coordinates': [{'x': 711.0, 'y': 221.0}, {'x': 752.0, 'y': 326.0}], 'auto_created': False, 'position_number': 1, 'classes': [{'name': 'Person', 'lower': 'person', 'questionable': False}], 'objectId': 0, 'isHidden': False}]}\n",
      "{'objects': [{'name': 'OBJ 1', 'coordinates': [{'x': 1.0, 'y': 225.0}, {'x': 130.0, 'y': 333.0}], 'auto_created': False, 'position_number': 1, 'classes': [{'name': 'Car', 'lower': 'car', 'questionable': False}], 'objectId': 1, 'isHidden': False}]}\n",
      "{'objects': [{'name': 'OBJ 2', 'coordinates': [{'x': 143.0, 'y': 232.0}, {'x': 230.0, 'y': 286.0}], 'auto_created': False, 'position_number': 1, 'classes': [{'name': 'Car', 'lower': 'car', 'questionable': False}], 'objectId': 2, 'isHidden': False}]}\n",
      "{'objects': [{'name': 'OBJ 3', 'coordinates': [{'x': 292.0, 'y': 237.0}, {'x': 347.0, 'y': 279.0}], 'auto_created': False, 'position_number': 1, 'classes': [{'name': 'Car', 'lower': 'car', 'questionable': False}], 'objectId': 3, 'isHidden': False}]}\n",
      "{'objects': [{'name': 'OBJ 4', 'coordinates': [{'x': 118.0, 'y': 275.0}, {'x': 813.0, 'y': 566.0}], 'auto_created': False, 'position_number': 1, 'classes': [{'name': 'Car', 'lower': 'car', 'questionable': False}], 'objectId': 4, 'isHidden': False}]}\n",
      "{'objects': [{'name': 'OBJ 0', 'coordinates': [{'x': 261.0, 'y': 108.0}, {'x': 316.0, 'y': 174.0}], 'auto_created': False, 'position_number': 1, 'classes': [{'name': 'Person', 'lower': 'person', 'questionable': False}], 'objectId': 0, 'isHidden': False}]}\n",
      "{'objects': [{'name': 'OBJ 1', 'coordinates': [{'x': 135.0, 'y': 162.0}, {'x': 873.0, 'y': 482.0}], 'auto_created': False, 'position_number': 1, 'classes': [{'name': 'Car', 'lower': 'car', 'questionable': False}], 'objectId': 1, 'isHidden': False}]}\n",
      "{'objects': [{'name': 'OBJ 0', 'coordinates': [{'x': 887.0, 'y': 255.0}, {'x': 925.0, 'y': 343.0}], 'auto_created': False, 'position_number': 1, 'classes': [{'name': 'Person', 'lower': 'person', 'questionable': False}], 'objectId': 0, 'isHidden': False}]}\n",
      "{'objects': [{'name': 'OBJ 1', 'coordinates': [{'x': 167.0, 'y': 269.0}, {'x': 947.0, 'y': 606.0}], 'auto_created': False, 'position_number': 1, 'classes': [{'name': 'Car', 'lower': 'car', 'questionable': False}], 'objectId': 1, 'isHidden': False}]}\n",
      "{'objects': [{'name': 'OBJ 0', 'coordinates': [{'x': 617.0, 'y': 382.0}, {'x': 810.0, 'y': 538.0}], 'auto_created': False, 'position_number': 1, 'classes': [{'name': 'Person', 'lower': 'person', 'questionable': False}], 'objectId': 0, 'isHidden': False}]}\n",
      "{'objects': [{'name': 'OBJ 1', 'coordinates': [{'x': 869.0, 'y': 404.0}, {'x': 1023.0, 'y': 510.0}], 'auto_created': False, 'position_number': 1, 'classes': [{'name': 'Person', 'lower': 'person', 'questionable': False}], 'objectId': 1, 'isHidden': False}]}\n",
      "{'objects': [{'name': 'OBJ 2', 'coordinates': [{'x': 0.0, 'y': 449.0}, {'x': 207.0, 'y': 658.0}], 'auto_created': False, 'position_number': 1, 'classes': [{'name': 'Car', 'lower': 'car', 'questionable': False}], 'objectId': 2, 'isHidden': False}]}\n",
      "{'objects': [{'name': 'OBJ 3', 'coordinates': [{'x': 1.0, 'y': 697.0}, {'x': 86.0, 'y': 767.0}], 'auto_created': False, 'position_number': 1, 'classes': [{'name': 'Car', 'lower': 'car', 'questionable': False}], 'objectId': 3, 'isHidden': False}]}\n",
      "{'objects': [{'name': 'OBJ 0', 'coordinates': [{'x': 215.0, 'y': 112.0}, {'x': 266.0, 'y': 230.0}], 'auto_created': False, 'position_number': 1, 'classes': [{'name': 'Person', 'lower': 'person', 'questionable': False}], 'objectId': 0, 'isHidden': False}]}\n",
      "{'objects': [{'name': 'OBJ 1', 'coordinates': [{'x': 546.0, 'y': 124.0}, {'x': 588.0, 'y': 220.0}], 'auto_created': False, 'position_number': 1, 'classes': [{'name': 'Person', 'lower': 'person', 'questionable': False}], 'objectId': 1, 'isHidden': False}]}\n",
      "{'objects': [{'name': 'OBJ 2', 'coordinates': [{'x': 914.0, 'y': 154.0}, {'x': 927.0, 'y': 176.0}], 'auto_created': False, 'position_number': 1, 'classes': [{'name': 'Person', 'lower': 'person', 'questionable': False}], 'objectId': 2, 'isHidden': False}]}\n",
      "{'objects': [{'name': 'OBJ 3', 'coordinates': [{'x': 149.0, 'y': 117.0}, {'x': 203.0, 'y': 247.0}], 'auto_created': False, 'position_number': 1, 'classes': [{'name': 'Person', 'lower': 'person', 'questionable': False}], 'objectId': 3, 'isHidden': False}]}\n",
      "{'objects': [{'name': 'OBJ 4', 'coordinates': [{'x': 594.0, 'y': 132.0}, {'x': 623.0, 'y': 230.0}], 'auto_created': False, 'position_number': 1, 'classes': [{'name': 'Person', 'lower': 'person', 'questionable': False}], 'objectId': 4, 'isHidden': False}]}\n",
      "{'objects': [{'name': 'OBJ 0', 'coordinates': [{'x': 430.0, 'y': 415.0}, {'x': 1023.0, 'y': 752.0}], 'auto_created': False, 'position_number': 1, 'classes': [{'name': 'Car', 'lower': 'car', 'questionable': False}], 'objectId': 0, 'isHidden': False}]}\n",
      "{'objects': [{'name': 'OBJ 0', 'coordinates': [{'x': 215.0, 'y': 338.0}, {'x': 798.0, 'y': 483.0}], 'auto_created': False, 'position_number': 1, 'classes': [{'name': 'Car', 'lower': 'car', 'questionable': False}], 'objectId': 0, 'isHidden': False}]}\n",
      "{'objects': [{'name': 'OBJ 0', 'coordinates': [{'x': 6.0, 'y': 314.0}, {'x': 143.0, 'y': 367.0}], 'auto_created': False, 'position_number': 1, 'classes': [{'name': 'Car', 'lower': 'car', 'questionable': False}], 'objectId': 0, 'isHidden': False}]}\n",
      "{'objects': [{'name': 'OBJ 1', 'coordinates': [{'x': 112.0, 'y': 293.0}, {'x': 1020.0, 'y': 767.0}], 'auto_created': False, 'position_number': 1, 'classes': [{'name': 'Car', 'lower': 'car', 'questionable': False}], 'objectId': 1, 'isHidden': False}]}\n",
      "{'objects': [{'name': 'OBJ 0', 'coordinates': [{'x': 171.0, 'y': 775.0}, {'x': 200.0, 'y': 902.0}], 'auto_created': False, 'position_number': 1, 'classes': [{'name': 'Person', 'lower': 'person', 'questionable': False}], 'objectId': 0, 'isHidden': False}]}\n",
      "{'objects': [{'name': 'OBJ 1', 'coordinates': [{'x': 588.0, 'y': 777.0}, {'x': 767.0, 'y': 1023.0}], 'auto_created': False, 'position_number': 1, 'classes': [{'name': 'Car', 'lower': 'car', 'questionable': False}], 'objectId': 1, 'isHidden': False}]}\n",
      "{'objects': [{'name': 'OBJ 2', 'coordinates': [{'x': 7.0, 'y': 836.0}, {'x': 219.0, 'y': 1018.0}], 'auto_created': False, 'position_number': 1, 'classes': [{'name': 'Car', 'lower': 'car', 'questionable': False}], 'objectId': 2, 'isHidden': False}]}\n",
      "{'objects': [{'name': 'OBJ 0', 'coordinates': [{'x': 641.0, 'y': 243.0}, {'x': 767.0, 'y': 484.0}], 'auto_created': False, 'position_number': 1, 'classes': [{'name': 'Car', 'lower': 'car', 'questionable': False}], 'objectId': 0, 'isHidden': False}]}\n",
      "{'objects': [{'name': 'OBJ 0', 'coordinates': [{'x': 83.0, 'y': 206.0}, {'x': 809.0, 'y': 500.0}], 'auto_created': False, 'position_number': 1, 'classes': [{'name': 'Car', 'lower': 'car', 'questionable': False}], 'objectId': 0, 'isHidden': False}]}\n",
      "{'objects': [{'name': 'OBJ 0', 'coordinates': [{'x': 843.0, 'y': 450.0}, {'x': 934.0, 'y': 512.0}], 'auto_created': False, 'position_number': 1, 'classes': [{'name': 'Car', 'lower': 'car', 'questionable': False}], 'objectId': 0, 'isHidden': False}]}\n",
      "{'objects': [{'name': 'OBJ 1', 'coordinates': [{'x': 605.0, 'y': 430.0}, {'x': 802.0, 'y': 573.0}], 'auto_created': False, 'position_number': 1, 'classes': [{'name': 'Car', 'lower': 'car', 'questionable': False}], 'objectId': 1, 'isHidden': False}]}\n"
     ]
    },
    {
     "name": "stdout",
     "output_type": "stream",
     "text": [
      "{'objects': [{'name': 'OBJ 2', 'coordinates': [{'x': 883.0, 'y': 463.0}, {'x': 1013.0, 'y': 556.0}], 'auto_created': False, 'position_number': 1, 'classes': [{'name': 'Car', 'lower': 'car', 'questionable': False}], 'objectId': 2, 'isHidden': False}]}\n",
      "{'objects': [{'name': 'OBJ 3', 'coordinates': [{'x': 9.0, 'y': 499.0}, {'x': 146.0, 'y': 681.0}], 'auto_created': False, 'position_number': 1, 'classes': [{'name': 'Car', 'lower': 'car', 'questionable': False}], 'objectId': 3, 'isHidden': False}]}\n",
      "{'objects': [{'name': 'OBJ 0', 'coordinates': [{'x': 533.0, 'y': 356.0}, {'x': 574.0, 'y': 483.0}], 'auto_created': False, 'position_number': 1, 'classes': [{'name': 'Person', 'lower': 'person', 'questionable': False}], 'objectId': 0, 'isHidden': False}]}\n",
      "{'objects': [{'name': 'OBJ 1', 'coordinates': [{'x': 594.0, 'y': 353.0}, {'x': 640.0, 'y': 502.0}], 'auto_created': False, 'position_number': 1, 'classes': [{'name': 'Person', 'lower': 'person', 'questionable': False}], 'objectId': 1, 'isHidden': False}]}\n",
      "{'objects': [{'name': 'OBJ 2', 'coordinates': [{'x': 87.0, 'y': 352.0}, {'x': 174.0, 'y': 608.0}], 'auto_created': False, 'position_number': 1, 'classes': [{'name': 'Person', 'lower': 'person', 'questionable': False}], 'objectId': 2, 'isHidden': False}]}\n",
      "{'objects': [{'name': 'OBJ 3', 'coordinates': [{'x': 255.0, 'y': 355.0}, {'x': 410.0, 'y': 503.0}], 'auto_created': False, 'position_number': 1, 'classes': [{'name': 'Car', 'lower': 'car', 'questionable': False}], 'objectId': 3, 'isHidden': False}]}\n",
      "{'objects': [{'name': 'OBJ 0', 'coordinates': [{'x': 785.0, 'y': 190.0}, {'x': 871.0, 'y': 369.0}], 'auto_created': False, 'position_number': 1, 'classes': [{'name': 'Person', 'lower': 'person', 'questionable': False}], 'objectId': 0, 'isHidden': False}]}\n",
      "{'objects': [{'name': 'OBJ 1', 'coordinates': [{'x': 895.0, 'y': 166.0}, {'x': 966.0, 'y': 357.0}], 'auto_created': False, 'position_number': 1, 'classes': [{'name': 'Person', 'lower': 'person', 'questionable': False}], 'objectId': 1, 'isHidden': False}]}\n",
      "{'objects': [{'name': 'OBJ 0', 'coordinates': [{'x': 129.0, 'y': 155.0}, {'x': 545.0, 'y': 767.0}], 'auto_created': False, 'position_number': 1, 'classes': [{'name': 'Person', 'lower': 'person', 'questionable': False}], 'objectId': 0, 'isHidden': False}]}\n",
      "{'objects': [{'name': 'OBJ 1', 'coordinates': [{'x': 474.0, 'y': 221.0}, {'x': 882.0, 'y': 767.0}], 'auto_created': False, 'position_number': 1, 'classes': [{'name': 'Person', 'lower': 'person', 'questionable': False}], 'objectId': 1, 'isHidden': False}]}\n",
      "{'objects': [{'name': 'OBJ 2', 'coordinates': [{'x': 7.0, 'y': 40.0}, {'x': 295.0, 'y': 167.0}], 'auto_created': False, 'position_number': 1, 'classes': [{'name': 'Car', 'lower': 'car', 'questionable': False}], 'objectId': 2, 'isHidden': False}]}\n",
      "{'objects': [{'name': 'OBJ 3', 'coordinates': [{'x': 673.0, 'y': 21.0}, {'x': 1023.0, 'y': 353.0}], 'auto_created': False, 'position_number': 1, 'classes': [{'name': 'Car', 'lower': 'car', 'questionable': False}], 'objectId': 3, 'isHidden': False}]}\n",
      "{'objects': [{'name': 'OBJ 0', 'coordinates': [{'x': 0.0, 'y': 656.0}, {'x': 139.0, 'y': 740.0}], 'auto_created': False, 'position_number': 1, 'classes': [{'name': 'Car', 'lower': 'car', 'questionable': False}], 'objectId': 0, 'isHidden': False}]}\n",
      "{'objects': [{'name': 'OBJ 0', 'coordinates': [{'x': 311.0, 'y': 144.0}, {'x': 620.0, 'y': 616.0}], 'auto_created': False, 'position_number': 1, 'classes': [{'name': 'Person', 'lower': 'person', 'questionable': False}], 'objectId': 0, 'isHidden': False}]}\n",
      "{'objects': [{'name': 'OBJ 1', 'coordinates': [{'x': 530.0, 'y': 138.0}, {'x': 710.0, 'y': 619.0}], 'auto_created': False, 'position_number': 1, 'classes': [{'name': 'Person', 'lower': 'person', 'questionable': False}], 'objectId': 1, 'isHidden': False}]}\n",
      "{'objects': [{'name': 'OBJ 2', 'coordinates': [{'x': 71.0, 'y': 250.0}, {'x': 439.0, 'y': 446.0}], 'auto_created': False, 'position_number': 1, 'classes': [{'name': 'Car', 'lower': 'car', 'questionable': False}], 'objectId': 2, 'isHidden': False}]}\n",
      "{'objects': [{'name': 'OBJ 0', 'coordinates': [{'x': 134.0, 'y': 377.0}, {'x': 179.0, 'y': 480.0}], 'auto_created': False, 'position_number': 1, 'classes': [{'name': 'Person', 'lower': 'person', 'questionable': False}], 'objectId': 0, 'isHidden': False}]}\n",
      "{'objects': [{'name': 'OBJ 1', 'coordinates': [{'x': 276.0, 'y': 379.0}, {'x': 346.0, 'y': 439.0}], 'auto_created': False, 'position_number': 1, 'classes': [{'name': 'Car', 'lower': 'car', 'questionable': False}], 'objectId': 1, 'isHidden': False}]}\n",
      "{'objects': [{'name': 'OBJ 2', 'coordinates': [{'x': 340.0, 'y': 386.0}, {'x': 437.0, 'y': 464.0}], 'auto_created': False, 'position_number': 1, 'classes': [{'name': 'Car', 'lower': 'car', 'questionable': False}], 'objectId': 2, 'isHidden': False}]}\n",
      "{'objects': [{'name': 'OBJ 3', 'coordinates': [{'x': 426.0, 'y': 407.0}, {'x': 580.0, 'y': 506.0}], 'auto_created': False, 'position_number': 1, 'classes': [{'name': 'Car', 'lower': 'car', 'questionable': False}], 'objectId': 3, 'isHidden': False}]}\n",
      "{'objects': [{'name': 'OBJ 4', 'coordinates': [{'x': 586.0, 'y': 422.0}, {'x': 937.0, 'y': 593.0}], 'auto_created': False, 'position_number': 1, 'classes': [{'name': 'Car', 'lower': 'car', 'questionable': False}], 'objectId': 4, 'isHidden': False}]}\n",
      "{'objects': [{'name': 'OBJ 5', 'coordinates': [{'x': 886.0, 'y': 502.0}, {'x': 1023.0, 'y': 689.0}], 'auto_created': False, 'position_number': 1, 'classes': [{'name': 'Car', 'lower': 'car', 'questionable': False}], 'objectId': 5, 'isHidden': False}]}\n",
      "{'objects': [{'name': 'OBJ 0', 'coordinates': [{'x': 117.0, 'y': 233.0}, {'x': 183.0, 'y': 404.0}], 'auto_created': False, 'position_number': 1, 'classes': [{'name': 'Person', 'lower': 'person', 'questionable': False}], 'objectId': 0, 'isHidden': False}]}\n",
      "{'objects': [{'name': 'OBJ 1', 'coordinates': [{'x': 39.0, 'y': 280.0}, {'x': 126.0, 'y': 337.0}], 'auto_created': False, 'position_number': 1, 'classes': [{'name': 'Car', 'lower': 'car', 'questionable': False}], 'objectId': 1, 'isHidden': False}]}\n",
      "{'objects': [{'name': 'OBJ 2', 'coordinates': [{'x': 203.0, 'y': 267.0}, {'x': 293.0, 'y': 326.0}], 'auto_created': False, 'position_number': 1, 'classes': [{'name': 'Car', 'lower': 'car', 'questionable': False}], 'objectId': 2, 'isHidden': False}]}\n",
      "{'objects': [{'name': 'OBJ 3', 'coordinates': [{'x': 645.0, 'y': 275.0}, {'x': 1011.0, 'y': 518.0}], 'auto_created': False, 'position_number': 1, 'classes': [{'name': 'Car', 'lower': 'car', 'questionable': False}], 'objectId': 3, 'isHidden': False}]}\n",
      "{'objects': [{'name': 'OBJ 4', 'coordinates': [{'x': 179.0, 'y': 267.0}, {'x': 831.0, 'y': 604.0}], 'auto_created': False, 'position_number': 1, 'classes': [{'name': 'Car', 'lower': 'car', 'questionable': False}], 'objectId': 4, 'isHidden': False}]}\n",
      "{'objects': [{'name': 'OBJ 0', 'coordinates': [{'x': 7.0, 'y': 292.0}, {'x': 83.0, 'y': 488.0}], 'auto_created': False, 'position_number': 1, 'classes': [{'name': 'Person', 'lower': 'person', 'questionable': False}], 'objectId': 0, 'isHidden': False}]}\n",
      "{'objects': [{'name': 'OBJ 1', 'coordinates': [{'x': 729.0, 'y': 226.0}, {'x': 871.0, 'y': 569.0}], 'auto_created': False, 'position_number': 1, 'classes': [{'name': 'Person', 'lower': 'person', 'questionable': False}], 'objectId': 1, 'isHidden': False}]}\n",
      "{'objects': [{'name': 'OBJ 2', 'coordinates': [{'x': 273.0, 'y': 319.0}, {'x': 736.0, 'y': 605.0}], 'auto_created': False, 'position_number': 1, 'classes': [{'name': 'Car', 'lower': 'car', 'questionable': False}], 'objectId': 2, 'isHidden': False}]}\n",
      "{'objects': [{'name': 'OBJ 0', 'coordinates': [{'x': 400.0, 'y': 94.0}, {'x': 455.0, 'y': 155.0}], 'auto_created': False, 'position_number': 1, 'classes': [{'name': 'Person', 'lower': 'person', 'questionable': False}], 'objectId': 0, 'isHidden': False}]}\n",
      "{'objects': [{'name': 'OBJ 1', 'coordinates': [{'x': 187.0, 'y': 89.0}, {'x': 280.0, 'y': 127.0}], 'auto_created': False, 'position_number': 1, 'classes': [{'name': 'Car', 'lower': 'car', 'questionable': False}], 'objectId': 1, 'isHidden': False}]}\n",
      "{'objects': [{'name': 'OBJ 2', 'coordinates': [{'x': 161.0, 'y': 125.0}, {'x': 878.0, 'y': 599.0}], 'auto_created': False, 'position_number': 1, 'classes': [{'name': 'Car', 'lower': 'car', 'questionable': False}], 'objectId': 2, 'isHidden': False}]}\n"
     ]
    },
    {
     "name": "stdout",
     "output_type": "stream",
     "text": [
      "{'objects': [{'name': 'OBJ 0', 'coordinates': [{'x': 591.0, 'y': 58.0}, {'x': 641.0, 'y': 130.0}], 'auto_created': False, 'position_number': 1, 'classes': [{'name': 'Person', 'lower': 'person', 'questionable': False}], 'objectId': 0, 'isHidden': False}]}\n",
      "{'objects': [{'name': 'OBJ 1', 'coordinates': [{'x': 217.0, 'y': 46.0}, {'x': 256.0, 'y': 183.0}], 'auto_created': False, 'position_number': 1, 'classes': [{'name': 'Person', 'lower': 'person', 'questionable': False}], 'objectId': 1, 'isHidden': False}]}\n",
      "{'objects': [{'name': 'OBJ 2', 'coordinates': [{'x': 744.0, 'y': 76.0}, {'x': 829.0, 'y': 174.0}], 'auto_created': False, 'position_number': 1, 'classes': [{'name': 'Person', 'lower': 'person', 'questionable': False}], 'objectId': 2, 'isHidden': False}]}\n",
      "{'objects': [{'name': 'OBJ 3', 'coordinates': [{'x': 234.0, 'y': 92.0}, {'x': 347.0, 'y': 244.0}], 'auto_created': False, 'position_number': 1, 'classes': [{'name': 'Car', 'lower': 'car', 'questionable': False}], 'objectId': 3, 'isHidden': False}]}\n",
      "{'objects': [{'name': 'OBJ 4', 'coordinates': [{'x': 284.0, 'y': 76.0}, {'x': 709.0, 'y': 257.0}], 'auto_created': False, 'position_number': 1, 'classes': [{'name': 'Car', 'lower': 'car', 'questionable': False}], 'objectId': 4, 'isHidden': False}]}\n",
      "{'objects': [{'name': 'OBJ 0', 'coordinates': [{'x': 115.0, 'y': 387.0}, {'x': 307.0, 'y': 488.0}], 'auto_created': False, 'position_number': 1, 'classes': [{'name': 'Car', 'lower': 'car', 'questionable': False}], 'objectId': 0, 'isHidden': False}]}\n",
      "{'objects': [{'name': 'OBJ 1', 'coordinates': [{'x': 289.0, 'y': 400.0}, {'x': 451.0, 'y': 486.0}], 'auto_created': False, 'position_number': 1, 'classes': [{'name': 'Car', 'lower': 'car', 'questionable': False}], 'objectId': 1, 'isHidden': False}]}\n",
      "{'objects': [{'name': 'OBJ 2', 'coordinates': [{'x': 392.0, 'y': 391.0}, {'x': 558.0, 'y': 483.0}], 'auto_created': False, 'position_number': 1, 'classes': [{'name': 'Car', 'lower': 'car', 'questionable': False}], 'objectId': 2, 'isHidden': False}]}\n",
      "{'objects': [{'name': 'OBJ 3', 'coordinates': [{'x': 556.0, 'y': 393.0}, {'x': 768.0, 'y': 468.0}], 'auto_created': False, 'position_number': 1, 'classes': [{'name': 'Car', 'lower': 'car', 'questionable': False}], 'objectId': 3, 'isHidden': False}]}\n",
      "{'objects': [{'name': 'OBJ 4', 'coordinates': [{'x': 719.0, 'y': 394.0}, {'x': 826.0, 'y': 464.0}], 'auto_created': False, 'position_number': 1, 'classes': [{'name': 'Car', 'lower': 'car', 'questionable': False}], 'objectId': 4, 'isHidden': False}]}\n",
      "{'objects': [{'name': 'OBJ 5', 'coordinates': [{'x': 779.0, 'y': 398.0}, {'x': 897.0, 'y': 460.0}], 'auto_created': False, 'position_number': 1, 'classes': [{'name': 'Car', 'lower': 'car', 'questionable': False}], 'objectId': 5, 'isHidden': False}]}\n",
      "{'objects': [{'name': 'OBJ 6', 'coordinates': [{'x': 884.0, 'y': 394.0}, {'x': 1019.0, 'y': 461.0}], 'auto_created': False, 'position_number': 1, 'classes': [{'name': 'Car', 'lower': 'car', 'questionable': False}], 'objectId': 6, 'isHidden': False}]}\n",
      "{'objects': [{'name': 'OBJ 0', 'coordinates': [{'x': 743.0, 'y': 0.0}, {'x': 1018.0, 'y': 84.0}], 'auto_created': False, 'position_number': 1, 'classes': [{'name': 'Car', 'lower': 'car', 'questionable': False}], 'objectId': 0, 'isHidden': False}]}\n",
      "{'objects': [{'name': 'OBJ 1', 'coordinates': [{'x': 469.0, 'y': 13.0}, {'x': 988.0, 'y': 193.0}], 'auto_created': False, 'position_number': 1, 'classes': [{'name': 'Car', 'lower': 'car', 'questionable': False}], 'objectId': 1, 'isHidden': False}]}\n",
      "{'objects': [{'name': 'OBJ 0', 'coordinates': [{'x': 72.0, 'y': 190.0}, {'x': 880.0, 'y': 636.0}], 'auto_created': False, 'position_number': 1, 'classes': [{'name': 'Car', 'lower': 'car', 'questionable': False}], 'objectId': 0, 'isHidden': False}]}\n",
      "{'objects': [{'name': 'OBJ 0', 'coordinates': [{'x': 507.0, 'y': 507.0}, {'x': 591.0, 'y': 550.0}], 'auto_created': False, 'position_number': 1, 'classes': [{'name': 'Car', 'lower': 'car', 'questionable': False}], 'objectId': 0, 'isHidden': False}]}\n",
      "{'objects': [{'name': 'OBJ 1', 'coordinates': [{'x': 612.0, 'y': 512.0}, {'x': 756.0, 'y': 624.0}], 'auto_created': False, 'position_number': 1, 'classes': [{'name': 'Car', 'lower': 'car', 'questionable': False}], 'objectId': 1, 'isHidden': False}]}\n",
      "{'objects': [{'name': 'OBJ 0', 'coordinates': [{'x': 330.0, 'y': 330.0}, {'x': 869.0, 'y': 573.0}], 'auto_created': False, 'position_number': 1, 'classes': [{'name': 'Car', 'lower': 'car', 'questionable': False}], 'objectId': 0, 'isHidden': False}]}\n",
      "{'objects': [{'name': 'OBJ 0', 'coordinates': [{'x': 6.0, 'y': 4.0}, {'x': 63.0, 'y': 127.0}], 'auto_created': False, 'position_number': 1, 'classes': [{'name': 'Person', 'lower': 'person', 'questionable': False}], 'objectId': 0, 'isHidden': False}]}\n",
      "{'objects': [{'name': 'OBJ 1', 'coordinates': [{'x': 254.0, 'y': 0.0}, {'x': 337.0, 'y': 144.0}], 'auto_created': False, 'position_number': 1, 'classes': [{'name': 'Person', 'lower': 'person', 'questionable': False}], 'objectId': 1, 'isHidden': False}]}\n",
      "{'objects': [{'name': 'OBJ 2', 'coordinates': [{'x': 349.0, 'y': 0.0}, {'x': 433.0, 'y': 125.0}], 'auto_created': False, 'position_number': 1, 'classes': [{'name': 'Person', 'lower': 'person', 'questionable': False}], 'objectId': 2, 'isHidden': False}]}\n",
      "{'objects': [{'name': 'OBJ 3', 'coordinates': [{'x': 516.0, 'y': 0.0}, {'x': 647.0, 'y': 166.0}], 'auto_created': False, 'position_number': 1, 'classes': [{'name': 'Person', 'lower': 'person', 'questionable': False}], 'objectId': 3, 'isHidden': False}]}\n",
      "{'objects': [{'name': 'OBJ 4', 'coordinates': [{'x': 854.0, 'y': 0.0}, {'x': 903.0, 'y': 116.0}], 'auto_created': False, 'position_number': 1, 'classes': [{'name': 'Person', 'lower': 'person', 'questionable': False}], 'objectId': 4, 'isHidden': False}]}\n",
      "{'objects': [{'name': 'OBJ 5', 'coordinates': [{'x': 915.0, 'y': 0.0}, {'x': 958.0, 'y': 123.0}], 'auto_created': False, 'position_number': 1, 'classes': [{'name': 'Person', 'lower': 'person', 'questionable': False}], 'objectId': 5, 'isHidden': False}]}\n",
      "{'objects': [{'name': 'OBJ 6', 'coordinates': [{'x': 137.0, 'y': 0.0}, {'x': 210.0, 'y': 186.0}], 'auto_created': False, 'position_number': 1, 'classes': [{'name': 'Person', 'lower': 'person', 'questionable': False}], 'objectId': 6, 'isHidden': False}]}\n",
      "{'objects': [{'name': 'OBJ 7', 'coordinates': [{'x': 686.0, 'y': 3.0}, {'x': 753.0, 'y': 176.0}], 'auto_created': False, 'position_number': 1, 'classes': [{'name': 'Person', 'lower': 'person', 'questionable': False}], 'objectId': 7, 'isHidden': False}]}\n",
      "{'objects': [{'name': 'OBJ 8', 'coordinates': [{'x': 956.0, 'y': 0.0}, {'x': 1017.0, 'y': 196.0}], 'auto_created': False, 'position_number': 1, 'classes': [{'name': 'Person', 'lower': 'person', 'questionable': False}], 'objectId': 8, 'isHidden': False}]}\n",
      "{'objects': [{'name': 'OBJ 9', 'coordinates': [{'x': 42.0, 'y': 184.0}, {'x': 880.0, 'y': 642.0}], 'auto_created': False, 'position_number': 1, 'classes': [{'name': 'Car', 'lower': 'car', 'questionable': False}], 'objectId': 9, 'isHidden': False}]}\n",
      "{'objects': [{'name': 'OBJ 0', 'coordinates': [{'x': 213.0, 'y': 0.0}, {'x': 275.0, 'y': 124.0}], 'auto_created': False, 'position_number': 1, 'classes': [{'name': 'Person', 'lower': 'person', 'questionable': False}], 'objectId': 0, 'isHidden': False}]}\n",
      "{'objects': [{'name': 'OBJ 1', 'coordinates': [{'x': 30.0, 'y': 6.0}, {'x': 106.0, 'y': 198.0}], 'auto_created': False, 'position_number': 1, 'classes': [{'name': 'Person', 'lower': 'person', 'questionable': False}], 'objectId': 1, 'isHidden': False}]}\n",
      "{'objects': [{'name': 'OBJ 2', 'coordinates': [{'x': 184.0, 'y': 72.0}, {'x': 228.0, 'y': 164.0}], 'auto_created': False, 'position_number': 1, 'classes': [{'name': 'Person', 'lower': 'person', 'questionable': False}], 'objectId': 2, 'isHidden': False}]}\n",
      "{'objects': [{'name': 'OBJ 3', 'coordinates': [{'x': 614.0, 'y': 21.0}, {'x': 696.0, 'y': 253.0}], 'auto_created': False, 'position_number': 1, 'classes': [{'name': 'Person', 'lower': 'person', 'questionable': False}], 'objectId': 3, 'isHidden': False}]}\n",
      "{'objects': [{'name': 'OBJ 0', 'coordinates': [{'x': 200.0, 'y': 235.0}, {'x': 376.0, 'y': 765.0}], 'auto_created': False, 'position_number': 1, 'classes': [{'name': 'Person', 'lower': 'person', 'questionable': False}], 'objectId': 0, 'isHidden': False}]}\n"
     ]
    },
    {
     "name": "stdout",
     "output_type": "stream",
     "text": [
      "{'objects': [{'name': 'OBJ 0', 'coordinates': [{'x': 741.0, 'y': 186.0}, {'x': 1018.0, 'y': 688.0}], 'auto_created': False, 'position_number': 1, 'classes': [{'name': 'Person', 'lower': 'person', 'questionable': False}], 'objectId': 0, 'isHidden': False}]}\n",
      "{'objects': [{'name': 'OBJ 0', 'coordinates': [{'x': 88.0, 'y': 198.0}, {'x': 164.0, 'y': 241.0}], 'auto_created': False, 'position_number': 1, 'classes': [{'name': 'Car', 'lower': 'car', 'questionable': False}], 'objectId': 0, 'isHidden': False}]}\n",
      "{'objects': [{'name': 'OBJ 1', 'coordinates': [{'x': 417.0, 'y': 219.0}, {'x': 641.0, 'y': 295.0}], 'auto_created': False, 'position_number': 1, 'classes': [{'name': 'Car', 'lower': 'car', 'questionable': False}], 'objectId': 1, 'isHidden': False}]}\n",
      "{'objects': [{'name': 'OBJ 2', 'coordinates': [{'x': 670.0, 'y': 231.0}, {'x': 862.0, 'y': 315.0}], 'auto_created': False, 'position_number': 1, 'classes': [{'name': 'Car', 'lower': 'car', 'questionable': False}], 'objectId': 2, 'isHidden': False}]}\n",
      "{'objects': [{'name': 'OBJ 3', 'coordinates': [{'x': 731.0, 'y': 223.0}, {'x': 1023.0, 'y': 386.0}], 'auto_created': False, 'position_number': 1, 'classes': [{'name': 'Car', 'lower': 'car', 'questionable': False}], 'objectId': 3, 'isHidden': False}]}\n",
      "{'objects': [{'name': 'OBJ 4', 'coordinates': [{'x': 210.0, 'y': 283.0}, {'x': 844.0, 'y': 627.0}], 'auto_created': False, 'position_number': 1, 'classes': [{'name': 'Car', 'lower': 'car', 'questionable': False}], 'objectId': 4, 'isHidden': False}]}\n",
      "{'objects': [{'name': 'OBJ 0', 'coordinates': [{'x': 318.0, 'y': 173.0}, {'x': 560.0, 'y': 719.0}], 'auto_created': False, 'position_number': 1, 'classes': [{'name': 'Person', 'lower': 'person', 'questionable': False}], 'objectId': 0, 'isHidden': False}]}\n",
      "{'objects': [{'name': 'OBJ 1', 'coordinates': [{'x': 9.0, 'y': 281.0}, {'x': 266.0, 'y': 719.0}], 'auto_created': False, 'position_number': 1, 'classes': [{'name': 'Person', 'lower': 'person', 'questionable': False}], 'objectId': 1, 'isHidden': False}]}\n",
      "{'objects': [{'name': 'OBJ 0', 'coordinates': [{'x': 73.0, 'y': 394.0}, {'x': 127.0, 'y': 555.0}], 'auto_created': False, 'position_number': 1, 'classes': [{'name': 'Person', 'lower': 'person', 'questionable': False}], 'objectId': 0, 'isHidden': False}]}\n",
      "{'objects': [{'name': 'OBJ 1', 'coordinates': [{'x': 0.0, 'y': 350.0}, {'x': 940.0, 'y': 707.0}], 'auto_created': False, 'position_number': 1, 'classes': [{'name': 'Person', 'lower': 'person', 'questionable': False}], 'objectId': 1, 'isHidden': False}]}\n",
      "{'objects': [{'name': 'OBJ 2', 'coordinates': [{'x': 235.0, 'y': 476.0}, {'x': 281.0, 'y': 650.0}], 'auto_created': False, 'position_number': 1, 'classes': [{'name': 'Person', 'lower': 'person', 'questionable': False}], 'objectId': 2, 'isHidden': False}]}\n",
      "{'objects': [{'name': 'OBJ 3', 'coordinates': [{'x': 268.0, 'y': 471.0}, {'x': 322.0, 'y': 685.0}], 'auto_created': False, 'position_number': 1, 'classes': [{'name': 'Person', 'lower': 'person', 'questionable': False}], 'objectId': 3, 'isHidden': False}]}\n",
      "{'objects': [{'name': 'OBJ 4', 'coordinates': [{'x': 332.0, 'y': 487.0}, {'x': 404.0, 'y': 742.0}], 'auto_created': False, 'position_number': 1, 'classes': [{'name': 'Person', 'lower': 'person', 'questionable': False}], 'objectId': 4, 'isHidden': False}]}\n",
      "{'objects': [{'name': 'OBJ 5', 'coordinates': [{'x': 592.0, 'y': 498.0}, {'x': 644.0, 'y': 696.0}], 'auto_created': False, 'position_number': 1, 'classes': [{'name': 'Person', 'lower': 'person', 'questionable': False}], 'objectId': 5, 'isHidden': False}]}\n",
      "{'objects': [{'name': 'OBJ 6', 'coordinates': [{'x': 128.0, 'y': 508.0}, {'x': 217.0, 'y': 776.0}], 'auto_created': False, 'position_number': 1, 'classes': [{'name': 'Person', 'lower': 'person', 'questionable': False}], 'objectId': 6, 'isHidden': False}]}\n",
      "{'objects': [{'name': 'OBJ 7', 'coordinates': [{'x': 398.0, 'y': 529.0}, {'x': 497.0, 'y': 788.0}], 'auto_created': False, 'position_number': 1, 'classes': [{'name': 'Person', 'lower': 'person', 'questionable': False}], 'objectId': 7, 'isHidden': False}]}\n",
      "{'objects': [{'name': 'OBJ 8', 'coordinates': [{'x': 515.0, 'y': 538.0}, {'x': 603.0, 'y': 802.0}], 'auto_created': False, 'position_number': 1, 'classes': [{'name': 'Person', 'lower': 'person', 'questionable': False}], 'objectId': 8, 'isHidden': False}]}\n",
      "{'objects': [{'name': 'OBJ 9', 'coordinates': [{'x': 697.0, 'y': 553.0}, {'x': 796.0, 'y': 802.0}], 'auto_created': False, 'position_number': 1, 'classes': [{'name': 'Person', 'lower': 'person', 'questionable': False}], 'objectId': 9, 'isHidden': False}]}\n",
      "{'objects': [{'name': 'OBJ 10', 'coordinates': [{'x': 783.0, 'y': 592.0}, {'x': 896.0, 'y': 795.0}], 'auto_created': False, 'position_number': 1, 'classes': [{'name': 'Person', 'lower': 'person', 'questionable': False}], 'objectId': 10, 'isHidden': False}]}\n",
      "{'objects': [{'name': 'OBJ 0', 'coordinates': [{'x': 22.0, 'y': 254.0}, {'x': 103.0, 'y': 410.0}], 'auto_created': False, 'position_number': 1, 'classes': [{'name': 'Person', 'lower': 'person', 'questionable': False}], 'objectId': 0, 'isHidden': False}]}\n",
      "{'objects': [{'name': 'OBJ 1', 'coordinates': [{'x': 143.0, 'y': 269.0}, {'x': 226.0, 'y': 412.0}], 'auto_created': False, 'position_number': 1, 'classes': [{'name': 'Person', 'lower': 'person', 'questionable': False}], 'objectId': 1, 'isHidden': False}]}\n",
      "{'objects': [{'name': 'OBJ 2', 'coordinates': [{'x': 248.0, 'y': 266.0}, {'x': 343.0, 'y': 411.0}], 'auto_created': False, 'position_number': 1, 'classes': [{'name': 'Person', 'lower': 'person', 'questionable': False}], 'objectId': 2, 'isHidden': False}]}\n",
      "{'objects': [{'name': 'OBJ 3', 'coordinates': [{'x': 462.0, 'y': 264.0}, {'x': 537.0, 'y': 407.0}], 'auto_created': False, 'position_number': 1, 'classes': [{'name': 'Person', 'lower': 'person', 'questionable': False}], 'objectId': 3, 'isHidden': False}]}\n",
      "{'objects': [{'name': 'OBJ 4', 'coordinates': [{'x': 675.0, 'y': 278.0}, {'x': 746.0, 'y': 392.0}], 'auto_created': False, 'position_number': 1, 'classes': [{'name': 'Person', 'lower': 'person', 'questionable': False}], 'objectId': 4, 'isHidden': False}]}\n",
      "{'objects': [{'name': 'OBJ 5', 'coordinates': [{'x': 759.0, 'y': 281.0}, {'x': 815.0, 'y': 391.0}], 'auto_created': False, 'position_number': 1, 'classes': [{'name': 'Person', 'lower': 'person', 'questionable': False}], 'objectId': 5, 'isHidden': False}]}\n",
      "{'objects': [{'name': 'OBJ 0', 'coordinates': [{'x': 644.0, 'y': 376.0}, {'x': 703.0, 'y': 437.0}], 'auto_created': False, 'position_number': 1, 'classes': [{'name': 'Person', 'lower': 'person', 'questionable': False}], 'objectId': 0, 'isHidden': False}]}\n",
      "{'objects': [{'name': 'OBJ 0', 'coordinates': [{'x': 924.0, 'y': 134.0}, {'x': 967.0, 'y': 251.0}], 'auto_created': False, 'position_number': 1, 'classes': [{'name': 'Person', 'lower': 'person', 'questionable': False}], 'objectId': 0, 'isHidden': False}]}\n",
      "{'objects': [{'name': 'OBJ 1', 'coordinates': [{'x': 579.0, 'y': 270.0}, {'x': 628.0, 'y': 405.0}], 'auto_created': False, 'position_number': 1, 'classes': [{'name': 'Person', 'lower': 'person', 'questionable': False}], 'objectId': 1, 'isHidden': False}]}\n",
      "{'objects': [{'name': 'OBJ 2', 'coordinates': [{'x': 365.0, 'y': 292.0}, {'x': 421.0, 'y': 442.0}], 'auto_created': False, 'position_number': 1, 'classes': [{'name': 'Person', 'lower': 'person', 'questionable': False}], 'objectId': 2, 'isHidden': False}]}\n",
      "{'objects': [{'name': 'OBJ 3', 'coordinates': [{'x': 519.0, 'y': 322.0}, {'x': 569.0, 'y': 445.0}], 'auto_created': False, 'position_number': 1, 'classes': [{'name': 'Person', 'lower': 'person', 'questionable': False}], 'objectId': 3, 'isHidden': False}]}\n",
      "{'objects': [{'name': 'OBJ 4', 'coordinates': [{'x': 32.0, 'y': 339.0}, {'x': 108.0, 'y': 505.0}], 'auto_created': False, 'position_number': 1, 'classes': [{'name': 'Person', 'lower': 'person', 'questionable': False}], 'objectId': 4, 'isHidden': False}]}\n",
      "{'objects': [{'name': 'OBJ 5', 'coordinates': [{'x': 299.0, 'y': 325.0}, {'x': 365.0, 'y': 484.0}], 'auto_created': False, 'position_number': 1, 'classes': [{'name': 'Person', 'lower': 'person', 'questionable': False}], 'objectId': 5, 'isHidden': False}]}\n",
      "{'objects': [{'name': 'OBJ 6', 'coordinates': [{'x': 455.0, 'y': 565.0}, {'x': 523.0, 'y': 684.0}], 'auto_created': False, 'position_number': 1, 'classes': [{'name': 'Person', 'lower': 'person', 'questionable': False}], 'objectId': 6, 'isHidden': False}]}\n"
     ]
    },
    {
     "name": "stdout",
     "output_type": "stream",
     "text": [
      "{'objects': [{'name': 'OBJ 0', 'coordinates': [{'x': 0.0, 'y': 12.0}, {'x': 498.0, 'y': 457.0}], 'auto_created': False, 'position_number': 1, 'classes': [{'name': 'Person', 'lower': 'person', 'questionable': False}], 'objectId': 0, 'isHidden': False}]}\n",
      "{'objects': [{'name': 'OBJ 0', 'coordinates': [{'x': 354.0, 'y': 205.0}, {'x': 476.0, 'y': 407.0}], 'auto_created': False, 'position_number': 1, 'classes': [{'name': 'Person', 'lower': 'person', 'questionable': False}], 'objectId': 0, 'isHidden': False}]}\n",
      "{'objects': [{'name': 'OBJ 1', 'coordinates': [{'x': 62.0, 'y': 136.0}, {'x': 282.0, 'y': 682.0}], 'auto_created': False, 'position_number': 1, 'classes': [{'name': 'Person', 'lower': 'person', 'questionable': False}], 'objectId': 1, 'isHidden': False}]}\n",
      "{'objects': [{'name': 'OBJ 2', 'coordinates': [{'x': 477.0, 'y': 125.0}, {'x': 649.0, 'y': 682.0}], 'auto_created': False, 'position_number': 1, 'classes': [{'name': 'Person', 'lower': 'person', 'questionable': False}], 'objectId': 2, 'isHidden': False}]}\n",
      "{'objects': [{'name': 'OBJ 3', 'coordinates': [{'x': 631.0, 'y': 126.0}, {'x': 793.0, 'y': 682.0}], 'auto_created': False, 'position_number': 1, 'classes': [{'name': 'Person', 'lower': 'person', 'questionable': False}], 'objectId': 3, 'isHidden': False}]}\n",
      "{'objects': [{'name': 'OBJ 4', 'coordinates': [{'x': 783.0, 'y': 165.0}, {'x': 965.0, 'y': 680.0}], 'auto_created': False, 'position_number': 1, 'classes': [{'name': 'Person', 'lower': 'person', 'questionable': False}], 'objectId': 4, 'isHidden': False}]}\n",
      "{'objects': [{'name': 'OBJ 5', 'coordinates': [{'x': 269.0, 'y': 234.0}, {'x': 411.0, 'y': 677.0}], 'auto_created': False, 'position_number': 1, 'classes': [{'name': 'Person', 'lower': 'person', 'questionable': False}], 'objectId': 5, 'isHidden': False}]}\n",
      "{'objects': [{'name': 'OBJ 6', 'coordinates': [{'x': 337.0, 'y': 196.0}, {'x': 484.0, 'y': 682.0}], 'auto_created': False, 'position_number': 1, 'classes': [{'name': 'Person', 'lower': 'person', 'questionable': False}], 'objectId': 6, 'isHidden': False}]}\n",
      "{'objects': [{'name': 'OBJ 0', 'coordinates': [{'x': 938.0, 'y': 316.0}, {'x': 1013.0, 'y': 540.0}], 'auto_created': False, 'position_number': 1, 'classes': [{'name': 'Person', 'lower': 'person', 'questionable': False}], 'objectId': 0, 'isHidden': False}]}\n",
      "{'objects': [{'name': 'OBJ 1', 'coordinates': [{'x': 86.0, 'y': 368.0}, {'x': 170.0, 'y': 585.0}], 'auto_created': False, 'position_number': 1, 'classes': [{'name': 'Person', 'lower': 'person', 'questionable': False}], 'objectId': 1, 'isHidden': False}]}\n",
      "{'objects': [{'name': 'OBJ 2', 'coordinates': [{'x': 312.0, 'y': 348.0}, {'x': 367.0, 'y': 590.0}], 'auto_created': False, 'position_number': 1, 'classes': [{'name': 'Person', 'lower': 'person', 'questionable': False}], 'objectId': 2, 'isHidden': False}]}\n",
      "{'objects': [{'name': 'OBJ 3', 'coordinates': [{'x': 380.0, 'y': 344.0}, {'x': 449.0, 'y': 612.0}], 'auto_created': False, 'position_number': 1, 'classes': [{'name': 'Person', 'lower': 'person', 'questionable': False}], 'objectId': 3, 'isHidden': False}]}\n",
      "{'objects': [{'name': 'OBJ 0', 'coordinates': [{'x': 304.0, 'y': 525.0}, {'x': 721.0, 'y': 1023.0}], 'auto_created': False, 'position_number': 1, 'classes': [{'name': 'Person', 'lower': 'person', 'questionable': False}], 'objectId': 0, 'isHidden': False}]}\n",
      "{'objects': [{'name': 'OBJ 0', 'coordinates': [{'x': 147.0, 'y': 167.0}, {'x': 476.0, 'y': 969.0}], 'auto_created': False, 'position_number': 1, 'classes': [{'name': 'Person', 'lower': 'person', 'questionable': False}], 'objectId': 0, 'isHidden': False}]}\n",
      "{'objects': [{'name': 'OBJ 0', 'coordinates': [{'x': 7.0, 'y': 277.0}, {'x': 70.0, 'y': 392.0}], 'auto_created': False, 'position_number': 1, 'classes': [{'name': 'Person', 'lower': 'person', 'questionable': False}], 'objectId': 0, 'isHidden': False}]}\n",
      "{'objects': [{'name': 'OBJ 1', 'coordinates': [{'x': 194.0, 'y': 245.0}, {'x': 297.0, 'y': 424.0}], 'auto_created': False, 'position_number': 1, 'classes': [{'name': 'Person', 'lower': 'person', 'questionable': False}], 'objectId': 1, 'isHidden': False}]}\n",
      "{'objects': [{'name': 'OBJ 2', 'coordinates': [{'x': 173.0, 'y': 338.0}, {'x': 285.0, 'y': 574.0}], 'auto_created': False, 'position_number': 1, 'classes': [{'name': 'Person', 'lower': 'person', 'questionable': False}], 'objectId': 2, 'isHidden': False}]}\n",
      "{'objects': [{'name': 'OBJ 3', 'coordinates': [{'x': 304.0, 'y': 343.0}, {'x': 395.0, 'y': 564.0}], 'auto_created': False, 'position_number': 1, 'classes': [{'name': 'Person', 'lower': 'person', 'questionable': False}], 'objectId': 3, 'isHidden': False}]}\n",
      "{'objects': [{'name': 'OBJ 0', 'coordinates': [{'x': 940.0, 'y': 47.0}, {'x': 1017.0, 'y': 428.0}], 'auto_created': False, 'position_number': 1, 'classes': [{'name': 'Person', 'lower': 'person', 'questionable': False}], 'objectId': 0, 'isHidden': False}]}\n",
      "{'objects': [{'name': 'OBJ 1', 'coordinates': [{'x': 529.0, 'y': 20.0}, {'x': 673.0, 'y': 516.0}], 'auto_created': False, 'position_number': 1, 'classes': [{'name': 'Person', 'lower': 'person', 'questionable': False}], 'objectId': 1, 'isHidden': False}]}\n",
      "{'objects': [{'name': 'OBJ 2', 'coordinates': [{'x': 642.0, 'y': 15.0}, {'x': 810.0, 'y': 536.0}], 'auto_created': False, 'position_number': 1, 'classes': [{'name': 'Person', 'lower': 'person', 'questionable': False}], 'objectId': 2, 'isHidden': False}]}\n",
      "{'objects': [{'name': 'OBJ 3', 'coordinates': [{'x': 732.0, 'y': 26.0}, {'x': 835.0, 'y': 505.0}], 'auto_created': False, 'position_number': 1, 'classes': [{'name': 'Person', 'lower': 'person', 'questionable': False}], 'objectId': 3, 'isHidden': False}]}\n",
      "{'objects': [{'name': 'OBJ 4', 'coordinates': [{'x': 808.0, 'y': 56.0}, {'x': 955.0, 'y': 448.0}], 'auto_created': False, 'position_number': 1, 'classes': [{'name': 'Person', 'lower': 'person', 'questionable': False}], 'objectId': 4, 'isHidden': False}]}\n",
      "{'objects': [{'name': 'OBJ 5', 'coordinates': [{'x': 1.0, 'y': 86.0}, {'x': 90.0, 'y': 523.0}], 'auto_created': False, 'position_number': 1, 'classes': [{'name': 'Person', 'lower': 'person', 'questionable': False}], 'objectId': 5, 'isHidden': False}]}\n",
      "{'objects': [{'name': 'OBJ 6', 'coordinates': [{'x': 177.0, 'y': 96.0}, {'x': 299.0, 'y': 513.0}], 'auto_created': False, 'position_number': 1, 'classes': [{'name': 'Person', 'lower': 'person', 'questionable': False}], 'objectId': 6, 'isHidden': False}]}\n",
      "{'objects': [{'name': 'OBJ 7', 'coordinates': [{'x': 245.0, 'y': 84.0}, {'x': 320.0, 'y': 513.0}], 'auto_created': False, 'position_number': 1, 'classes': [{'name': 'Person', 'lower': 'person', 'questionable': False}], 'objectId': 7, 'isHidden': False}]}\n",
      "{'objects': [{'name': 'OBJ 8', 'coordinates': [{'x': 363.0, 'y': 64.0}, {'x': 550.0, 'y': 547.0}], 'auto_created': False, 'position_number': 1, 'classes': [{'name': 'Person', 'lower': 'person', 'questionable': False}], 'objectId': 8, 'isHidden': False}]}\n",
      "{'objects': [{'name': 'OBJ 0', 'coordinates': [{'x': 36.0, 'y': 54.0}, {'x': 240.0, 'y': 840.0}], 'auto_created': False, 'position_number': 1, 'classes': [{'name': 'Person', 'lower': 'person', 'questionable': False}], 'objectId': 0, 'isHidden': False}]}\n",
      "{'objects': [{'name': 'OBJ 1', 'coordinates': [{'x': 386.0, 'y': 32.0}, {'x': 641.0, 'y': 840.0}], 'auto_created': False, 'position_number': 1, 'classes': [{'name': 'Person', 'lower': 'person', 'questionable': False}], 'objectId': 1, 'isHidden': False}]}\n",
      "{'objects': [{'name': 'OBJ 2', 'coordinates': [{'x': 719.0, 'y': 53.0}, {'x': 982.0, 'y': 840.0}], 'auto_created': False, 'position_number': 1, 'classes': [{'name': 'Person', 'lower': 'person', 'questionable': False}], 'objectId': 2, 'isHidden': False}]}\n",
      "{'objects': [{'name': 'OBJ 0', 'coordinates': [{'x': 0.0, 'y': 158.0}, {'x': 242.0, 'y': 767.0}], 'auto_created': False, 'position_number': 1, 'classes': [{'name': 'Person', 'lower': 'person', 'questionable': False}], 'objectId': 0, 'isHidden': False}]}\n",
      "{'objects': [{'name': 'OBJ 1', 'coordinates': [{'x': 179.0, 'y': 200.0}, {'x': 510.0, 'y': 742.0}], 'auto_created': False, 'position_number': 1, 'classes': [{'name': 'Person', 'lower': 'person', 'questionable': False}], 'objectId': 1, 'isHidden': False}]}\n",
      "{'objects': [{'name': 'OBJ 2', 'coordinates': [{'x': 659.0, 'y': 171.0}, {'x': 1023.0, 'y': 767.0}], 'auto_created': False, 'position_number': 1, 'classes': [{'name': 'Person', 'lower': 'person', 'questionable': False}], 'objectId': 2, 'isHidden': False}]}\n"
     ]
    },
    {
     "name": "stdout",
     "output_type": "stream",
     "text": [
      "{'objects': [{'name': 'OBJ 0', 'coordinates': [{'x': 104.0, 'y': 345.0}, {'x': 149.0, 'y': 417.0}], 'auto_created': False, 'position_number': 1, 'classes': [{'name': 'Person', 'lower': 'person', 'questionable': False}], 'objectId': 0, 'isHidden': False}]}\n",
      "{'objects': [{'name': 'OBJ 1', 'coordinates': [{'x': 284.0, 'y': 337.0}, {'x': 337.0, 'y': 413.0}], 'auto_created': False, 'position_number': 1, 'classes': [{'name': 'Person', 'lower': 'person', 'questionable': False}], 'objectId': 1, 'isHidden': False}]}\n",
      "{'objects': [{'name': 'OBJ 2', 'coordinates': [{'x': 310.0, 'y': 338.0}, {'x': 365.0, 'y': 414.0}], 'auto_created': False, 'position_number': 1, 'classes': [{'name': 'Person', 'lower': 'person', 'questionable': False}], 'objectId': 2, 'isHidden': False}]}\n",
      "{'objects': [{'name': 'OBJ 0', 'coordinates': [{'x': 297.0, 'y': 174.0}, {'x': 798.0, 'y': 870.0}], 'auto_created': False, 'position_number': 1, 'classes': [{'name': 'Person', 'lower': 'person', 'questionable': False}], 'objectId': 0, 'isHidden': False}]}\n",
      "{'objects': [{'name': 'OBJ 0', 'coordinates': [{'x': 659.0, 'y': 359.0}, {'x': 831.0, 'y': 590.0}], 'auto_created': False, 'position_number': 1, 'classes': [{'name': 'Person', 'lower': 'person', 'questionable': False}], 'objectId': 0, 'isHidden': False}]}\n",
      "{'objects': [{'name': 'OBJ 1', 'coordinates': [{'x': 429.0, 'y': 399.0}, {'x': 601.0, 'y': 588.0}], 'auto_created': False, 'position_number': 1, 'classes': [{'name': 'Person', 'lower': 'person', 'questionable': False}], 'objectId': 1, 'isHidden': False}]}\n",
      "{'objects': [{'name': 'OBJ 0', 'coordinates': [{'x': 230.0, 'y': 75.0}, {'x': 1004.0, 'y': 765.0}], 'auto_created': False, 'position_number': 1, 'classes': [{'name': 'Person', 'lower': 'person', 'questionable': False}], 'objectId': 0, 'isHidden': False}]}\n",
      "{'objects': [{'name': 'OBJ 0', 'coordinates': [{'x': 87.0, 'y': 175.0}, {'x': 270.0, 'y': 516.0}], 'auto_created': False, 'position_number': 1, 'classes': [{'name': 'Person', 'lower': 'person', 'questionable': False}], 'objectId': 0, 'isHidden': False}]}\n",
      "{'objects': [{'name': 'OBJ 0', 'coordinates': [{'x': 34.0, 'y': 366.0}, {'x': 73.0, 'y': 466.0}], 'auto_created': False, 'position_number': 1, 'classes': [{'name': 'Person', 'lower': 'person', 'questionable': False}], 'objectId': 0, 'isHidden': False}]}\n",
      "{'objects': [{'name': 'OBJ 1', 'coordinates': [{'x': 76.0, 'y': 364.0}, {'x': 118.0, 'y': 467.0}], 'auto_created': False, 'position_number': 1, 'classes': [{'name': 'Person', 'lower': 'person', 'questionable': False}], 'objectId': 1, 'isHidden': False}]}\n",
      "{'objects': [{'name': 'OBJ 2', 'coordinates': [{'x': 208.0, 'y': 369.0}, {'x': 255.0, 'y': 474.0}], 'auto_created': False, 'position_number': 1, 'classes': [{'name': 'Person', 'lower': 'person', 'questionable': False}], 'objectId': 2, 'isHidden': False}]}\n",
      "{'objects': [{'name': 'OBJ 3', 'coordinates': [{'x': 312.0, 'y': 367.0}, {'x': 360.0, 'y': 478.0}], 'auto_created': False, 'position_number': 1, 'classes': [{'name': 'Person', 'lower': 'person', 'questionable': False}], 'objectId': 3, 'isHidden': False}]}\n",
      "{'objects': [{'name': 'OBJ 4', 'coordinates': [{'x': 396.0, 'y': 366.0}, {'x': 432.0, 'y': 480.0}], 'auto_created': False, 'position_number': 1, 'classes': [{'name': 'Person', 'lower': 'person', 'questionable': False}], 'objectId': 4, 'isHidden': False}]}\n",
      "{'objects': [{'name': 'OBJ 0', 'coordinates': [{'x': 306.0, 'y': 187.0}, {'x': 382.0, 'y': 430.0}], 'auto_created': False, 'position_number': 1, 'classes': [{'name': 'Person', 'lower': 'person', 'questionable': False}], 'objectId': 0, 'isHidden': False}]}\n",
      "{'objects': [{'name': 'OBJ 1', 'coordinates': [{'x': 2.0, 'y': 188.0}, {'x': 64.0, 'y': 481.0}], 'auto_created': False, 'position_number': 1, 'classes': [{'name': 'Person', 'lower': 'person', 'questionable': False}], 'objectId': 1, 'isHidden': False}]}\n",
      "{'objects': [{'name': 'OBJ 2', 'coordinates': [{'x': 89.0, 'y': 203.0}, {'x': 190.0, 'y': 479.0}], 'auto_created': False, 'position_number': 1, 'classes': [{'name': 'Person', 'lower': 'person', 'questionable': False}], 'objectId': 2, 'isHidden': False}]}\n",
      "{'objects': [{'name': 'OBJ 3', 'coordinates': [{'x': 206.0, 'y': 218.0}, {'x': 287.0, 'y': 477.0}], 'auto_created': False, 'position_number': 1, 'classes': [{'name': 'Person', 'lower': 'person', 'questionable': False}], 'objectId': 3, 'isHidden': False}]}\n",
      "{'objects': [{'name': 'OBJ 4', 'coordinates': [{'x': 860.0, 'y': 213.0}, {'x': 939.0, 'y': 452.0}], 'auto_created': False, 'position_number': 1, 'classes': [{'name': 'Person', 'lower': 'person', 'questionable': False}], 'objectId': 4, 'isHidden': False}]}\n"
     ]
    }
   ],
   "source": [
    "my_dataset.add_annotations_by_csv('/Users/melodi/Docs/remo-python/example/detection_preds_raw1.csv', 19)"
   ]
  },
  {
   "cell_type": "code",
   "execution_count": 6,
   "metadata": {},
   "outputs": [
    {
     "name": "stdout",
     "output_type": "stream",
     "text": [
      "Open http://localhost:8000/datasets/28\n"
     ]
    }
   ],
   "source": [
    "my_dataset.view()"
   ]
  }
 ],
 "metadata": {
  "kernelspec": {
   "display_name": "Python 3",
   "language": "python",
   "name": "python3"
  },
  "language_info": {
   "codemirror_mode": {
    "name": "ipython",
    "version": 3
   },
   "file_extension": ".py",
   "mimetype": "text/x-python",
   "name": "python",
   "nbconvert_exporter": "python",
   "pygments_lexer": "ipython3",
   "version": "3.7.4"
  }
 },
 "nbformat": 4,
 "nbformat_minor": 2
}
