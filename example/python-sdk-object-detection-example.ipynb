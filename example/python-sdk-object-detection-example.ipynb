{
 "cells": [
  {
   "cell_type": "code",
   "execution_count": 6,
   "metadata": {},
   "outputs": [],
   "source": [
    "import sys\n",
    "# Specify path to Remo\n",
    "# Mac version\n",
    "local_path_to_repo =  '/Users/melodi/Docs/remo-python'\n",
    "# Windows version\n",
    "#local_path_to_repo =  'C:/Users/crows/Documents/GitHub/remo-python'\n",
    "\n",
    "sys.path.insert(0, local_path_to_repo)"
   ]
  },
  {
   "cell_type": "code",
   "execution_count": 7,
   "metadata": {},
   "outputs": [
    {
     "name": "stdout",
     "output_type": "stream",
     "text": [
      "The autoreload extension is already loaded. To reload it, use:\n",
      "  %reload_ext autoreload\n"
     ]
    }
   ],
   "source": [
    "%load_ext autoreload\n",
    "%autoreload 2\n",
    "import remo"
   ]
  },
  {
   "cell_type": "code",
   "execution_count": 8,
   "metadata": {},
   "outputs": [
    {
     "data": {
      "text/plain": [
       "[Dataset 1 - 'Vova's dataset',\n",
       " Dataset 2 - 'open images detection',\n",
       " Dataset 3 - 'Subset of OID',\n",
       " Dataset 4 - 'train',\n",
       " Dataset 6 - 'test',\n",
       " Dataset 12 - 'oid 100',\n",
       " Dataset 13 - 'open images sample data',\n",
       " Dataset 19 - 'oid building ',\n",
       " Dataset 21 - 'oid building and car',\n",
       " Dataset 22 - 'oid building car detection',\n",
       " Dataset 25 - 'open images data',\n",
       " Dataset 26 - 'oid car',\n",
       " Dataset 28 - 'oid car and person',\n",
       " Dataset 29 - 'test upload',\n",
       " Dataset 30 - 'test upload 2',\n",
       " Dataset 31 - 'cats and dogs']"
      ]
     },
     "execution_count": 8,
     "metadata": {},
     "output_type": "execute_result"
    }
   ],
   "source": [
    "remo.list_datasets() "
   ]
  },
  {
   "cell_type": "code",
   "execution_count": 10,
   "metadata": {},
   "outputs": [
    {
     "name": "stdout",
     "output_type": "stream",
     "text": [
      "Open http://localhost:8000/datasets/28\n"
     ]
    }
   ],
   "source": [
    "my_dataset = remo.get_dataset(28)\n",
    "my_dataset.view()"
   ]
  },
  {
   "cell_type": "code",
   "execution_count": 11,
   "metadata": {},
   "outputs": [],
   "source": [
    "val = my_dataset[0:len(my_dataset) // 3]\n",
    "train = my_dataset[len(my_dataset) // 3:]\n",
    "val.export_annotation_to_csv('val.csv')\n",
    "train.export_annotation_to_csv('train.csv')"
   ]
  },
  {
   "cell_type": "markdown",
   "metadata": {},
   "source": [
    "We export our train and validation sets into .csv files in the format of:\n",
    "  \n",
    "    file_name,class,xmin,ymin,xmax,ymax,height,width\n",
    "\t039b687dbee6ec4a.jpg,Person,103.863296,283.794432,226.743296,588.800256,768,1024\n",
    "\t039b687dbee6ec4a.jpg,Person,383.268864,212.845824,558.811136,626.833920,768,1024\n",
    "    ..\n"
   ]
  },
  {
   "cell_type": "markdown",
   "metadata": {},
   "source": [
    "## Prepare for Object Detection"
   ]
  },
  {
   "cell_type": "markdown",
   "metadata": {},
   "source": [
    "We will use darknet to simulate the usage flow. We need to convert annotation format into .xml for darknet."
   ]
  },
  {
   "cell_type": "code",
   "execution_count": 36,
   "metadata": {},
   "outputs": [],
   "source": [
    "from example.detection import *\n",
    "import warnings\n",
    "warnings.filterwarnings('ignore')"
   ]
  },
  {
   "cell_type": "markdown",
   "metadata": {},
   "source": [
    "We will group by file_name and aggreagate in a list in the case of multiple objects."
   ]
  },
  {
   "cell_type": "code",
   "execution_count": 34,
   "metadata": {},
   "outputs": [],
   "source": [
    "prepare_data(path_to_csv_annotations='train.csv', image_path='/Users/melodi/Docs/images/', annotation_path='/Users/melodi/Docs/annots/')"
   ]
  },
  {
   "cell_type": "markdown",
   "metadata": {},
   "source": [
    "### Darknet"
   ]
  },
  {
   "cell_type": "markdown",
   "metadata": {},
   "source": [
    "Now we train our model with our dataset and feed our validation set into the model and prepare the results to upload Remo."
   ]
  },
  {
   "cell_type": "code",
   "execution_count": 19,
   "metadata": {},
   "outputs": [
    {
     "name": "stdout",
     "output_type": "stream",
     "text": [
      "\n",
      "/Users/melodi/remo-python/cfg/yolov2.cfg parsing /Users/melodi/Docs/annots/\n",
      "Parsing for ['person', 'bicycle', 'car', 'motorbike', 'aeroplane', 'bus', 'train', 'truck', 'boat', 'traffic light', 'fire hydrant', 'stop sign', 'parking meter', 'bench', 'bird', 'cat', 'dog', 'horse', 'sheep', 'cow', 'elephant', 'bear', 'zebra', 'giraffe', 'backpack', 'umbrella', 'handbag', 'tie', 'suitcase', 'frisbee', 'skis', 'snowboard', 'sports ball', 'kite', 'baseball bat', 'baseball glove', 'skateboard', 'surfboard', 'tennis racket', 'bottle', 'wine glass', 'cup', 'fork', 'knife', 'spoon', 'bowl', 'banana', 'apple', 'sandwich', 'orange', 'broccoli', 'carrot', 'hot dog', 'pizza', 'donut', 'cake', 'chair', 'sofa', 'pottedplant', 'bed', 'diningtable', 'toilet', 'tvmonitor', 'laptop', 'mouse', 'remote', 'keyboard', 'cell phone', 'microwave', 'oven', 'toaster', 'sink', 'refrigerator', 'book', 'clock', 'vase', 'scissors', 'teddy bear', 'hair drier', 'toothbrush'] \n",
      "[====================>]100%  09e3c15d734763b1.xml\n",
      "Statistics:\n",
      "car: 194\n",
      "person: 296\n",
      "Dataset size: 134\n",
      "Dataset of 134 instance(s)\n",
      "Finish 1 epoch(es)\n"
     ]
    }
   ],
   "source": [
    "train_yolo(model_cfg=\"/Users/melodi/remo-python/cfg/yolov2.cfg\", weights=\"/Users/melodi/remo-python/bin/yolov2.weights\", batch_size=40, epoch=1, annotation_path=\"/Users/melodi/Docs/annots/\", image_path=\"/Users/melodi/Docs/images/\", label_path=\"/Users/melodi/remo-python/labels.txt\", backup_path=\"/Users/melodi/remo-python/ckpt/\")\n",
    "results = predict_yolo(model_cfg=\"/Users/melodi/remo-python/cfg/yolov2.cfg\", load=3, threshold=0.5, label_path=\"/Users/melodi/remo-python/labels.txt\", backup_path=\"/Users/melodi/remo-python/ckpt/\", root_path='/Users/melodi/remo-python/val/', classes=['Car','Person'])"
   ]
  },
  {
   "cell_type": "markdown",
   "metadata": {},
   "source": [
    "### Visualize Predictions in Remo"
   ]
  },
  {
   "cell_type": "markdown",
   "metadata": {},
   "source": [
    "Now we just post process the results in .json to have format .csv. We will upload this .csv file into Remo dataset."
   ]
  },
  {
   "cell_type": "code",
   "execution_count": 39,
   "metadata": {},
   "outputs": [],
   "source": [
    "df = post_process(results)\n",
    "df.to_csv('/Users/melodi/Docs/remo-python/example/detection_preds_raw1.csv',index=False)"
   ]
  },
  {
   "cell_type": "code",
   "execution_count": 42,
   "metadata": {},
   "outputs": [],
   "source": [
    "my_dataset.create_annotation_set(annotation_task='Object detection', name='Predictions',classes=['Person','Car'], path_to_annotation_file='/Users/melodi/Docs/remo-python/example/detection_preds_raw1.csv')"
   ]
  },
  {
   "cell_type": "code",
   "execution_count": 43,
   "metadata": {},
   "outputs": [
    {
     "name": "stdout",
     "output_type": "stream",
     "text": [
      "Open http://localhost:8000/datasets/28\n"
     ]
    }
   ],
   "source": [
    "my_dataset.view()"
   ]
  }
 ],
 "metadata": {
  "kernelspec": {
   "display_name": "Python 3",
   "language": "python",
   "name": "python3"
  },
  "language_info": {
   "codemirror_mode": {
    "name": "ipython",
    "version": 3
   },
   "file_extension": ".py",
   "mimetype": "text/x-python",
   "name": "python",
   "nbconvert_exporter": "python",
   "pygments_lexer": "ipython3",
   "version": "3.7.4"
  }
 },
 "nbformat": 4,
 "nbformat_minor": 2
}
