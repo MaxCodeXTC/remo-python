{
 "cells": [
  {
   "cell_type": "code",
   "execution_count": 1,
   "metadata": {},
   "outputs": [],
   "source": [
    "import sys\n",
    "# Specify path to Remo\n",
    "# Windows\n",
    "#local_path_to_repo =  'C:/Users/crows/Documents/GitHub/remo-python'\n",
    "# Mac\n",
    "local_path_to_repo = '/Users/melodi/Docs/remo-python'\n",
    "sys.path.insert(0, local_path_to_repo)"
   ]
  },
  {
   "cell_type": "code",
   "execution_count": 2,
   "metadata": {},
   "outputs": [
    {
     "name": "stdout",
     "output_type": "stream",
     "text": [
      "\n",
      "    (\\(\\ \n",
      "    (>':') Remo server is running: {'version': '0.3.5-184-g2d9bc73'}\n",
      "                \n"
     ]
    }
   ],
   "source": [
    "%load_ext autoreload\n",
    "%autoreload 2\n",
    "import remo"
   ]
  },
  {
   "cell_type": "markdown",
   "metadata": {},
   "source": [
    "## Get Dataset"
   ]
  },
  {
   "cell_type": "code",
   "execution_count": 3,
   "metadata": {},
   "outputs": [
    {
     "data": {
      "text/plain": [
       "[Dataset 1 - 'Vova's dataset',\n",
       " Dataset 2 - 'open images detection',\n",
       " Dataset 3 - 'Subset of OID',\n",
       " Dataset 4 - 'train',\n",
       " Dataset 6 - 'test',\n",
       " Dataset 12 - 'oid 100',\n",
       " Dataset 13 - 'open images sample data',\n",
       " Dataset 19 - 'oid building ',\n",
       " Dataset 21 - 'oid building and car',\n",
       " Dataset 22 - 'oid building car detection',\n",
       " Dataset 25 - 'open images data',\n",
       " Dataset 26 - 'oid car',\n",
       " Dataset 28 - 'oid car and person',\n",
       " Dataset 29 - 'test upload',\n",
       " Dataset 30 - 'test upload 2',\n",
       " Dataset 31 - 'cats and dogs']"
      ]
     },
     "execution_count": 3,
     "metadata": {},
     "output_type": "execute_result"
    }
   ],
   "source": [
    "remo.list_datasets()"
   ]
  },
  {
   "cell_type": "code",
   "execution_count": 3,
   "metadata": {},
   "outputs": [
    {
     "name": "stdout",
     "output_type": "stream",
     "text": [
      "Open http://localhost:8000/datasets/31\n"
     ]
    }
   ],
   "source": [
    "my_dataset = remo.get_dataset(31)\n",
    "my_dataset.view()"
   ]
  },
  {
   "cell_type": "markdown",
   "metadata": {},
   "source": [
    "![dataset](view_data2.gif)"
   ]
  },
  {
   "cell_type": "code",
   "execution_count": 6,
   "metadata": {},
   "outputs": [
    {
     "name": "stdout",
     "output_type": "stream",
     "text": [
      "Open http://localhost:8000/annotation-detail/32/intro\n"
     ]
    }
   ],
   "source": [
    "my_dataset.view_annotation_statistics()"
   ]
  },
  {
   "cell_type": "markdown",
   "metadata": {},
   "source": [
    "![annotation](view_annotation_statistics.gif)"
   ]
  },
  {
   "cell_type": "markdown",
   "metadata": {},
   "source": [
    "## Train-Test Split"
   ]
  },
  {
   "cell_type": "code",
   "execution_count": 4,
   "metadata": {},
   "outputs": [
    {
     "data": {
      "text/plain": [
       "200"
      ]
     },
     "execution_count": 4,
     "metadata": {},
     "output_type": "execute_result"
    }
   ],
   "source": [
    "len(my_dataset)"
   ]
  },
  {
   "cell_type": "code",
   "execution_count": 4,
   "metadata": {},
   "outputs": [],
   "source": [
    "val = my_dataset[0:len(my_dataset) // 3]\n",
    "train = my_dataset[len(my_dataset) // 3:]\n",
    "val.export_annotation_to_csv('val_cats_dogs.csv')\n",
    "train.export_annotation_to_csv('train_cats_dogs.csv')"
   ]
  },
  {
   "cell_type": "markdown",
   "metadata": {},
   "source": [
    "We export our train and validation sets into .csv files in the format of:\n",
    "  \n",
    "    file_name,class\n",
    "\tcat.8.jpg,Cat\n",
    "\tcat.9.jpg,Cat\n",
    "\tcat.10.jpg,Cat\n",
    "    ..\n"
   ]
  },
  {
   "cell_type": "markdown",
   "metadata": {},
   "source": [
    "## Prepare for Image Classification"
   ]
  },
  {
   "cell_type": "code",
   "execution_count": 5,
   "metadata": {},
   "outputs": [],
   "source": [
    "from example.classification import *"
   ]
  },
  {
   "cell_type": "markdown",
   "metadata": {},
   "source": [
    "### Arrange Train & Validation Data"
   ]
  },
  {
   "cell_type": "code",
   "execution_count": 7,
   "metadata": {},
   "outputs": [],
   "source": [
    "# TODO: check .csv reader in PyTorch\n",
    "arrange_folders(classes=['Cat','Dog'], root='/Users/melodi/dogscats/sample/')"
   ]
  },
  {
   "cell_type": "markdown",
   "metadata": {},
   "source": [
    "Now we can continue to build our classification model with PyTorch."
   ]
  },
  {
   "cell_type": "markdown",
   "metadata": {},
   "source": [
    "## PyTorch"
   ]
  },
  {
   "cell_type": "code",
   "execution_count": 8,
   "metadata": {},
   "outputs": [],
   "source": [
    "train_dataset, train_dataloader = prepare_datasets(root_path='/Users/melodi/dogscats/sample/', phase='train')\n",
    "val_dataset, val_dataloader = prepare_datasets(root_path='/Users/melodi/dogscats/sample/', phase='val')"
   ]
  },
  {
   "cell_type": "code",
   "execution_count": 9,
   "metadata": {},
   "outputs": [
    {
     "name": "stdout",
     "output_type": "stream",
     "text": [
      "Best Val Acc: 0.8636363636363636\n"
     ]
    }
   ],
   "source": [
    "model_ft = train_model(train_dataset, val_dataset, train_dataloader, val_dataloader, model_path='model_cat_dog.pth')"
   ]
  },
  {
   "cell_type": "markdown",
   "metadata": {},
   "source": [
    "Now we will feed our validation dataset into the model and combine the predictions in a dataframe and export as .csv to upload Remo."
   ]
  },
  {
   "cell_type": "code",
   "execution_count": 11,
   "metadata": {},
   "outputs": [],
   "source": [
    "df_preds = predict(train_dataset, val_dataloader, model_ft, model_path='/Users/melodi/Docs/remo-python/example/model_cat_dog.pth')"
   ]
  },
  {
   "cell_type": "code",
   "execution_count": 12,
   "metadata": {},
   "outputs": [],
   "source": [
    "df_preds.to_csv('preds_raw_cats_dogs.csv')"
   ]
  },
  {
   "cell_type": "markdown",
   "metadata": {},
   "source": [
    "## Visualize Predictions in Remo"
   ]
  },
  {
   "cell_type": "markdown",
   "metadata": {},
   "source": [
    "Now, we can create a new annotation set called \"Predictions\" and push our prediction annotations."
   ]
  },
  {
   "cell_type": "code",
   "execution_count": 13,
   "metadata": {},
   "outputs": [],
   "source": [
    "my_dataset.create_annotation_set(annotation_task='Image classification', name='Predictions',classes=[\"Dog\",\"Cat\"], path_to_annotation_file='/Users/melodi/Docs/remo-python/example/preds_raw_cats_dogs.csv')"
   ]
  },
  {
   "cell_type": "code",
   "execution_count": 14,
   "metadata": {},
   "outputs": [
    {
     "name": "stdout",
     "output_type": "stream",
     "text": [
      "Open http://localhost:8000/datasets/31\n"
     ]
    }
   ],
   "source": [
    "my_dataset.view()"
   ]
  }
 ],
 "metadata": {
  "kernelspec": {
   "display_name": "Python 3",
   "language": "python",
   "name": "python3"
  },
  "language_info": {
   "codemirror_mode": {
    "name": "ipython",
    "version": 3
   },
   "file_extension": ".py",
   "mimetype": "text/x-python",
   "name": "python",
   "nbconvert_exporter": "python",
   "pygments_lexer": "ipython3",
   "version": "3.7.4"
  },
  "toc": {
   "nav_menu": {},
   "number_sections": true,
   "sideBar": true,
   "skip_h1_title": false,
   "toc_cell": false,
   "toc_position": {},
   "toc_section_display": "block",
   "toc_window_display": false
  }
 },
 "nbformat": 4,
 "nbformat_minor": 2
}
