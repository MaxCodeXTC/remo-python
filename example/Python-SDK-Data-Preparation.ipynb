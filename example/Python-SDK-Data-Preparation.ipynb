{
 "cells": [
  {
   "cell_type": "code",
   "execution_count": 1,
   "metadata": {
    "scrolled": true
   },
   "outputs": [],
   "source": [
    "import sys\n",
    "# MC: need to specify path to remo in notebook\n",
    "local_path_to_repo =  'C:/Users/crows/Documents/GitHub/remo-python'\n",
    "\n",
    "sys.path.insert(0, local_path_to_repo)"
   ]
  },
  {
   "cell_type": "code",
   "execution_count": 2,
   "metadata": {
    "scrolled": true
   },
   "outputs": [
    {
     "name": "stdout",
     "output_type": "stream",
     "text": [
      "\n",
      "    (\\(\\ \n",
      "    (>':') Remo server is running: {'version': '0.3.4'}\n",
      "                \n"
     ]
    }
   ],
   "source": [
    "%load_ext autoreload\n",
    "%autoreload 2\n",
    "import remo"
   ]
  },
  {
   "cell_type": "markdown",
   "metadata": {},
   "source": [
    "## Create and visualize a dataset\n"
   ]
  },
  {
   "cell_type": "code",
   "execution_count": 3,
   "metadata": {
    "scrolled": true
   },
   "outputs": [
    {
     "name": "stdout",
     "output_type": "stream",
     "text": [
      "{'id': 25, 'name': 'open images data', 'annotation_sets': [], 'created_at': '2019-12-16T15:01:48.662313Z', 'license': None, 'is_public': False, 'users_shared': [], 'top3_classes': [], 'total_classes': 0, 'total_annotation_objects': 0}\n",
      "Progress 14% - 28/198 - elapsed 0:00:17.001000 - speed: 1.65 img / s, ETA: 0:01:43.220357\n",
      "Progress 25% - 50/198 - elapsed 0:00:35.001000 - speed: 1.43 img / s, ETA: 0:01:43.602960\n",
      "Progress 39% - 78/198 - elapsed 0:00:55.001000 - speed: 1.42 img / s, ETA: 0:01:24.616923\n",
      "Progress 54% - 108/198 - elapsed 0:01:13.001000 - speed: 1.48 img / s, ETA: 0:01:00.834167\n",
      "Progress 64% - 127/198 - elapsed 0:01:32.001000 - speed: 1.38 img / s, ETA: 0:00:51.433630\n",
      "Progress 77% - 154/198 - elapsed 0:01:51.001000 - speed: 1.39 img / s, ETA: 0:00:31.714571\n",
      "Progress 90% - 179/198 - elapsed 0:02:12.001000 - speed: 1.36 img / s, ETA: 0:00:14.011279\n",
      "Progress 100% - 198/198 - elapsed 0:02:35.001000 - speed: 1.28 img / s, ETA: 0:00:00\n"
     ]
    }
   ],
   "source": [
    "my_dataset = remo.create_dataset(name = 'open images data',  paths_to_upload = ['sample_data'], annotation_task = \"Object detection\")\n"
   ]
  },
  {
   "cell_type": "markdown",
   "metadata": {},
   "source": [
    "\n",
    "\n",
    "We can now visualize the dataset - this will open the UI in a separate window:"
   ]
  },
  {
   "cell_type": "code",
   "execution_count": 4,
   "metadata": {
    "scrolled": true
   },
   "outputs": [
    {
     "name": "stdout",
     "output_type": "stream",
     "text": [
      "Open http://localhost:8000/datasets/25\n"
     ]
    }
   ],
   "source": [
    "my_dataset.view()"
   ]
  },
  {
   "cell_type": "code",
   "execution_count": 5,
   "metadata": {
    "scrolled": true
   },
   "outputs": [],
   "source": [
    "my_dataset.export_annotation_to_csv('ann.csv')"
   ]
  },
  {
   "cell_type": "code",
   "execution_count": 10,
   "metadata": {
    "scrolled": true
   },
   "outputs": [
    {
     "data": {
      "text/plain": [
       "{'file_name': '0004d295cfb46842.jpg',\n",
       " 'height': 680,\n",
       " 'width': 1024,\n",
       " 'tags': [],\n",
       " 'task': 'Object detection',\n",
       " 'annotations': [{'classes': ['Car'],\n",
       "   'bbox': {'xmin': 0.0,\n",
       "    'ymin': 427.72136000000006,\n",
       "    'xmax': 46.72,\n",
       "    'ymax': 456.535}},\n",
       "  {'classes': ['Car'],\n",
       "   'bbox': {'xmin': 3.84,\n",
       "    'ymin': 407.87216,\n",
       "    'xmax': 24.96,\n",
       "    'ymax': 427.72136000000006}},\n",
       "  {'classes': ['Car'],\n",
       "   'bbox': {'xmin': 57.6, 'ymin': 412.9946, 'xmax': 82.56, 'ymax': 435.40468}},\n",
       "  {'classes': ['Car'],\n",
       "   'bbox': {'xmin': 157.44,\n",
       "    'ymin': 412.9946,\n",
       "    'xmax': 261.12,\n",
       "    'ymax': 452.05244000000005}},\n",
       "  {'classes': ['Car'],\n",
       "   'bbox': {'xmin': 556.16,\n",
       "    'ymin': 420.67792000000003,\n",
       "    'xmax': 670.08,\n",
       "    'ymax': 473.18276}},\n",
       "  {'classes': ['Car'],\n",
       "   'bbox': {'xmin': 744.96,\n",
       "    'ymin': 429.0018,\n",
       "    'xmax': 933.76,\n",
       "    'ymax': 498.1544}},\n",
       "  {'classes': ['Car'],\n",
       "   'bbox': {'xmin': 846.08,\n",
       "    'ymin': 407.87216,\n",
       "    'xmax': 880.0,\n",
       "    'ymax': 429.0018}},\n",
       "  {'classes': ['Building'],\n",
       "   'bbox': {'xmin': 0.0,\n",
       "    'ymin': 0.0,\n",
       "    'xmax': 871.68,\n",
       "    'ymax': 423.87935999999996}}]}"
      ]
     },
     "execution_count": 10,
     "metadata": {},
     "output_type": "execute_result"
    }
   ],
   "source": [
    "my_dataset.annotations[0]"
   ]
  },
  {
   "cell_type": "markdown",
   "metadata": {},
   "source": [
    "## Train-Test Split"
   ]
  },
  {
   "cell_type": "code",
   "execution_count": 11,
   "metadata": {
    "scrolled": true
   },
   "outputs": [
    {
     "data": {
      "text/plain": [
       "[Annotation set 17 - 'Object detection', task: Object detection, #classes: 2]"
      ]
     },
     "execution_count": 11,
     "metadata": {},
     "output_type": "execute_result"
    }
   ],
   "source": [
    "my_dataset.annotation_sets"
   ]
  },
  {
   "cell_type": "code",
   "execution_count": 12,
   "metadata": {
    "scrolled": true
   },
   "outputs": [],
   "source": [
    "my_dataset = remo.get_dataset(25)"
   ]
  },
  {
   "cell_type": "code",
   "execution_count": 13,
   "metadata": {
    "scrolled": true
   },
   "outputs": [
    {
     "data": {
      "text/plain": [
       "197"
      ]
     },
     "execution_count": 13,
     "metadata": {},
     "output_type": "execute_result"
    }
   ],
   "source": [
    "len(my_dataset)"
   ]
  },
  {
   "cell_type": "code",
   "execution_count": 14,
   "metadata": {
    "scrolled": true
   },
   "outputs": [
    {
     "name": "stdout",
     "output_type": "stream",
     "text": [
      "Open http://localhost:8000/datasets/25\n"
     ]
    }
   ],
   "source": [
    "my_dataset.view()"
   ]
  },
  {
   "cell_type": "code",
   "execution_count": 15,
   "metadata": {
    "scrolled": true
   },
   "outputs": [
    {
     "data": {
      "text/plain": [
       "Dataset 25 - 'open images data'"
      ]
     },
     "execution_count": 15,
     "metadata": {},
     "output_type": "execute_result"
    }
   ],
   "source": [
    "my_dataset"
   ]
  },
  {
   "cell_type": "code",
   "execution_count": null,
   "metadata": {
    "scrolled": true
   },
   "outputs": [
    {
     "name": "stdout",
     "output_type": "stream",
     "text": [
      "Progress 13% - 27/198 - elapsed 0:00:34.001000 - speed: 0.79 img / s, ETA: 0:03:35.339667\n",
      "Progress 26% - 52/198 - elapsed 0:01:05.001000 - speed: 0.80 img / s, ETA: 0:03:02.502808\n",
      "Progress 37% - 74/198 - elapsed 0:01:32.001000 - speed: 0.80 img / s, ETA: 0:02:34.163838\n",
      "Progress 49% - 98/198 - elapsed 0:01:58.001000 - speed: 0.83 img / s, ETA: 0:02:00.409184\n"
     ]
    }
   ],
   "source": [
    "my_dataset.add_data(paths_to_upload = ['sample_data'],\n",
    "                    annotation_task = \"Object detection\")"
   ]
  },
  {
   "cell_type": "code",
   "execution_count": 16,
   "metadata": {
    "scrolled": true
   },
   "outputs": [],
   "source": [
    "test = my_dataset[0:len(my_dataset)//3]"
   ]
  },
  {
   "cell_type": "code",
   "execution_count": 17,
   "metadata": {
    "scrolled": true
   },
   "outputs": [],
   "source": [
    "train = my_dataset[len(my_dataset)//3:]"
   ]
  },
  {
   "cell_type": "code",
   "execution_count": 18,
   "metadata": {
    "scrolled": true
   },
   "outputs": [
    {
     "data": {
      "text/plain": [
       "65"
      ]
     },
     "execution_count": 18,
     "metadata": {},
     "output_type": "execute_result"
    }
   ],
   "source": [
    "len(test)"
   ]
  },
  {
   "cell_type": "code",
   "execution_count": 19,
   "metadata": {
    "scrolled": true
   },
   "outputs": [
    {
     "data": {
      "text/plain": [
       "132"
      ]
     },
     "execution_count": 19,
     "metadata": {},
     "output_type": "execute_result"
    }
   ],
   "source": [
    "len(train)"
   ]
  },
  {
   "cell_type": "code",
   "execution_count": 22,
   "metadata": {
    "scrolled": false
   },
   "outputs": [
    {
     "data": {
      "text/plain": [
       "[{'file_name': '0013b65ae5b1a2c9.jpg',\n",
       "  'height': 768,\n",
       "  'width': 1024,\n",
       "  'tags': [],\n",
       "  'task': 'Object detection',\n",
       "  'annotations': [{'classes': ['Car'],\n",
       "    'bbox': {'xmin': 60.16, 'ymin': 216.96, 'xmax': 816.0, 'ymax': 504.96}}]},\n",
       " {'file_name': '004a86ae32a121ab.jpg',\n",
       "  'height': 813,\n",
       "  'width': 1024,\n",
       "  'tags': [],\n",
       "  'task': 'Object detection',\n",
       "  'annotations': [{'classes': ['Car'],\n",
       "    'bbox': {'xmin': 8.96,\n",
       "     'ymin': 279.748422,\n",
       "     'xmax': 723.84,\n",
       "     'ymax': 777.7914089999999}},\n",
       "   {'classes': ['Car'],\n",
       "    'bbox': {'xmin': 786.56,\n",
       "     'ymin': 402.659388,\n",
       "     'xmax': 839.68,\n",
       "     'ymax': 434.66719800000004}}]}]"
      ]
     },
     "execution_count": 22,
     "metadata": {},
     "output_type": "execute_result"
    }
   ],
   "source": [
    "test.annotations[:2]"
   ]
  },
  {
   "cell_type": "code",
   "execution_count": 24,
   "metadata": {
    "scrolled": true
   },
   "outputs": [
    {
     "data": {
      "text/plain": [
       "[<remo.domain.image.Image at 0x1af848538d0>,\n",
       " <remo.domain.image.Image at 0x1af84853be0>]"
      ]
     },
     "execution_count": 24,
     "metadata": {},
     "output_type": "execute_result"
    }
   ],
   "source": [
    "test.images[:2]"
   ]
  },
  {
   "cell_type": "code",
   "execution_count": 25,
   "metadata": {
    "scrolled": true
   },
   "outputs": [],
   "source": [
    "test.export_annotation_to_csv('test_sample.csv')"
   ]
  },
  {
   "cell_type": "code",
   "execution_count": 26,
   "metadata": {
    "scrolled": true
   },
   "outputs": [],
   "source": [
    "import pandas as pd\n",
    "df = pd.read_csv('test_sample.csv')"
   ]
  },
  {
   "cell_type": "code",
   "execution_count": 27,
   "metadata": {
    "scrolled": true
   },
   "outputs": [
    {
     "data": {
      "text/html": [
       "<div>\n",
       "<style scoped>\n",
       "    .dataframe tbody tr th:only-of-type {\n",
       "        vertical-align: middle;\n",
       "    }\n",
       "\n",
       "    .dataframe tbody tr th {\n",
       "        vertical-align: top;\n",
       "    }\n",
       "\n",
       "    .dataframe thead th {\n",
       "        text-align: right;\n",
       "    }\n",
       "</style>\n",
       "<table border=\"1\" class=\"dataframe\">\n",
       "  <thead>\n",
       "    <tr style=\"text-align: right;\">\n",
       "      <th></th>\n",
       "      <th>file_name</th>\n",
       "      <th>class</th>\n",
       "      <th>xmin</th>\n",
       "      <th>ymin</th>\n",
       "      <th>xmax</th>\n",
       "      <th>ymax</th>\n",
       "    </tr>\n",
       "  </thead>\n",
       "  <tbody>\n",
       "    <tr>\n",
       "      <th>0</th>\n",
       "      <td>0013b65ae5b1a2c9.jpg</td>\n",
       "      <td>Car</td>\n",
       "      <td>60.16</td>\n",
       "      <td>216.960000</td>\n",
       "      <td>816.00</td>\n",
       "      <td>504.960000</td>\n",
       "    </tr>\n",
       "    <tr>\n",
       "      <th>1</th>\n",
       "      <td>004a86ae32a121ab.jpg</td>\n",
       "      <td>Car</td>\n",
       "      <td>8.96</td>\n",
       "      <td>279.748422</td>\n",
       "      <td>723.84</td>\n",
       "      <td>777.791409</td>\n",
       "    </tr>\n",
       "    <tr>\n",
       "      <th>2</th>\n",
       "      <td>004a86ae32a121ab.jpg</td>\n",
       "      <td>Car</td>\n",
       "      <td>786.56</td>\n",
       "      <td>402.659388</td>\n",
       "      <td>839.68</td>\n",
       "      <td>434.667198</td>\n",
       "    </tr>\n",
       "    <tr>\n",
       "      <th>3</th>\n",
       "      <td>007741a1be3f3280.jpg</td>\n",
       "      <td>Car</td>\n",
       "      <td>0.00</td>\n",
       "      <td>294.399744</td>\n",
       "      <td>1022.72</td>\n",
       "      <td>766.719744</td>\n",
       "    </tr>\n",
       "    <tr>\n",
       "      <th>4</th>\n",
       "      <td>007741a1be3f3280.jpg</td>\n",
       "      <td>Car</td>\n",
       "      <td>10.24</td>\n",
       "      <td>316.160256</td>\n",
       "      <td>153.60</td>\n",
       "      <td>368.640000</td>\n",
       "    </tr>\n",
       "  </tbody>\n",
       "</table>\n",
       "</div>"
      ],
      "text/plain": [
       "              file_name class    xmin        ymin     xmax        ymax\n",
       "0  0013b65ae5b1a2c9.jpg   Car   60.16  216.960000   816.00  504.960000\n",
       "1  004a86ae32a121ab.jpg   Car    8.96  279.748422   723.84  777.791409\n",
       "2  004a86ae32a121ab.jpg   Car  786.56  402.659388   839.68  434.667198\n",
       "3  007741a1be3f3280.jpg   Car    0.00  294.399744  1022.72  766.719744\n",
       "4  007741a1be3f3280.jpg   Car   10.24  316.160256   153.60  368.640000"
      ]
     },
     "execution_count": 27,
     "metadata": {},
     "output_type": "execute_result"
    }
   ],
   "source": [
    "df.head()"
   ]
  },
  {
   "cell_type": "code",
   "execution_count": 28,
   "metadata": {
    "scrolled": true
   },
   "outputs": [
    {
     "name": "stdout",
     "output_type": "stream",
     "text": [
      "Open http://localhost:8000/image/2283?datasetId=25\n"
     ]
    }
   ],
   "source": [
    "test.view_image(test.images[0].id)"
   ]
  },
  {
   "cell_type": "code",
   "execution_count": 30,
   "metadata": {
    "scrolled": true
   },
   "outputs": [
    {
     "data": {
      "text/plain": [
       "[{'id': 2283, 'name': '07e36613d79f5cc0.jpg'},\n",
       " {'id': 2284, 'name': '07b102540742adc5.jpg'},\n",
       " {'id': 2285, 'name': '0e455d20edea1228.jpg'},\n",
       " {'id': 2286, 'name': '09451560f37c7a31.jpg'},\n",
       " {'id': 2287, 'name': '0a45aa66eb78e5cd.jpg'}]"
      ]
     },
     "execution_count": 30,
     "metadata": {},
     "output_type": "execute_result"
    }
   ],
   "source": [
    "test.list_images(limit=5)"
   ]
  },
  {
   "cell_type": "code",
   "execution_count": null,
   "metadata": {
    "scrolled": true
   },
   "outputs": [],
   "source": [
    "## TODO: test.view_annotate()\n",
    "## TODO: subset = dataset.search_images('Dog')"
   ]
  }
 ],
 "metadata": {
  "kernelspec": {
   "display_name": "Python 3",
   "language": "python",
   "name": "python3"
  },
  "language_info": {
   "codemirror_mode": {
    "name": "ipython",
    "version": 3
   },
   "file_extension": ".py",
   "mimetype": "text/x-python",
   "name": "python",
   "nbconvert_exporter": "python",
   "pygments_lexer": "ipython3",
   "version": "3.7.3"
  },
  "toc": {
   "nav_menu": {},
   "number_sections": true,
   "sideBar": true,
   "skip_h1_title": false,
   "toc_cell": false,
   "toc_position": {},
   "toc_section_display": "block",
   "toc_window_display": false
  }
 },
 "nbformat": 4,
 "nbformat_minor": 2
}
