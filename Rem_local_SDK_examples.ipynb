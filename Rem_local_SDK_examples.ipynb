{
 "cells": [
  {
   "cell_type": "code",
   "execution_count": null,
   "metadata": {},
   "outputs": [
    {
     "name": "stdout",
     "output_type": "stream",
     "text": [
      "The autoreload extension is already loaded. To reload it, use:\n",
      "  %reload_ext autoreload\n"
     ]
    }
   ],
   "source": [
    "%load_ext autoreload\n",
    "%autoreload 2\n",
    "import remo"
   ]
  },
  {
   "cell_type": "markdown",
   "metadata": {},
   "source": [
    "### List datasets"
   ]
  },
  {
   "cell_type": "code",
   "execution_count": 2,
   "metadata": {
    "scrolled": true
   },
   "outputs": [
    {
     "data": {
      "text/plain": [
       "[Dataset 1 - 'dogs',\n",
       " Dataset 4 - 'dataset test: imagenet',\n",
       " Dataset 10 - 'sample 3',\n",
       " Dataset 14 - 'sample dataset 2',\n",
       " Dataset 15 - 'sample open images 3',\n",
       " Dataset 19 - 'open images browse 3',\n",
       " Dataset 21 - 'dataset test: sample 11',\n",
       " Dataset 22 - 'dataset test: sample 12',\n",
       " Dataset 30 - 'new trial 5',\n",
       " Dataset 31 - 'new trial 6',\n",
       " Dataset 32 - 'new trial 7',\n",
       " Dataset 33 - 'new trial 8',\n",
       " Dataset 34 - 'new trial 9',\n",
       " Dataset 35 - 'new trial 10',\n",
       " Dataset 39 - 'dataset test: simple sample 1',\n",
       " Dataset 41 - 'dataset test: simple sample 2']"
      ]
     },
     "execution_count": 2,
     "metadata": {},
     "output_type": "execute_result"
    }
   ],
   "source": [
    "my_datasets = remo.list_datasets() \n",
    "my_datasets"
   ]
  },
  {
   "cell_type": "markdown",
   "metadata": {},
   "source": [
    "### Get a dataset"
   ]
  },
  {
   "cell_type": "code",
   "execution_count": 3,
   "metadata": {},
   "outputs": [
    {
     "data": {
      "text/plain": [
       "Dataset 1 - 'dogs'"
      ]
     },
     "execution_count": 3,
     "metadata": {},
     "output_type": "execute_result"
    }
   ],
   "source": [
    "my_dataset = remo.get_dataset(1)\n",
    "my_dataset"
   ]
  },
  {
   "cell_type": "code",
   "execution_count": 4,
   "metadata": {},
   "outputs": [
    {
     "data": {
      "text/plain": [
       "Dataset 39 - 'dataset test: simple sample 1'"
      ]
     },
     "execution_count": 4,
     "metadata": {},
     "output_type": "execute_result"
    }
   ],
   "source": [
    "my_dataset_2 = remo.get_dataset(39)\n",
    "my_dataset_2"
   ]
  },
  {
   "cell_type": "markdown",
   "metadata": {},
   "source": [
    "### Create dataset\n"
   ]
  },
  {
   "cell_type": "code",
   "execution_count": 5,
   "metadata": {},
   "outputs": [
    {
     "name": "stdout",
     "output_type": "stream",
     "text": [
      "{'id': 71, 'name': 'dataset test: simple sample 3', 'annotation_sets': [], 'created_at': '2019-11-06T09:21:40.648963Z', 'license': None, 'is_public': False, 'users_shared': [], 'top3_classes': [], 'total_classes': 0, 'total_annotation_objects': 0}\n",
      "Progress 100% - 11/11 - elapsed 0:00:04.001000 - speed: 2.75 img / s, ETA: 0:00:00\n"
     ]
    }
   ],
   "source": [
    "dataset = remo.sdk.create_dataset(name = 'dataset test: simple sample 3',\n",
    "                            paths_to_upload = ['simple_dataset'],\n",
    "                            annotation_task=remo.AnnotationTask.object_detection)\n"
   ]
  },
  {
   "cell_type": "code",
   "execution_count": 6,
   "metadata": {},
   "outputs": [
    {
     "name": "stdout",
     "output_type": "stream",
     "text": [
      "{'id': 72, 'name': 'dataset test: simple sample 4', 'annotation_sets': [], 'created_at': '2019-11-06T09:21:49.279454Z', 'license': None, 'is_public': False, 'users_shared': [], 'top3_classes': [], 'total_classes': 0, 'total_annotation_objects': 0}\n",
      "Progress 100% - 11/11 - elapsed 0:00:03.001000 - speed: 3.67 img / s, ETA: 0:00:00\n"
     ]
    }
   ],
   "source": [
    "dataset_2 = remo.sdk.create_dataset(name = 'dataset test: simple sample 4',\n",
    "                            paths_to_upload = ['simple_dataset'],\n",
    "                            annotation_task=remo.AnnotationTask.image_classification)\n"
   ]
  },
  {
   "cell_type": "code",
   "execution_count": 7,
   "metadata": {},
   "outputs": [
    {
     "name": "stdout",
     "output_type": "stream",
     "text": [
      "{'id': 73, 'name': 'dataset test: sample 5', 'annotation_sets': [], 'created_at': '2019-11-06T09:21:57.184026Z', 'license': None, 'is_public': False, 'users_shared': [], 'top3_classes': [], 'total_classes': 0, 'total_annotation_objects': 0}\n",
      "Progress 100% - 1/1 - elapsed 0:00:04.001000 - speed: 0.25 img / s, ETA: 0:00:00\n"
     ]
    }
   ],
   "source": [
    "dataset_3 = remo.sdk.create_dataset(name = 'dataset test: sample 5',\n",
    "                            paths_to_upload = ['open_images_sample_dataset.zip'],\n",
    "                            annotation_task=remo.AnnotationTask.object_detection)\n"
   ]
  },
  {
   "cell_type": "code",
   "execution_count": 8,
   "metadata": {},
   "outputs": [
    {
     "name": "stdout",
     "output_type": "stream",
     "text": [
      "{'id': 74, 'name': 'dataset test: sample 6', 'annotation_sets': [], 'created_at': '2019-11-06T09:22:05.596358Z', 'license': None, 'is_public': False, 'users_shared': [], 'top3_classes': [], 'total_classes': 0, 'total_annotation_objects': 0}\n",
      "Progress 100% - 11/11 - elapsed 0:00:04.001000 - speed: 2.75 img / s, ETA: 0:00:00\n"
     ]
    }
   ],
   "source": [
    "dataset_4 = remo.sdk.create_dataset(name = 'dataset test: sample 6',\n",
    "                            paths_to_upload = ['open_images_sample_dataset'],\n",
    "                            annotation_task=remo.AnnotationTask.object_detection)\n"
   ]
  },
  {
   "cell_type": "markdown",
   "metadata": {},
   "source": [
    "### View Dataset"
   ]
  },
  {
   "cell_type": "code",
   "execution_count": 9,
   "metadata": {},
   "outputs": [
    {
     "name": "stdout",
     "output_type": "stream",
     "text": [
      "Open http://localhost:8000/datasets/71\n"
     ]
    }
   ],
   "source": [
    "dataset.view()"
   ]
  },
  {
   "cell_type": "markdown",
   "metadata": {},
   "source": [
    "### Add data to your dataset"
   ]
  },
  {
   "cell_type": "code",
   "execution_count": 10,
   "metadata": {},
   "outputs": [
    {
     "name": "stdout",
     "output_type": "stream",
     "text": [
      "Progress 100% - 11/11 - elapsed 0:00:04.001000 - speed: 2.75 img / s, ETA: 0:00:00\n"
     ]
    },
    {
     "data": {
      "text/plain": [
       "{'files_upload_result': <generator object Executor.map.<locals>.result_iterator at 0x000001B34BF07CF0>}"
      ]
     },
     "execution_count": 10,
     "metadata": {},
     "output_type": "execute_result"
    }
   ],
   "source": [
    "dataset.add_data(paths_to_upload = ['open_images_sample_dataset'], annotation_task=remo.AnnotationTask.object_detection)"
   ]
  },
  {
   "cell_type": "code",
   "execution_count": 11,
   "metadata": {},
   "outputs": [
    {
     "data": {
      "text/plain": [
       "{'files_upload_result': <generator object Executor.map.<locals>.result_iterator at 0x000001B34BF07F48>}"
      ]
     },
     "execution_count": 11,
     "metadata": {},
     "output_type": "execute_result"
    }
   ],
   "source": [
    "remo.sdk.add_data_to_dataset(1, paths_to_upload = ['dog1.jpg'])"
   ]
  },
  {
   "cell_type": "markdown",
   "metadata": {},
   "source": [
    "### List Annotations"
   ]
  },
  {
   "cell_type": "code",
   "execution_count": 12,
   "metadata": {},
   "outputs": [
    {
     "data": {
      "text/plain": [
       "[Annotation set 51 - 'Object detection', task: Object detection, #classes: 18]"
      ]
     },
     "execution_count": 12,
     "metadata": {},
     "output_type": "execute_result"
    }
   ],
   "source": [
    "dataset.annotation_sets()\n"
   ]
  },
  {
   "cell_type": "code",
   "execution_count": 14,
   "metadata": {},
   "outputs": [
    {
     "data": {
      "text/plain": [
       "[Annotation set 51 - 'Object detection', task: Object detection, #classes: 18]"
      ]
     },
     "execution_count": 14,
     "metadata": {},
     "output_type": "execute_result"
    }
   ],
   "source": [
    "remo.sdk.list_annotation_sets(dataset_id=71) "
   ]
  },
  {
   "cell_type": "markdown",
   "metadata": {},
   "source": [
    "### Annotation statistics "
   ]
  },
  {
   "cell_type": "code",
   "execution_count": 15,
   "metadata": {},
   "outputs": [
    {
     "data": {
      "text/plain": [
       "[\"Annotation set 51 - 'Object detection',  #images: 20, #classes: 18, #objects: 196, Top3 classes: [('Fruit', 54), ('Sports equipment', 24), ('Human arm', 20)], Released: None, Updated: 2019-11-06T09:23:44.230729Z \"]"
      ]
     },
     "execution_count": 15,
     "metadata": {},
     "output_type": "execute_result"
    }
   ],
   "source": [
    "dataset.annotation_statistics()"
   ]
  },
  {
   "cell_type": "code",
   "execution_count": 16,
   "metadata": {},
   "outputs": [
    {
     "data": {
      "text/plain": [
       "[\"Annotation set 51 - 'Object detection',  #images: 20, #classes: 18, #objects: 196, Top3 classes: [('Fruit', 54), ('Sports equipment', 24), ('Human arm', 20)], Released: None, Updated: 2019-11-06T09:23:44.230729Z \"]"
      ]
     },
     "execution_count": 16,
     "metadata": {},
     "output_type": "execute_result"
    }
   ],
   "source": [
    "remo.sdk.annotation_statistics(dataset_id=71) "
   ]
  },
  {
   "cell_type": "markdown",
   "metadata": {},
   "source": [
    "### Get annotations"
   ]
  },
  {
   "cell_type": "code",
   "execution_count": 17,
   "metadata": {},
   "outputs": [
    {
     "data": {
      "text/plain": [
       "[{'file_name': '0001eeaf4aed83f9.jpg',\n",
       "  'height': 447,\n",
       "  'width': 1024,\n",
       "  'tags': [],\n",
       "  'task': 'Object detection',\n",
       "  'annotations': [{'classes': ['Airplane'],\n",
       "    'bbox': {'xmin': 23.217183744,\n",
       "     'ymin': 31.75409775,\n",
       "     'xmax': 987.3413119999999,\n",
       "     'ymax': 357.84427209}}]},\n",
       " {'file_name': '000595fe6fee6369.jpg',\n",
       "  'height': 681,\n",
       "  'width': 1024,\n",
       "  'tags': [],\n",
       "  'task': 'Object detection',\n",
       "  'annotations': [{'classes': ['Food'],\n",
       "    'bbox': {'xmin': 0.0, 'ymin': 0.0, 'xmax': 1024.0, 'ymax': 681.0}},\n",
       "   {'classes': ['Fruit'],\n",
       "    'bbox': {'xmin': 144.7776256,\n",
       "     'ymin': 460.54324776,\n",
       "     'xmax': 183.988224,\n",
       "     'ymax': 498.29269173}},\n",
       "   {'classes': ['Fruit'],\n",
       "    'bbox': {'xmin': 218.67451392,\n",
       "     'ymin': 203.84701242,\n",
       "     'xmax': 259.39322880000003,\n",
       "     'ymax': 241.59644277}},\n",
       "   {'classes': ['Fruit'],\n",
       "    'bbox': {'xmin': 238.27981312,\n",
       "     'ymin': 333.70510457999995,\n",
       "     'xmax': 295.58761472,\n",
       "     'ymax': 371.45455536000003}},\n",
       "   {'classes': ['Fruit'],\n",
       "    'bbox': {'xmin': 251.85271808,\n",
       "     'ymin': 372.96452984999996,\n",
       "     'xmax': 298.6038272,\n",
       "     'ymax': 412.2239415}},\n",
       "   {'classes': ['Fruit'],\n",
       "    'bbox': {'xmin': 251.85271808,\n",
       "     'ymin': 449.9734059000001,\n",
       "     'xmax': 297.0957312,\n",
       "     'ymax': 487.72280219999993}},\n",
       "   {'classes': ['Fruit'],\n",
       "    'bbox': {'xmin': 253.36082432,\n",
       "     'ymin': 258.20620302000003,\n",
       "     'xmax': 291.06332672,\n",
       "     'ymax': 297.4656351}},\n",
       "   {'classes': ['Fruit'],\n",
       "    'bbox': {'xmin': 253.36082432,\n",
       "     'ymin': 413.7339228,\n",
       "     'xmax': 301.6200192,\n",
       "     'ymax': 459.03326646}},\n",
       "   {'classes': ['Fruit'],\n",
       "    'bbox': {'xmin': 277.49042176,\n",
       "     'ymin': 406.18405716,\n",
       "     'xmax': 313.68484864,\n",
       "     'ymax': 448.4634246}},\n",
       "   {'classes': ['Fruit'],\n",
       "    'bbox': {'xmin': 289.5552512,\n",
       "     'ymin': 228.00665874,\n",
       "     'xmax': 349.8792448,\n",
       "     'ymax': 291.42572352}},\n",
       "   {'classes': ['Fruit'],\n",
       "    'bbox': {'xmin': 324.24155136,\n",
       "     'ymin': 120.79822479,\n",
       "     'xmax': 369.48452352,\n",
       "     'ymax': 167.60754294}},\n",
       "   {'classes': ['Fruit'],\n",
       "    'bbox': {'xmin': 358.92783104,\n",
       "     'ymin': 409.20400614,\n",
       "     'xmax': 393.6141312,\n",
       "     'ymax': 456.0133311}},\n",
       "   {'classes': ['Fruit'],\n",
       "    'bbox': {'xmin': 363.45214976,\n",
       "     'ymin': 442.4234994,\n",
       "     'xmax': 410.2032384,\n",
       "     'ymax': 495.27274275}},\n",
       "   {'classes': ['Fruit'],\n",
       "    'bbox': {'xmin': 384.56555519999995,\n",
       "     'ymin': 403.1640537,\n",
       "     'xmax': 437.34902784,\n",
       "     'ymax': 449.9734059000001}},\n",
       "   {'classes': ['Fruit'],\n",
       "    'bbox': {'xmin': 389.0898432,\n",
       "     'ymin': 261.226152,\n",
       "     'xmax': 606.2562816,\n",
       "     'ymax': 422.7938105999999}},\n",
       "   {'classes': ['Fruit'],\n",
       "    'bbox': {'xmin': 416.2356224,\n",
       "     'ymin': 169.11751743,\n",
       "     'xmax': 461.47863552,\n",
       "     'ymax': 206.8669614}},\n",
       "   {'classes': ['Fruit'],\n",
       "    'bbox': {'xmin': 437.34902784,\n",
       "     'ymin': 486.21284132999995,\n",
       "     'xmax': 478.06775296,\n",
       "     'ymax': 526.9822479000001}},\n",
       "   {'classes': ['Fruit'],\n",
       "    'bbox': {'xmin': 443.3814528,\n",
       "     'ymin': 406.18405716,\n",
       "     'xmax': 508.2297344,\n",
       "     'ymax': 466.5831321}},\n",
       "   {'classes': ['Fruit'],\n",
       "    'bbox': {'xmin': 444.88955904,\n",
       "     'ymin': 501.31263390000004,\n",
       "     'xmax': 494.65686016,\n",
       "     'ymax': 554.1618432}},\n",
       "   {'classes': ['Fruit'],\n",
       "    'bbox': {'xmin': 467.51105024,\n",
       "     'ymin': 138.91795953,\n",
       "     'xmax': 624.3534847999999,\n",
       "     'ymax': 344.27493963}},\n",
       "   {'classes': ['Fruit'],\n",
       "    'bbox': {'xmin': 564.02948096,\n",
       "     'ymin': 439.40353680000004,\n",
       "     'xmax': 610.7805696,\n",
       "     'ymax': 484.70286684}},\n",
       "   {'classes': ['Fruit'],\n",
       "    'bbox': {'xmin': 618.3210496,\n",
       "     'ymin': 308.03547015,\n",
       "     'xmax': 659.039744,\n",
       "     'ymax': 354.8447883}},\n",
       "   {'classes': ['Fruit'],\n",
       "    'bbox': {'xmin': 631.89398528,\n",
       "     'ymin': 200.8270362,\n",
       "     'xmax': 686.1855744,\n",
       "     'ymax': 252.16629824999998}},\n",
       "   {'classes': ['Fruit'],\n",
       "    'bbox': {'xmin': 645.4668287999999,\n",
       "     'ymin': 357.86473047,\n",
       "     'xmax': 696.7422464,\n",
       "     'ymax': 401.6540724}},\n",
       "   {'classes': ['Fruit'],\n",
       "    'bbox': {'xmin': 646.974976,\n",
       "     'ymin': 477.1530011999999,\n",
       "     'xmax': 693.72607488,\n",
       "     'ymax': 525.4722665999999}},\n",
       "   {'classes': ['Fruit'],\n",
       "    'bbox': {'xmin': 654.51544576,\n",
       "     'ymin': 92.10865499999998,\n",
       "     'xmax': 699.7584896000001,\n",
       "     'ymax': 137.40798504}},\n",
       "   {'classes': ['Fruit'],\n",
       "    'bbox': {'xmin': 687.69366016,\n",
       "     'ymin': 197.80708722,\n",
       "     'xmax': 735.952896,\n",
       "     'ymax': 241.59644277}},\n",
       "   {'classes': ['Fruit'],\n",
       "    'bbox': {'xmin': 758.5743872,\n",
       "     'ymin': 108.71840163,\n",
       "     'xmax': 809.84979456,\n",
       "     'ymax': 166.09756164}}]},\n",
       " {'file_name': '00075905539074f2.jpg',\n",
       "  'height': 914,\n",
       "  'width': 1024,\n",
       "  'tags': [],\n",
       "  'task': 'Object detection',\n",
       "  'annotations': [{'classes': ['Clothing'],\n",
       "    'bbox': {'xmin': 111.83617024,\n",
       "     'ymin': 258.6462792,\n",
       "     'xmax': 265.61093632,\n",
       "     'ymax': 407.19312379999997}},\n",
       "   {'classes': ['Clothing'],\n",
       "    'bbox': {'xmin': 344.24572928,\n",
       "     'ymin': 52.428297664,\n",
       "     'xmax': 648.3003392,\n",
       "     'ymax': 580.2065053599999}},\n",
       "   {'classes': ['Clothing'],\n",
       "    'bbox': {'xmin': 719.9453696,\n",
       "     'ymin': 228.93689200000003,\n",
       "     'xmax': 987.30377216,\n",
       "     'ymax': 763.7055873999999}},\n",
       "   {'classes': ['Human body'],\n",
       "    'bbox': {'xmin': 15.726961664000001,\n",
       "     'ymin': 94.37093872,\n",
       "     'xmax': 339.00342272,\n",
       "     'ymax': 597.6826057999999}},\n",
       "   {'classes': ['Human body'],\n",
       "    'bbox': {'xmin': 337.25597696,\n",
       "     'ymin': 0.0,\n",
       "     'xmax': 662.27984384,\n",
       "     'ymax': 604.67303318}},\n",
       "   {'classes': ['Human body'],\n",
       "    'bbox': {'xmin': 700.72356864,\n",
       "     'ymin': 171.265777,\n",
       "     'xmax': 1013.5153664,\n",
       "     'ymax': 858.076453}},\n",
       "   {'classes': ['Mammal'],\n",
       "    'bbox': {'xmin': 8.737202176,\n",
       "     'ymin': 99.613767024,\n",
       "     'xmax': 332.01363968,\n",
       "     'ymax': 604.67303318}},\n",
       "   {'classes': ['Mammal'],\n",
       "    'bbox': {'xmin': 340.750848,\n",
       "     'ymin': 0.0,\n",
       "     'xmax': 660.5324287999999,\n",
       "     'ymax': 608.168288}},\n",
       "   {'classes': ['Mammal'],\n",
       "    'bbox': {'xmin': 697.2286976,\n",
       "     'ymin': 164.27533134,\n",
       "     'xmax': 1011.76794112,\n",
       "     'ymax': 861.57171696}},\n",
       "   {'classes': ['Footwear'],\n",
       "    'bbox': {'xmin': 26.211603456,\n",
       "     'ymin': 505.05926250000005,\n",
       "     'xmax': 89.119453184,\n",
       "     'ymax': 576.7112414000001}},\n",
       "   {'classes': ['Footwear'],\n",
       "    'bbox': {'xmin': 286.58020352,\n",
       "     'ymin': 522.5353537999999,\n",
       "     'xmax': 333.7610752,\n",
       "     'ymax': 606.4206286}},\n",
       "   {'classes': ['Footwear'],\n",
       "    'bbox': {'xmin': 405.4061568,\n",
       "     'ymin': 503.3116487999999,\n",
       "     'xmax': 478.7986432,\n",
       "     'ymax': 529.5258086}},\n",
       "   {'classes': ['Footwear'],\n",
       "    'bbox': {'xmin': 592.3822592,\n",
       "     'ymin': 571.468446,\n",
       "     'xmax': 618.5938944000001,\n",
       "     'ymax': 608.168288}},\n",
       "   {'classes': ['Footwear'],\n",
       "    'bbox': {'xmin': 700.72356864,\n",
       "     'ymin': 256.89865635999996,\n",
       "     'xmax': 788.0955904,\n",
       "     'ymax': 321.5602353}},\n",
       "   {'classes': ['Footwear'],\n",
       "    'bbox': {'xmin': 940.12285952,\n",
       "     'ymin': 823.1242703999999,\n",
       "     'xmax': 1013.5153664,\n",
       "     'ymax': 859.8241124}},\n",
       "   {'classes': ['Sports equipment'],\n",
       "    'bbox': {'xmin': 15.726961664000001,\n",
       "     'ymin': 253.4034381,\n",
       "     'xmax': 69.89761536,\n",
       "     'ymax': 319.8126216000001}},\n",
       "   {'classes': ['Sports equipment'],\n",
       "    'bbox': {'xmin': 113.58361599999999,\n",
       "     'ymin': 260.39386548,\n",
       "     'xmax': 265.61093632,\n",
       "     'ymax': 407.19312379999997}},\n",
       "   {'classes': ['Sports equipment'],\n",
       "    'bbox': {'xmin': 199.208192,\n",
       "     'ymin': 110.09942546,\n",
       "     'xmax': 260.36858880000005,\n",
       "     'ymax': 167.77055874}},\n",
       "   {'classes': ['Sports equipment'],\n",
       "    'bbox': {'xmin': 700.72356864,\n",
       "     'ymin': 253.4034381,\n",
       "     'xmax': 789.8430463999999,\n",
       "     'ymax': 323.307849}},\n",
       "   {'classes': ['Sports equipment'],\n",
       "    'bbox': {'xmin': 721.69280512,\n",
       "     'ymin': 225.44167374,\n",
       "     'xmax': 987.30377216,\n",
       "     'ymax': 749.7246778}},\n",
       "   {'classes': ['Sports equipment'],\n",
       "    'bbox': {'xmin': 737.419776,\n",
       "     'ymin': 171.265777,\n",
       "     'xmax': 823.04437248,\n",
       "     'ymax': 234.17972396}},\n",
       "   {'classes': ['Sports equipment'],\n",
       "    'bbox': {'xmin': 898.18432512,\n",
       "     'ymin': 744.48184584,\n",
       "     'xmax': 969.829376,\n",
       "     'ymax': 835.3575663}},\n",
       "   {'classes': ['Sports equipment'],\n",
       "    'bbox': {'xmin': 936.6280191999999,\n",
       "     'ymin': 819.629043,\n",
       "     'xmax': 1018.75769344,\n",
       "     'ymax': 861.57171696}},\n",
       "   {'classes': ['Sports equipment'],\n",
       "    'bbox': {'xmin': 941.8702847999999,\n",
       "     'ymin': 347.77437682000004,\n",
       "     'xmax': 999.5358207999999,\n",
       "     'ymax': 424.6692151}},\n",
       "   {'classes': ['Sports equipment'],\n",
       "    'bbox': {'xmin': 945.3651968,\n",
       "     'ymin': 344.27915856000004,\n",
       "     'xmax': 999.5358207999999,\n",
       "     'ymax': 405.44549182}},\n",
       "   {'classes': ['Sports equipment'],\n",
       "    'bbox': {'xmin': 947.11261184,\n",
       "     'ymin': 697.2963582,\n",
       "     'xmax': 968.08192,\n",
       "     'ymax': 718.2677226000001}},\n",
       "   {'classes': ['Sports equipment'],\n",
       "    'bbox': {'xmin': 947.11261184,\n",
       "     'ymin': 697.2963582,\n",
       "     'xmax': 971.5767808,\n",
       "     'ymax': 723.510518}},\n",
       "   {'classes': ['Human arm'],\n",
       "    'bbox': {'xmin': 15.726961664000001,\n",
       "     'ymin': 230.68451484000002,\n",
       "     'xmax': 113.58361599999999,\n",
       "     'ymax': 335.54111748}},\n",
       "   {'classes': ['Human arm'],\n",
       "    'bbox': {'xmin': 162.51194368,\n",
       "     'ymin': 106.60420719999999,\n",
       "     'xmax': 263.8635008,\n",
       "     'ymax': 199.22753222}},\n",
       "   {'classes': ['Human arm'],\n",
       "    'bbox': {'xmin': 339.00342272,\n",
       "     'ymin': 64.6615698,\n",
       "     'xmax': 477.05120768,\n",
       "     'ymax': 162.52772678}},\n",
       "   {'classes': ['Human arm'],\n",
       "    'bbox': {'xmin': 531.2218624,\n",
       "     'ymin': 55.923517752,\n",
       "     'xmax': 660.5324287999999,\n",
       "     'ymax': 200.97513677999999}},\n",
       "   {'classes': ['Human arm'],\n",
       "    'bbox': {'xmin': 739.167232,\n",
       "     'ymin': 171.265777,\n",
       "     'xmax': 926.1433856000001,\n",
       "     'ymax': 394.95985532}},\n",
       "   {'classes': ['Human arm'],\n",
       "    'bbox': {'xmin': 905.1740672,\n",
       "     'ymin': 510.30210359999995,\n",
       "     'xmax': 992.5460992000001,\n",
       "     'ymax': 728.7533133999999}},\n",
       "   {'classes': ['Man'],\n",
       "    'bbox': {'xmin': 20.969283584,\n",
       "     'ymin': 87.3805022,\n",
       "     'xmax': 337.25597696,\n",
       "     'ymax': 608.168288}},\n",
       "   {'classes': ['Man'],\n",
       "    'bbox': {'xmin': 328.51875839999997,\n",
       "     'ymin': 0.0,\n",
       "     'xmax': 655.29010176,\n",
       "     'ymax': 602.9254012000001}},\n",
       "   {'classes': ['Man'],\n",
       "    'bbox': {'xmin': 691.9863296,\n",
       "     'ymin': 157.28488568,\n",
       "     'xmax': 1015.2628223999999,\n",
       "     'ymax': 866.8145215000001}}]},\n",
       " {'file_name': '0007cebe1b2ba653.jpg',\n",
       "  'height': 683,\n",
       "  'width': 1024,\n",
       "  'tags': [],\n",
       "  'task': 'Object detection',\n",
       "  'annotations': [{'classes': ['Trousers'],\n",
       "    'bbox': {'xmin': 753.6519168,\n",
       "     'ymin': 15.110619601999998,\n",
       "     'xmax': 948.4837888000001,\n",
       "     'ymax': 275.01326938}},\n",
       "   {'classes': ['Dog'],\n",
       "    'bbox': {'xmin': 430.44247552,\n",
       "     'ymin': 123.90708019,\n",
       "     'xmax': 812.5545472,\n",
       "     'ymax': 492.6061687}},\n",
       "   {'classes': ['Human leg'],\n",
       "    'bbox': {'xmin': 750.63129088,\n",
       "     'ymin': 18.132742976000003,\n",
       "     'xmax': 841.2507136,\n",
       "     'ymax': 275.01326938}},\n",
       "   {'classes': ['Human leg'],\n",
       "    'bbox': {'xmin': 845.7817087999999,\n",
       "     'ymin': 4.533185744000001,\n",
       "     'xmax': 953.014784,\n",
       "     'ymax': 256.8805346}},\n",
       "   {'classes': ['Person'],\n",
       "    'bbox': {'xmin': 752.1416192,\n",
       "     'ymin': 0.0,\n",
       "     'xmax': 954.5250815999999,\n",
       "     'ymax': 252.34734066}},\n",
       "   {'classes': ['Mammal'],\n",
       "    'bbox': {'xmin': 749.1209728,\n",
       "     'ymin': 0.0,\n",
       "     'xmax': 963.58703104,\n",
       "     'ymax': 265.94690882}},\n",
       "   {'classes': ['Footwear'],\n",
       "    'bbox': {'xmin': 919.7876223999999,\n",
       "     'ymin': 229.68141194,\n",
       "     'xmax': 951.504384,\n",
       "     'ymax': 252.34734066}},\n",
       "   {'classes': ['Human arm'],\n",
       "    'bbox': {'xmin': 795.9409664,\n",
       "     'ymin': 0.0,\n",
       "     'xmax': 823.1268352000001,\n",
       "     'ymax': 13.599557915}}]},\n",
       " {'file_name': '0007d6cf88afaa4a.jpg',\n",
       "  'height': 614,\n",
       "  'width': 1024,\n",
       "  'tags': [],\n",
       "  'task': 'Object detection',\n",
       "  'annotations': [{'classes': ['Dog'],\n",
       "    'bbox': {'xmin': 177.58880768,\n",
       "     'ymin': 133.10489094,\n",
       "     'xmax': 923.7482495999999,\n",
       "     'ymax': 578.2191254400001}}]},\n",
       " {'file_name': '0008e425fb49a2bf.jpg',\n",
       "  'height': 1024,\n",
       "  'width': 987,\n",
       "  'tags': [],\n",
       "  'task': 'Object detection',\n",
       "  'annotations': [{'classes': ['Dog'],\n",
       "    'bbox': {'xmin': 223.16361165,\n",
       "     'ymin': 114.38298112,\n",
       "     'xmax': 705.7775444999999,\n",
       "     'ymax': 956.82269184}}]},\n",
       " {'file_name': '0009bad4d8539bb4.jpg',\n",
       "  'height': 681,\n",
       "  'width': 1024,\n",
       "  'tags': [],\n",
       "  'task': 'Object detection',\n",
       "  'annotations': [{'classes': ['Airplane'],\n",
       "    'bbox': {'xmin': 301.6200192,\n",
       "     'ymin': 232.02212075999998,\n",
       "     'xmax': 722.37993984,\n",
       "     'ymax': 351.0464427}}]},\n",
       " {'file_name': '000a045a0715d64d.jpg',\n",
       "  'height': 680,\n",
       "  'width': 1024,\n",
       "  'tags': [],\n",
       "  'task': 'Object detection',\n",
       "  'annotations': [{'classes': ['Person'],\n",
       "    'bbox': {'xmin': 366.46832128,\n",
       "     'ymin': 244.25719679999997,\n",
       "     'xmax': 416.2356224,\n",
       "     'ymax': 349.800432}},\n",
       "   {'classes': ['Person'],\n",
       "    'bbox': {'xmin': 377.02502400000003,\n",
       "     'ymin': 280.443458,\n",
       "     'xmax': 476.55962624,\n",
       "     'ymax': 343.7693964}},\n",
       "   {'classes': ['Person'],\n",
       "    'bbox': {'xmin': 441.8733568,\n",
       "     'ymin': 223.14856880000002,\n",
       "     'xmax': 491.64065792,\n",
       "     'ymax': 324.168512}},\n",
       "   {'classes': ['Person'],\n",
       "    'bbox': {'xmin': 491.64065792,\n",
       "     'ymin': 194.5011072,\n",
       "     'xmax': 568.5537792,\n",
       "     'ymax': 325.67627600000003}},\n",
       "   {'classes': ['Mammal'],\n",
       "    'bbox': {'xmin': 363.45214976,\n",
       "     'ymin': 196.0088644,\n",
       "     'xmax': 472.0353280000001,\n",
       "     'ymax': 345.27714}},\n",
       "   {'classes': ['Mammal'],\n",
       "    'bbox': {'xmin': 443.3814528,\n",
       "     'ymin': 189.9778288,\n",
       "     'xmax': 500.68924416,\n",
       "     'ymax': 327.1840264}},\n",
       "   {'classes': ['Mammal'],\n",
       "    'bbox': {'xmin': 488.62445568,\n",
       "     'ymin': 159.8226168,\n",
       "     'xmax': 570.061824,\n",
       "     'ymax': 319.6452336}}]},\n",
       " {'file_name': '000a1249af2bc5f0.jpg',\n",
       "  'height': 678,\n",
       "  'width': 1024,\n",
       "  'tags': [],\n",
       "  'task': 'Object detection',\n",
       "  'annotations': [{'classes': ['Fashion accessory'],\n",
       "    'bbox': {'xmin': 441.22353664,\n",
       "     'ymin': 189.41907048000002,\n",
       "     'xmax': 612.8941056,\n",
       "     'ymax': 329.2283928}},\n",
       "   {'classes': ['Fashion accessory'],\n",
       "    'bbox': {'xmin': 459.29412608,\n",
       "     'ymin': 320.2084164,\n",
       "     'xmax': 545.1293696,\n",
       "     'ymax': 365.3082306}},\n",
       "   {'classes': ['Person'],\n",
       "    'bbox': {'xmin': 0.0,\n",
       "     'ymin': 0.0,\n",
       "     'xmax': 605.3646848,\n",
       "     'ymax': 676.4966705999999}},\n",
       "   {'classes': ['Clothing'],\n",
       "    'bbox': {'xmin': 582.77649408,\n",
       "     'ymin': 1.50332601,\n",
       "     'xmax': 1022.49413632,\n",
       "     'ymax': 634.4035491}},\n",
       "   {'classes': ['Human body'],\n",
       "    'bbox': {'xmin': 0.0,\n",
       "     'ymin': 0.0,\n",
       "     'xmax': 433.69412608,\n",
       "     'ymax': 674.9933412}},\n",
       "   {'classes': ['Human body'],\n",
       "    'bbox': {'xmin': 233.41175808,\n",
       "     'ymin': 0.0,\n",
       "     'xmax': 1022.49413632,\n",
       "     'ymax': 670.48338012}},\n",
       "   {'classes': ['Human hand'],\n",
       "    'bbox': {'xmin': 18.07058944,\n",
       "     'ymin': 61.63636302,\n",
       "     'xmax': 310.21175808,\n",
       "     'ymax': 434.4611796}},\n",
       "   {'classes': ['Human hand'],\n",
       "    'bbox': {'xmin': 227.38823168,\n",
       "     'ymin': 285.63192155999997,\n",
       "     'xmax': 677.6470528,\n",
       "     'ymax': 678.0}},\n",
       "   {'classes': ['Human hand'],\n",
       "    'bbox': {'xmin': 313.22353664,\n",
       "     'ymin': 190.9223931,\n",
       "     'xmax': 603.8588416,\n",
       "     'ymax': 508.1241846}},\n",
       "   {'classes': ['Human arm'],\n",
       "    'bbox': {'xmin': 0.0,\n",
       "     'ymin': 0.0,\n",
       "     'xmax': 314.72940032,\n",
       "     'ymax': 419.42795340000004}},\n",
       "   {'classes': ['Human arm'],\n",
       "    'bbox': {'xmin': 222.87058944,\n",
       "     'ymin': 0.0,\n",
       "     'xmax': 804.1411584,\n",
       "     'ymax': 533.6807166}},\n",
       "   {'classes': ['Human arm'],\n",
       "    'bbox': {'xmin': 231.90588416,\n",
       "     'ymin': 288.63858713999997,\n",
       "     'xmax': 721.317632,\n",
       "     'ymax': 674.9933412}},\n",
       "   {'classes': ['Woman'],\n",
       "    'bbox': {'xmin': 0.0, 'ymin': 0.0, 'xmax': 1024.0, 'ymax': 678.0}},\n",
       "   {'classes': ['Man'],\n",
       "    'bbox': {'xmin': 227.38823168,\n",
       "     'ymin': 0.0,\n",
       "     'xmax': 1022.49413632,\n",
       "     'ymax': 670.48338012}}]},\n",
       " {'file_name': '000ada55d36b4bcb.jpg',\n",
       "  'height': 683,\n",
       "  'width': 1024,\n",
       "  'tags': [],\n",
       "  'task': 'Object detection',\n",
       "  'annotations': [{'classes': ['Salad'],\n",
       "    'bbox': {'xmin': 146.5014784,\n",
       "     'ymin': 34.754424265000004,\n",
       "     'xmax': 1022.4897024,\n",
       "     'ymax': 679.97789575}}]},\n",
       " {'file_name': '0001eeaf4aed83f9.jpg',\n",
       "  'height': 447,\n",
       "  'width': 1024,\n",
       "  'tags': [],\n",
       "  'task': 'Object detection',\n",
       "  'annotations': [{'classes': ['Airplane'],\n",
       "    'bbox': {'xmin': 23.217183744,\n",
       "     'ymin': 31.75409775,\n",
       "     'xmax': 987.3413119999999,\n",
       "     'ymax': 357.84427209}}]},\n",
       " {'file_name': '000595fe6fee6369.jpg',\n",
       "  'height': 681,\n",
       "  'width': 1024,\n",
       "  'tags': [],\n",
       "  'task': 'Object detection',\n",
       "  'annotations': [{'classes': ['Food'],\n",
       "    'bbox': {'xmin': 0.0, 'ymin': 0.0, 'xmax': 1024.0, 'ymax': 681.0}},\n",
       "   {'classes': ['Fruit'],\n",
       "    'bbox': {'xmin': 144.7776256,\n",
       "     'ymin': 460.54324776,\n",
       "     'xmax': 183.988224,\n",
       "     'ymax': 498.29269173}},\n",
       "   {'classes': ['Fruit'],\n",
       "    'bbox': {'xmin': 218.67451392,\n",
       "     'ymin': 203.84701242,\n",
       "     'xmax': 259.39322880000003,\n",
       "     'ymax': 241.59644277}},\n",
       "   {'classes': ['Fruit'],\n",
       "    'bbox': {'xmin': 238.27981312,\n",
       "     'ymin': 333.70510457999995,\n",
       "     'xmax': 295.58761472,\n",
       "     'ymax': 371.45455536000003}},\n",
       "   {'classes': ['Fruit'],\n",
       "    'bbox': {'xmin': 251.85271808,\n",
       "     'ymin': 372.96452984999996,\n",
       "     'xmax': 298.6038272,\n",
       "     'ymax': 412.2239415}},\n",
       "   {'classes': ['Fruit'],\n",
       "    'bbox': {'xmin': 251.85271808,\n",
       "     'ymin': 449.9734059000001,\n",
       "     'xmax': 297.0957312,\n",
       "     'ymax': 487.72280219999993}},\n",
       "   {'classes': ['Fruit'],\n",
       "    'bbox': {'xmin': 253.36082432,\n",
       "     'ymin': 258.20620302000003,\n",
       "     'xmax': 291.06332672,\n",
       "     'ymax': 297.4656351}},\n",
       "   {'classes': ['Fruit'],\n",
       "    'bbox': {'xmin': 253.36082432,\n",
       "     'ymin': 413.7339228,\n",
       "     'xmax': 301.6200192,\n",
       "     'ymax': 459.03326646}},\n",
       "   {'classes': ['Fruit'],\n",
       "    'bbox': {'xmin': 277.49042176,\n",
       "     'ymin': 406.18405716,\n",
       "     'xmax': 313.68484864,\n",
       "     'ymax': 448.4634246}},\n",
       "   {'classes': ['Fruit'],\n",
       "    'bbox': {'xmin': 289.5552512,\n",
       "     'ymin': 228.00665874,\n",
       "     'xmax': 349.8792448,\n",
       "     'ymax': 291.42572352}},\n",
       "   {'classes': ['Fruit'],\n",
       "    'bbox': {'xmin': 324.24155136,\n",
       "     'ymin': 120.79822479,\n",
       "     'xmax': 369.48452352,\n",
       "     'ymax': 167.60754294}},\n",
       "   {'classes': ['Fruit'],\n",
       "    'bbox': {'xmin': 358.92783104,\n",
       "     'ymin': 409.20400614,\n",
       "     'xmax': 393.6141312,\n",
       "     'ymax': 456.0133311}},\n",
       "   {'classes': ['Fruit'],\n",
       "    'bbox': {'xmin': 363.45214976,\n",
       "     'ymin': 442.4234994,\n",
       "     'xmax': 410.2032384,\n",
       "     'ymax': 495.27274275}},\n",
       "   {'classes': ['Fruit'],\n",
       "    'bbox': {'xmin': 384.56555519999995,\n",
       "     'ymin': 403.1640537,\n",
       "     'xmax': 437.34902784,\n",
       "     'ymax': 449.9734059000001}},\n",
       "   {'classes': ['Fruit'],\n",
       "    'bbox': {'xmin': 389.0898432,\n",
       "     'ymin': 261.226152,\n",
       "     'xmax': 606.2562816,\n",
       "     'ymax': 422.7938105999999}},\n",
       "   {'classes': ['Fruit'],\n",
       "    'bbox': {'xmin': 416.2356224,\n",
       "     'ymin': 169.11751743,\n",
       "     'xmax': 461.47863552,\n",
       "     'ymax': 206.8669614}},\n",
       "   {'classes': ['Fruit'],\n",
       "    'bbox': {'xmin': 437.34902784,\n",
       "     'ymin': 486.21284132999995,\n",
       "     'xmax': 478.06775296,\n",
       "     'ymax': 526.9822479000001}},\n",
       "   {'classes': ['Fruit'],\n",
       "    'bbox': {'xmin': 443.3814528,\n",
       "     'ymin': 406.18405716,\n",
       "     'xmax': 508.2297344,\n",
       "     'ymax': 466.5831321}},\n",
       "   {'classes': ['Fruit'],\n",
       "    'bbox': {'xmin': 444.88955904,\n",
       "     'ymin': 501.31263390000004,\n",
       "     'xmax': 494.65686016,\n",
       "     'ymax': 554.1618432}},\n",
       "   {'classes': ['Fruit'],\n",
       "    'bbox': {'xmin': 467.51105024,\n",
       "     'ymin': 138.91795953,\n",
       "     'xmax': 624.3534847999999,\n",
       "     'ymax': 344.27493963}},\n",
       "   {'classes': ['Fruit'],\n",
       "    'bbox': {'xmin': 564.02948096,\n",
       "     'ymin': 439.40353680000004,\n",
       "     'xmax': 610.7805696,\n",
       "     'ymax': 484.70286684}},\n",
       "   {'classes': ['Fruit'],\n",
       "    'bbox': {'xmin': 618.3210496,\n",
       "     'ymin': 308.03547015,\n",
       "     'xmax': 659.039744,\n",
       "     'ymax': 354.8447883}},\n",
       "   {'classes': ['Fruit'],\n",
       "    'bbox': {'xmin': 631.89398528,\n",
       "     'ymin': 200.8270362,\n",
       "     'xmax': 686.1855744,\n",
       "     'ymax': 252.16629824999998}},\n",
       "   {'classes': ['Fruit'],\n",
       "    'bbox': {'xmin': 645.4668287999999,\n",
       "     'ymin': 357.86473047,\n",
       "     'xmax': 696.7422464,\n",
       "     'ymax': 401.6540724}},\n",
       "   {'classes': ['Fruit'],\n",
       "    'bbox': {'xmin': 646.974976,\n",
       "     'ymin': 477.1530011999999,\n",
       "     'xmax': 693.72607488,\n",
       "     'ymax': 525.4722665999999}},\n",
       "   {'classes': ['Fruit'],\n",
       "    'bbox': {'xmin': 654.51544576,\n",
       "     'ymin': 92.10865499999998,\n",
       "     'xmax': 699.7584896000001,\n",
       "     'ymax': 137.40798504}},\n",
       "   {'classes': ['Fruit'],\n",
       "    'bbox': {'xmin': 687.69366016,\n",
       "     'ymin': 197.80708722,\n",
       "     'xmax': 735.952896,\n",
       "     'ymax': 241.59644277}},\n",
       "   {'classes': ['Fruit'],\n",
       "    'bbox': {'xmin': 758.5743872,\n",
       "     'ymin': 108.71840163,\n",
       "     'xmax': 809.84979456,\n",
       "     'ymax': 166.09756164}}]},\n",
       " {'file_name': '00075905539074f2.jpg',\n",
       "  'height': 914,\n",
       "  'width': 1024,\n",
       "  'tags': [],\n",
       "  'task': 'Object detection',\n",
       "  'annotations': [{'classes': ['Clothing'],\n",
       "    'bbox': {'xmin': 111.83617024,\n",
       "     'ymin': 258.6462792,\n",
       "     'xmax': 265.61093632,\n",
       "     'ymax': 407.19312379999997}},\n",
       "   {'classes': ['Clothing'],\n",
       "    'bbox': {'xmin': 344.24572928,\n",
       "     'ymin': 52.428297664,\n",
       "     'xmax': 648.3003392,\n",
       "     'ymax': 580.2065053599999}},\n",
       "   {'classes': ['Clothing'],\n",
       "    'bbox': {'xmin': 719.9453696,\n",
       "     'ymin': 228.93689200000003,\n",
       "     'xmax': 987.30377216,\n",
       "     'ymax': 763.7055873999999}},\n",
       "   {'classes': ['Human body'],\n",
       "    'bbox': {'xmin': 15.726961664000001,\n",
       "     'ymin': 94.37093872,\n",
       "     'xmax': 339.00342272,\n",
       "     'ymax': 597.6826057999999}},\n",
       "   {'classes': ['Human body'],\n",
       "    'bbox': {'xmin': 337.25597696,\n",
       "     'ymin': 0.0,\n",
       "     'xmax': 662.27984384,\n",
       "     'ymax': 604.67303318}},\n",
       "   {'classes': ['Human body'],\n",
       "    'bbox': {'xmin': 700.72356864,\n",
       "     'ymin': 171.265777,\n",
       "     'xmax': 1013.5153664,\n",
       "     'ymax': 858.076453}},\n",
       "   {'classes': ['Mammal'],\n",
       "    'bbox': {'xmin': 8.737201664,\n",
       "     'ymin': 99.613767024,\n",
       "     'xmax': 332.01363968,\n",
       "     'ymax': 604.67303318}},\n",
       "   {'classes': ['Mammal'],\n",
       "    'bbox': {'xmin': 340.750848,\n",
       "     'ymin': 0.0,\n",
       "     'xmax': 660.5324287999999,\n",
       "     'ymax': 608.168288}},\n",
       "   {'classes': ['Mammal'],\n",
       "    'bbox': {'xmin': 697.2286976,\n",
       "     'ymin': 164.27533134,\n",
       "     'xmax': 1011.76794112,\n",
       "     'ymax': 861.57171696}},\n",
       "   {'classes': ['Footwear'],\n",
       "    'bbox': {'xmin': 26.211603456,\n",
       "     'ymin': 505.05926250000005,\n",
       "     'xmax': 89.119453184,\n",
       "     'ymax': 576.7112414000001}},\n",
       "   {'classes': ['Footwear'],\n",
       "    'bbox': {'xmin': 286.58020352,\n",
       "     'ymin': 522.5353537999999,\n",
       "     'xmax': 333.7610752,\n",
       "     'ymax': 606.4206286}},\n",
       "   {'classes': ['Footwear'],\n",
       "    'bbox': {'xmin': 405.4061568,\n",
       "     'ymin': 503.3116487999999,\n",
       "     'xmax': 478.7986432,\n",
       "     'ymax': 529.5258086}},\n",
       "   {'classes': ['Footwear'],\n",
       "    'bbox': {'xmin': 592.3822592,\n",
       "     'ymin': 571.468446,\n",
       "     'xmax': 618.5938944000001,\n",
       "     'ymax': 608.168288}},\n",
       "   {'classes': ['Footwear'],\n",
       "    'bbox': {'xmin': 700.72356864,\n",
       "     'ymin': 256.89865635999996,\n",
       "     'xmax': 788.0955904,\n",
       "     'ymax': 321.5602353}},\n",
       "   {'classes': ['Footwear'],\n",
       "    'bbox': {'xmin': 940.12285952,\n",
       "     'ymin': 823.1242703999999,\n",
       "     'xmax': 1013.5153664,\n",
       "     'ymax': 859.8241124}},\n",
       "   {'classes': ['Sports equipment'],\n",
       "    'bbox': {'xmin': 15.726961664000001,\n",
       "     'ymin': 253.4034381,\n",
       "     'xmax': 69.89761536,\n",
       "     'ymax': 319.81262160000006}},\n",
       "   {'classes': ['Sports equipment'],\n",
       "    'bbox': {'xmin': 113.58361599999999,\n",
       "     'ymin': 260.39386548,\n",
       "     'xmax': 265.61093632,\n",
       "     'ymax': 407.19312379999997}},\n",
       "   {'classes': ['Sports equipment'],\n",
       "    'bbox': {'xmin': 199.208192,\n",
       "     'ymin': 110.09942546,\n",
       "     'xmax': 260.36858880000005,\n",
       "     'ymax': 167.77055874}},\n",
       "   {'classes': ['Sports equipment'],\n",
       "    'bbox': {'xmin': 700.72356864,\n",
       "     'ymin': 253.4034381,\n",
       "     'xmax': 789.8430463999999,\n",
       "     'ymax': 323.307849}},\n",
       "   {'classes': ['Sports equipment'],\n",
       "    'bbox': {'xmin': 721.69280512,\n",
       "     'ymin': 225.44167374,\n",
       "     'xmax': 987.30377216,\n",
       "     'ymax': 749.7246778}},\n",
       "   {'classes': ['Sports equipment'],\n",
       "    'bbox': {'xmin': 737.419776,\n",
       "     'ymin': 171.265777,\n",
       "     'xmax': 823.04437248,\n",
       "     'ymax': 234.17972396}},\n",
       "   {'classes': ['Sports equipment'],\n",
       "    'bbox': {'xmin': 898.18432512,\n",
       "     'ymin': 744.48184584,\n",
       "     'xmax': 969.829376,\n",
       "     'ymax': 835.3575663}},\n",
       "   {'classes': ['Sports equipment'],\n",
       "    'bbox': {'xmin': 936.6280191999999,\n",
       "     'ymin': 819.629043,\n",
       "     'xmax': 1018.75769344,\n",
       "     'ymax': 861.57171696}},\n",
       "   {'classes': ['Sports equipment'],\n",
       "    'bbox': {'xmin': 941.8702847999999,\n",
       "     'ymin': 347.77437682000004,\n",
       "     'xmax': 999.5358207999999,\n",
       "     'ymax': 424.6692151}},\n",
       "   {'classes': ['Sports equipment'],\n",
       "    'bbox': {'xmin': 945.3651968,\n",
       "     'ymin': 344.27915856000004,\n",
       "     'xmax': 999.5358207999999,\n",
       "     'ymax': 405.44549182}},\n",
       "   {'classes': ['Sports equipment'],\n",
       "    'bbox': {'xmin': 947.11261184,\n",
       "     'ymin': 697.2963582,\n",
       "     'xmax': 968.08192,\n",
       "     'ymax': 718.2677226000001}},\n",
       "   {'classes': ['Sports equipment'],\n",
       "    'bbox': {'xmin': 947.11261184,\n",
       "     'ymin': 697.2963582,\n",
       "     'xmax': 971.5767808,\n",
       "     'ymax': 723.510518}},\n",
       "   {'classes': ['Human arm'],\n",
       "    'bbox': {'xmin': 15.726961664000001,\n",
       "     'ymin': 230.68451484000002,\n",
       "     'xmax': 113.58361599999999,\n",
       "     'ymax': 335.54111748}},\n",
       "   {'classes': ['Human arm'],\n",
       "    'bbox': {'xmin': 162.51194368,\n",
       "     'ymin': 106.60420719999999,\n",
       "     'xmax': 263.8635008,\n",
       "     'ymax': 199.22753222}},\n",
       "   {'classes': ['Human arm'],\n",
       "    'bbox': {'xmin': 339.00342272,\n",
       "     'ymin': 64.6615698,\n",
       "     'xmax': 477.05120768,\n",
       "     'ymax': 162.52772678}},\n",
       "   {'classes': ['Human arm'],\n",
       "    'bbox': {'xmin': 531.2218624,\n",
       "     'ymin': 55.923517752,\n",
       "     'xmax': 660.5324287999999,\n",
       "     'ymax': 200.97513677999999}},\n",
       "   {'classes': ['Human arm'],\n",
       "    'bbox': {'xmin': 739.167232,\n",
       "     'ymin': 171.265777,\n",
       "     'xmax': 926.1433856000001,\n",
       "     'ymax': 394.95985532}},\n",
       "   {'classes': ['Human arm'],\n",
       "    'bbox': {'xmin': 905.1740672,\n",
       "     'ymin': 510.30210359999995,\n",
       "     'xmax': 992.5460992000001,\n",
       "     'ymax': 728.7533133999999}},\n",
       "   {'classes': ['Man'],\n",
       "    'bbox': {'xmin': 20.969283584,\n",
       "     'ymin': 87.3805022,\n",
       "     'xmax': 337.25597696,\n",
       "     'ymax': 608.168288}},\n",
       "   {'classes': ['Man'],\n",
       "    'bbox': {'xmin': 328.51875839999997,\n",
       "     'ymin': 0.0,\n",
       "     'xmax': 655.29010176,\n",
       "     'ymax': 602.9254012000001}},\n",
       "   {'classes': ['Man'],\n",
       "    'bbox': {'xmin': 691.9863296,\n",
       "     'ymin': 157.28488568,\n",
       "     'xmax': 1015.2628223999999,\n",
       "     'ymax': 866.8145215000001}}]},\n",
       " {'file_name': '0007cebe1b2ba653.jpg',\n",
       "  'height': 683,\n",
       "  'width': 1024,\n",
       "  'tags': [],\n",
       "  'task': 'Object detection',\n",
       "  'annotations': [{'classes': ['Trousers'],\n",
       "    'bbox': {'xmin': 753.6519168,\n",
       "     'ymin': 15.110619601999998,\n",
       "     'xmax': 948.4837888000001,\n",
       "     'ymax': 275.01326938}},\n",
       "   {'classes': ['Dog'],\n",
       "    'bbox': {'xmin': 430.44247552,\n",
       "     'ymin': 123.90708019,\n",
       "     'xmax': 812.5545472,\n",
       "     'ymax': 492.6061687}},\n",
       "   {'classes': ['Human leg'],\n",
       "    'bbox': {'xmin': 750.63129088,\n",
       "     'ymin': 18.132742976000003,\n",
       "     'xmax': 841.2507136,\n",
       "     'ymax': 275.01326938}},\n",
       "   {'classes': ['Human leg'],\n",
       "    'bbox': {'xmin': 845.7817087999999,\n",
       "     'ymin': 4.533185744000001,\n",
       "     'xmax': 953.014784,\n",
       "     'ymax': 256.8805346}},\n",
       "   {'classes': ['Person'],\n",
       "    'bbox': {'xmin': 752.1416192,\n",
       "     'ymin': 0.0,\n",
       "     'xmax': 954.5250815999999,\n",
       "     'ymax': 252.34734066}},\n",
       "   {'classes': ['Mammal'],\n",
       "    'bbox': {'xmin': 749.1209728,\n",
       "     'ymin': 0.0,\n",
       "     'xmax': 963.58703104,\n",
       "     'ymax': 265.94690882}},\n",
       "   {'classes': ['Footwear'],\n",
       "    'bbox': {'xmin': 919.7876223999999,\n",
       "     'ymin': 229.68141194,\n",
       "     'xmax': 951.504384,\n",
       "     'ymax': 252.34734066}},\n",
       "   {'classes': ['Human arm'],\n",
       "    'bbox': {'xmin': 795.9409664,\n",
       "     'ymin': 0.0,\n",
       "     'xmax': 823.1268352000001,\n",
       "     'ymax': 13.599557915}}]},\n",
       " {'file_name': '0007d6cf88afaa4a.jpg',\n",
       "  'height': 614,\n",
       "  'width': 1024,\n",
       "  'tags': [],\n",
       "  'task': 'Object detection',\n",
       "  'annotations': [{'classes': ['Dog'],\n",
       "    'bbox': {'xmin': 177.58880768,\n",
       "     'ymin': 133.10489094,\n",
       "     'xmax': 923.7482495999999,\n",
       "     'ymax': 578.2191254400001}}]},\n",
       " {'file_name': '0008e425fb49a2bf.jpg',\n",
       "  'height': 1024,\n",
       "  'width': 987,\n",
       "  'tags': [],\n",
       "  'task': 'Object detection',\n",
       "  'annotations': [{'classes': ['Dog'],\n",
       "    'bbox': {'xmin': 223.16361165,\n",
       "     'ymin': 114.38298112,\n",
       "     'xmax': 705.7775444999999,\n",
       "     'ymax': 956.82269184}}]},\n",
       " {'file_name': '0009bad4d8539bb4.jpg',\n",
       "  'height': 681,\n",
       "  'width': 1024,\n",
       "  'tags': [],\n",
       "  'task': 'Object detection',\n",
       "  'annotations': [{'classes': ['Airplane'],\n",
       "    'bbox': {'xmin': 301.6200192,\n",
       "     'ymin': 232.02212075999998,\n",
       "     'xmax': 722.37993984,\n",
       "     'ymax': 351.0464427}}]},\n",
       " {'file_name': '000a045a0715d64d.jpg',\n",
       "  'height': 680,\n",
       "  'width': 1024,\n",
       "  'tags': [],\n",
       "  'task': 'Object detection',\n",
       "  'annotations': [{'classes': ['Person'],\n",
       "    'bbox': {'xmin': 366.46832128,\n",
       "     'ymin': 244.25719679999997,\n",
       "     'xmax': 416.2356224,\n",
       "     'ymax': 349.800432}},\n",
       "   {'classes': ['Person'],\n",
       "    'bbox': {'xmin': 377.02502400000003,\n",
       "     'ymin': 280.443458,\n",
       "     'xmax': 476.55962624,\n",
       "     'ymax': 343.7693964}},\n",
       "   {'classes': ['Person'],\n",
       "    'bbox': {'xmin': 441.8733568,\n",
       "     'ymin': 223.14856880000002,\n",
       "     'xmax': 491.64065792,\n",
       "     'ymax': 324.168512}},\n",
       "   {'classes': ['Person'],\n",
       "    'bbox': {'xmin': 491.64065792,\n",
       "     'ymin': 194.5011072,\n",
       "     'xmax': 568.5537792,\n",
       "     'ymax': 325.67627600000003}},\n",
       "   {'classes': ['Mammal'],\n",
       "    'bbox': {'xmin': 363.45214976,\n",
       "     'ymin': 196.0088644,\n",
       "     'xmax': 472.03532800000005,\n",
       "     'ymax': 345.27714}},\n",
       "   {'classes': ['Mammal'],\n",
       "    'bbox': {'xmin': 443.3814528,\n",
       "     'ymin': 189.9778288,\n",
       "     'xmax': 500.68924416,\n",
       "     'ymax': 327.1840264}},\n",
       "   {'classes': ['Mammal'],\n",
       "    'bbox': {'xmin': 488.62445568,\n",
       "     'ymin': 159.8226168,\n",
       "     'xmax': 570.061824,\n",
       "     'ymax': 319.6452336}}]},\n",
       " {'file_name': '000a1249af2bc5f0.jpg',\n",
       "  'height': 678,\n",
       "  'width': 1024,\n",
       "  'tags': [],\n",
       "  'task': 'Object detection',\n",
       "  'annotations': [{'classes': ['Fashion accessory'],\n",
       "    'bbox': {'xmin': 441.22353664,\n",
       "     'ymin': 189.41907048000002,\n",
       "     'xmax': 612.8941056,\n",
       "     'ymax': 329.2283928}},\n",
       "   {'classes': ['Fashion accessory'],\n",
       "    'bbox': {'xmin': 459.29412608,\n",
       "     'ymin': 320.2084164,\n",
       "     'xmax': 545.1293696,\n",
       "     'ymax': 365.3082306}},\n",
       "   {'classes': ['Person'],\n",
       "    'bbox': {'xmin': 0.0,\n",
       "     'ymin': 0.0,\n",
       "     'xmax': 605.3646848,\n",
       "     'ymax': 676.4966705999999}},\n",
       "   {'classes': ['Clothing'],\n",
       "    'bbox': {'xmin': 582.77649408,\n",
       "     'ymin': 1.5033259421999998,\n",
       "     'xmax': 1022.49413632,\n",
       "     'ymax': 634.4035491}},\n",
       "   {'classes': ['Human body'],\n",
       "    'bbox': {'xmin': 0.0,\n",
       "     'ymin': 0.0,\n",
       "     'xmax': 433.69412608,\n",
       "     'ymax': 674.9933412}},\n",
       "   {'classes': ['Human body'],\n",
       "    'bbox': {'xmin': 233.41175808,\n",
       "     'ymin': 0.0,\n",
       "     'xmax': 1022.49413632,\n",
       "     'ymax': 670.48338012}},\n",
       "   {'classes': ['Human hand'],\n",
       "    'bbox': {'xmin': 18.07058944,\n",
       "     'ymin': 61.63636302,\n",
       "     'xmax': 310.21175808,\n",
       "     'ymax': 434.4611796}},\n",
       "   {'classes': ['Human hand'],\n",
       "    'bbox': {'xmin': 227.38823168,\n",
       "     'ymin': 285.63192155999997,\n",
       "     'xmax': 677.6470528,\n",
       "     'ymax': 678.0}},\n",
       "   {'classes': ['Human hand'],\n",
       "    'bbox': {'xmin': 313.22353664,\n",
       "     'ymin': 190.9223931,\n",
       "     'xmax': 603.8588416,\n",
       "     'ymax': 508.1241846}},\n",
       "   {'classes': ['Human arm'],\n",
       "    'bbox': {'xmin': 0.0,\n",
       "     'ymin': 0.0,\n",
       "     'xmax': 314.72940032,\n",
       "     'ymax': 419.42795340000004}},\n",
       "   {'classes': ['Human arm'],\n",
       "    'bbox': {'xmin': 222.87058944,\n",
       "     'ymin': 0.0,\n",
       "     'xmax': 804.1411584,\n",
       "     'ymax': 533.6807166}},\n",
       "   {'classes': ['Human arm'],\n",
       "    'bbox': {'xmin': 231.90588416,\n",
       "     'ymin': 288.63858713999997,\n",
       "     'xmax': 721.317632,\n",
       "     'ymax': 674.9933412}},\n",
       "   {'classes': ['Woman'],\n",
       "    'bbox': {'xmin': 0.0, 'ymin': 0.0, 'xmax': 1024.0, 'ymax': 678.0}},\n",
       "   {'classes': ['Man'],\n",
       "    'bbox': {'xmin': 227.38823168,\n",
       "     'ymin': 0.0,\n",
       "     'xmax': 1022.49413632,\n",
       "     'ymax': 670.48338012}}]},\n",
       " {'file_name': '000ada55d36b4bcb.jpg',\n",
       "  'height': 683,\n",
       "  'width': 1024,\n",
       "  'tags': [],\n",
       "  'task': 'Object detection',\n",
       "  'annotations': [{'classes': ['Salad'],\n",
       "    'bbox': {'xmin': 146.5014784,\n",
       "     'ymin': 34.754424265000004,\n",
       "     'xmax': 1022.4897024,\n",
       "     'ymax': 679.97789575}}]}]"
      ]
     },
     "execution_count": 17,
     "metadata": {},
     "output_type": "execute_result"
    }
   ],
   "source": [
    "remo.sdk.get_annotations(annotation_set_id=51) "
   ]
  },
  {
   "cell_type": "code",
   "execution_count": 18,
   "metadata": {},
   "outputs": [
    {
     "data": {
      "text/plain": [
       "[{'file_name': 'dog1.jpg',\n",
       "  'height': 500,\n",
       "  'width': 750,\n",
       "  'tags': [],\n",
       "  'task': 'Object detection',\n",
       "  'annotations': [{'classes': ['Dog'],\n",
       "    'bbox': {'xmin': 339.0, 'ymin': 92.5, 'xmax': 629.0, 'ymax': 463.5}}]},\n",
       " {'file_name': 'dog2.jpg',\n",
       "  'height': 700,\n",
       "  'width': 1050,\n",
       "  'tags': [],\n",
       "  'task': 'Object detection',\n",
       "  'annotations': [{'classes': ['Dog'],\n",
       "    'bbox': {'xmin': 349.39526102868547,\n",
       "     'ymin': 38.83665989956441,\n",
       "     'xmax': 808.9844120741101,\n",
       "     'ymax': 698.6561720729666}}]},\n",
       " {'file_name': 'dog3.jpg',\n",
       "  'height': 500,\n",
       "  'width': 375,\n",
       "  'tags': [],\n",
       "  'task': 'Object detection',\n",
       "  'annotations': [{'classes': ['Dog'],\n",
       "    'bbox': {'xmin': 63.0, 'ymin': 93.5, 'xmax': 281.0, 'ymax': 449.5}}]},\n",
       " {'file_name': 'dog5.jpg',\n",
       "  'height': 2105,\n",
       "  'width': 3159,\n",
       "  'tags': [],\n",
       "  'task': 'Object detection',\n",
       "  'annotations': [{'classes': ['Dog'],\n",
       "    'bbox': {'xmin': 860.7505835776185,\n",
       "     'ymin': 668.7991623572575,\n",
       "     'xmax': 2069.0342666278902,\n",
       "     'ymax': 1679.0698003591572}}]},\n",
       " {'file_name': 'dog_bike1 (3).jpg',\n",
       "  'height': 3024,\n",
       "  'width': 4032,\n",
       "  'tags': [],\n",
       "  'task': 'Object detection',\n",
       "  'annotations': [{'classes': ['bicycle'],\n",
       "    'bbox': {'xmin': 214.79745585701957,\n",
       "     'ymin': 827.2604718817646,\n",
       "     'xmax': 3860.5488687815678,\n",
       "     'ymax': 2655.941514988823}}]},\n",
       " {'file_name': 'dog6.jpg',\n",
       "  'height': 4519,\n",
       "  'width': 3136,\n",
       "  'tags': [],\n",
       "  'task': 'Object detection',\n",
       "  'annotations': [{'classes': ['person'],\n",
       "    'bbox': {'xmin': 772.1078540021321,\n",
       "     'ymin': 1756.7622520835027,\n",
       "     'xmax': 1656.995506903452,\n",
       "     'ymax': 3674.018833369696}},\n",
       "   {'classes': ['Dog'],\n",
       "    'bbox': {'xmin': 1709.0477217800003,\n",
       "     'ymin': 2849.858764491016,\n",
       "     'xmax': 2663.338327850051,\n",
       "     'ymax': 3448.4592355713203}}]},\n",
       " {'file_name': 'dog4.jpg',\n",
       "  'height': 5749,\n",
       "  'width': 3833,\n",
       "  'tags': [],\n",
       "  'task': 'Object detection',\n",
       "  'annotations': [{'classes': ['bicycle'],\n",
       "    'bbox': {'xmin': 441.46667157228853,\n",
       "     'ymin': 1793.4583532624222,\n",
       "     'xmax': 2847.460031641261,\n",
       "     'ymax': 3173.041701925824}},\n",
       "   {'classes': ['person'],\n",
       "    'bbox': {'xmin': 1247.143347191715,\n",
       "     'ymin': 424.9116713883277,\n",
       "     'xmax': 3123.376701373941,\n",
       "     'ymax': 1705.1650189479644}},\n",
       "   {'classes': ['Dog'],\n",
       "    'bbox': {'xmin': 1037.4466781948781,\n",
       "     'ymin': 3195.1150355044383,\n",
       "     'xmax': 3322.036703581471,\n",
       "     'ymax': 4475.368383064075}}]}]"
      ]
     },
     "execution_count": 18,
     "metadata": {},
     "output_type": "execute_result"
    }
   ],
   "source": [
    "remo.sdk.get_annotations(1)"
   ]
  },
  {
   "cell_type": "markdown",
   "metadata": {},
   "source": [
    "### TBC -  search for data"
   ]
  },
  {
   "cell_type": "code",
   "execution_count": 19,
   "metadata": {},
   "outputs": [
    {
     "name": "stdout",
     "output_type": "stream",
     "text": [
      "Open http://localhost:8000/datasets/filtered/images\n"
     ]
    }
   ],
   "source": [
    "# TODO: search by keywords\n",
    "# TODO: classes, tag, task\n",
    "remo.view_search()"
   ]
  },
  {
   "cell_type": "markdown",
   "metadata": {},
   "source": [
    "### ? info on datasets"
   ]
  },
  {
   "cell_type": "code",
   "execution_count": null,
   "metadata": {},
   "outputs": [],
   "source": []
  },
  {
   "cell_type": "markdown",
   "metadata": {},
   "source": [
    "### To be expanded upon - list images in a dataset, each with its own class"
   ]
  },
  {
   "cell_type": "code",
   "execution_count": 20,
   "metadata": {},
   "outputs": [
    {
     "data": {
      "text/plain": [
       "['0001eeaf4aed83f9.jpg',\n",
       " '000595fe6fee6369.jpg',\n",
       " '00075905539074f2.jpg',\n",
       " '0007cebe1b2ba653.jpg',\n",
       " '0007d6cf88afaa4a.jpg',\n",
       " '0008e425fb49a2bf.jpg',\n",
       " '0009bad4d8539bb4.jpg',\n",
       " '000a045a0715d64d.jpg',\n",
       " '000a1249af2bc5f0.jpg',\n",
       " '000ada55d36b4bcb.jpg',\n",
       " '0001eeaf4aed83f9.jpg',\n",
       " '000595fe6fee6369.jpg',\n",
       " '00075905539074f2.jpg',\n",
       " '0007cebe1b2ba653.jpg',\n",
       " '0007d6cf88afaa4a.jpg',\n",
       " '0008e425fb49a2bf.jpg',\n",
       " '0009bad4d8539bb4.jpg',\n",
       " '000a045a0715d64d.jpg',\n",
       " '000a1249af2bc5f0.jpg',\n",
       " '000ada55d36b4bcb.jpg']"
      ]
     },
     "execution_count": 20,
     "metadata": {},
     "output_type": "execute_result"
    }
   ],
   "source": [
    "dataset.list_images()"
   ]
  },
  {
   "cell_type": "code",
   "execution_count": 21,
   "metadata": {},
   "outputs": [
    {
     "data": {
      "text/plain": [
       "[<remo.domain.dataset.Image at 0x1b34bf69eb8>,\n",
       " <remo.domain.dataset.Image at 0x1b34d344128>,\n",
       " <remo.domain.dataset.Image at 0x1b34d344470>,\n",
       " <remo.domain.dataset.Image at 0x1b34d3444a8>,\n",
       " <remo.domain.dataset.Image at 0x1b34d3444e0>,\n",
       " <remo.domain.dataset.Image at 0x1b34d344518>,\n",
       " <remo.domain.dataset.Image at 0x1b34d344550>,\n",
       " <remo.domain.dataset.Image at 0x1b34d344588>,\n",
       " <remo.domain.dataset.Image at 0x1b34d3445c0>,\n",
       " <remo.domain.dataset.Image at 0x1b34d3445f8>]"
      ]
     },
     "execution_count": 21,
     "metadata": {},
     "output_type": "execute_result"
    }
   ],
   "source": [
    "dataset.images"
   ]
  },
  {
   "cell_type": "code",
   "execution_count": 22,
   "metadata": {},
   "outputs": [],
   "source": [
    "img = dataset.images[1]"
   ]
  },
  {
   "cell_type": "code",
   "execution_count": 23,
   "metadata": {},
   "outputs": [
    {
     "data": {
      "text/plain": [
       "'dataset test: simple sample 3'"
      ]
     },
     "execution_count": 23,
     "metadata": {},
     "output_type": "execute_result"
    }
   ],
   "source": [
    "img.dataset"
   ]
  },
  {
   "cell_type": "code",
   "execution_count": 24,
   "metadata": {},
   "outputs": [
    {
     "data": {
      "text/plain": [
       "'000595fe6fee6369.jpg'"
      ]
     },
     "execution_count": 24,
     "metadata": {},
     "output_type": "execute_result"
    }
   ],
   "source": [
    "img.path_to_image "
   ]
  },
  {
   "cell_type": "code",
   "execution_count": 25,
   "metadata": {},
   "outputs": [
    {
     "name": "stdout",
     "output_type": "stream",
     "text": [
      "Open http://localhost:8000/image/1?datasetId=1\n"
     ]
    }
   ],
   "source": [
    "my_dataset.view_image(1)"
   ]
  },
  {
   "cell_type": "code",
   "execution_count": 26,
   "metadata": {},
   "outputs": [
    {
     "name": "stdout",
     "output_type": "stream",
     "text": [
      "Open http://localhost:8000/image/2?datasetId=1\n"
     ]
    }
   ],
   "source": [
    "my_dataset.view_image(2)"
   ]
  },
  {
   "cell_type": "code",
   "execution_count": 27,
   "metadata": {},
   "outputs": [
    {
     "name": "stdout",
     "output_type": "stream",
     "text": [
      "Open http://localhost:8000/image/2?datasetId=1\n"
     ]
    }
   ],
   "source": [
    "remo.sdk.view_image(2,1)"
   ]
  },
  {
   "cell_type": "code",
   "execution_count": 28,
   "metadata": {},
   "outputs": [],
   "source": [
    "from PIL import Image\n",
    "import matplotlib.pyplot as plt\n",
    "%matplotlib inline \n",
    "\n",
    "result = my_dataset.get_images(1,1)\n",
    "img = Image.open(result)\n",
    "img = img.save(\"img.jpg\") "
   ]
  },
  {
   "cell_type": "code",
   "execution_count": 29,
   "metadata": {},
   "outputs": [
    {
     "data": {
      "image/png": "[encoded data removed]",
      "text/plain": [
       "<Figure size 432x288 with 1 Axes>"
      ]
     },
     "metadata": {
      "needs_background": "light"
     },
     "output_type": "display_data"
    }
   ],
   "source": [
    "image = plt.imread('img.jpg')\n",
    "fig, ax = plt.subplots()\n",
    "im = ax.imshow(image)\n",
    "plt.show()"
   ]
  },
  {
   "cell_type": "markdown",
   "metadata": {},
   "source": [
    "### View Annotation Set"
   ]
  },
  {
   "cell_type": "code",
   "execution_count": 30,
   "metadata": {},
   "outputs": [
    {
     "name": "stdout",
     "output_type": "stream",
     "text": [
      "Open http://localhost:8000/annotation/1\n"
     ]
    }
   ],
   "source": [
    "my_dataset.view_annotation(1)"
   ]
  },
  {
   "cell_type": "code",
   "execution_count": 31,
   "metadata": {},
   "outputs": [
    {
     "name": "stdout",
     "output_type": "stream",
     "text": [
      "Open http://localhost:8000/annotation/1\n"
     ]
    }
   ],
   "source": [
    "my_dataset_2.view_annotation(1) "
   ]
  },
  {
   "cell_type": "code",
   "execution_count": null,
   "metadata": {},
   "outputs": [],
   "source": []
  }
 ],
 "metadata": {
  "kernelspec": {
   "display_name": "Python 3",
   "language": "python",
   "name": "python3"
  },
  "language_info": {
   "codemirror_mode": {
    "name": "ipython",
    "version": 3
   },
   "file_extension": ".py",
   "mimetype": "text/x-python",
   "name": "python",
   "nbconvert_exporter": "python",
   "pygments_lexer": "ipython3",
   "version": "3.5.5"
  },
  "toc": {
   "nav_menu": {},
   "number_sections": true,
   "sideBar": true,
   "skip_h1_title": false,
   "toc_cell": false,
   "toc_position": {},
   "toc_section_display": "block",
   "toc_window_display": false
  }
 },
 "nbformat": 4,
 "nbformat_minor": 2
}
