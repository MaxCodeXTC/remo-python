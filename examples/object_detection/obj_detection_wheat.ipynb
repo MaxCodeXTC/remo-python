{
 "metadata": {
  "language_info": {
   "codemirror_mode": {
    "name": "ipython",
    "version": 3
   },
   "file_extension": ".py",
   "mimetype": "text/x-python",
   "name": "python",
   "nbconvert_exporter": "python",
   "pygments_lexer": "ipython3",
   "version": 3
  },
  "orig_nbformat": 2,
  "kernelspec": {
   "name": "python_defaultSpec_1596713992642",
   "display_name": "Python 3.6.10 64-bit ('pt_36': conda)"
  }
 },
 "nbformat": 4,
 "nbformat_minor": 2,
 "cells": [
  {
   "cell_type": "markdown",
   "metadata": {},
   "source": [
    "Repo being followed: https://github.com/ultralytics/yolov5/wiki/Train-Custom-Data"
   ]
  },
  {
   "cell_type": "markdown",
   "metadata": {},
   "source": [
    "1. Add Data to Remo\n",
    "    - Dataset format {x_min, y_min, w, h} -> {x_min, y_min, x_max, y_max} for Remo.\n",
    "    - Export annotation from Remo after visualizing. ((Test if both match)\n",
    "    - Cannot retain image height, image width in Plain CSV (Potential Problem) (While exporting, needed at pre-processsing time)\n",
    "2. Pre-processing for EfficientDet or YOLO\n",
    "    - Boxes need to be normalized before passing them as input: -_-\n",
    "        - Formula: {((x + (w / 2)) / im_w), ((y + (h / 2) / im_h),  (w / im_w),  (h / im_h)}\n",
    "        - **w**: Bounding Box width (x_max - x_min)\n",
    "        - **h**: Bounding Box height (y_max - y_min)\n",
    "        - **im_h**: image height\n",
    "        - **im_w**: image width\n",
    "        - **x**: x_min\n",
    "        - **y**: y_min\n",
    "    - Output of this formula:\n",
    "        - {center_x, center_y, bbox_w, bbox_h}\n",
    "    - Desirable format of feeding the data to the model:\n",
    "        img_name_path, class, center_x, center_y, bbox_w, bbox_h\n",
    "    - Current models then build a im_name.txt file for EVERY image (Source: [YOLOv5](https://github.com/ultralytics/yolov5/wiki/Train-Custom-Data))\n",
    "    - Then there is directory structure to be followed for the same. (This is dataset agnostic)\n",
    "    - Create a CSV of text file paths? Will refer Kaggle Kernels for more info, this is longer amount of work.\n",
    "    -  \n",
    "3. Model:\n",
    "    - Model options can be YOLO, EfficientDet, and if everything works out in Step #2, I doubt it will be difficult.\n",
    "4. Inference:\n",
    "    - For now, I assume it is straightforward and carries over from the Model repo.\n",
    "5. Visualization:\n",
    "    - Post Process boxes to format file_name, classes, x_min, y_min, x_max, y_max in the form of a Plain CSV.\n",
    "\n",
    "**Work In Progress**\n",
    "\n",
    "Might just completely switch to mmdetection format."
   ]
  },
  {
   "cell_type": "code",
   "execution_count": 29,
   "metadata": {},
   "outputs": [],
   "source": [
    "### Imports\n",
    "import os\n",
    "import cv2\n",
    "import csv\n",
    "import glob\n",
    "import pandas as pd\n",
    "import numpy as np\n"
   ]
  },
  {
   "cell_type": "code",
   "execution_count": 15,
   "metadata": {},
   "outputs": [
    {
     "output_type": "execute_result",
     "data": {
      "text/plain": "' This will then be added to Remo via remo.create_datast() '"
     },
     "metadata": {},
     "execution_count": 15
    }
   ],
   "source": [
    "### Pre-Pre-Processing FOR YOLOv5\n",
    "train = pd.read_csv(\"./non_image_files/CSVs/train.csv\")\n",
    "\n",
    "train['bbox'] = train['bbox'].apply(lambda x: x[1:-1].split(\",\"))\n",
    "train['x_min'] = train['bbox'].apply(lambda x: x[0]).astype('float32')\n",
    "train['y_min'] = train['bbox'].apply(lambda x: x[1]).astype('float32')\n",
    "train[\"classes\"] = 0\n",
    "train[\"x_max\"] = train.apply(lambda col: col.x_min + float(col.bbox[2]), axis=1)\n",
    "train[\"y_max\"] = train.apply(lambda col: col.y_min + float(col.bbox[3]), axis = 1)\n",
    "train = train[['image_id', \"classes\", 'x_min', 'y_min', \"x_max\", \"y_max\"]]\n",
    "\n",
    "train.rename(columns={\"image_id\" : \"file_name\"}, inplace=True)\n",
    "\n",
    "\"\"\" This will then be added to Remo via remo.create_datast() \"\"\"\n"
   ]
  },
  {
   "cell_type": "code",
   "execution_count": 21,
   "metadata": {},
   "outputs": [
    {
     "output_type": "execute_result",
     "data": {
      "text/plain": "   file_name  classes  x_min  y_min  x_max  y_max\n0  b6ab77fd7        0  834.0  222.0  890.0  258.0\n1  b6ab77fd7        0  226.0  548.0  356.0  606.0\n2  b6ab77fd7        0  377.0  504.0  451.0  664.0\n3  b6ab77fd7        0  834.0   95.0  943.0  202.0\n4  b6ab77fd7        0   26.0  144.0  150.0  261.0",
      "text/html": "<div>\n<style scoped>\n    .dataframe tbody tr th:only-of-type {\n        vertical-align: middle;\n    }\n\n    .dataframe tbody tr th {\n        vertical-align: top;\n    }\n\n    .dataframe thead th {\n        text-align: right;\n    }\n</style>\n<table border=\"1\" class=\"dataframe\">\n  <thead>\n    <tr style=\"text-align: right;\">\n      <th></th>\n      <th>file_name</th>\n      <th>classes</th>\n      <th>x_min</th>\n      <th>y_min</th>\n      <th>x_max</th>\n      <th>y_max</th>\n    </tr>\n  </thead>\n  <tbody>\n    <tr>\n      <th>0</th>\n      <td>b6ab77fd7</td>\n      <td>0</td>\n      <td>834.0</td>\n      <td>222.0</td>\n      <td>890.0</td>\n      <td>258.0</td>\n    </tr>\n    <tr>\n      <th>1</th>\n      <td>b6ab77fd7</td>\n      <td>0</td>\n      <td>226.0</td>\n      <td>548.0</td>\n      <td>356.0</td>\n      <td>606.0</td>\n    </tr>\n    <tr>\n      <th>2</th>\n      <td>b6ab77fd7</td>\n      <td>0</td>\n      <td>377.0</td>\n      <td>504.0</td>\n      <td>451.0</td>\n      <td>664.0</td>\n    </tr>\n    <tr>\n      <th>3</th>\n      <td>b6ab77fd7</td>\n      <td>0</td>\n      <td>834.0</td>\n      <td>95.0</td>\n      <td>943.0</td>\n      <td>202.0</td>\n    </tr>\n    <tr>\n      <th>4</th>\n      <td>b6ab77fd7</td>\n      <td>0</td>\n      <td>26.0</td>\n      <td>144.0</td>\n      <td>150.0</td>\n      <td>261.0</td>\n    </tr>\n  </tbody>\n</table>\n</div>"
     },
     "metadata": {},
     "execution_count": 21
    }
   ],
   "source": [
    "subset = train[0:100]\n",
    "subset.head()"
   ]
  },
  {
   "cell_type": "code",
   "execution_count": 22,
   "metadata": {
    "tags": []
   },
   "outputs": [],
   "source": [
    "img_h, img_w = 1024, 1024\n",
    "input_df= pd.DataFrame(columns=[\"file_name\", \"classes\", \"x\", \"y\", \"w\", \"h\"])\n",
    "input_df[\"file_name\"] = subset[\"file_name\"]\n",
    "input_df[\"classes\"] = subset[\"classes\"]\n",
    "input_df[\"w\"] = subset.apply(lambda col: (col.x_max - col.x_min) / img_w , axis=1)\n",
    "input_df[\"h\"] = subset.apply(lambda col: (col.y_max - col.y_min) / img_h, axis=1)\n",
    "input_df[\"x\"] = subset.apply(lambda col: (col.x_min + (col.x_max - col.x_min) / 2) / img_w, axis=1)\n",
    "input_df[\"y\"] = subset.apply(lambda col: (col.y_min + (col.x_max - col.x_min) / 2) / img_h, axis=1)\n",
    "\n",
    "\n"
   ]
  },
  {
   "cell_type": "code",
   "execution_count": 23,
   "metadata": {},
   "outputs": [],
   "source": [
    "input_df[\"file_name\"] = subset[\"file_name\"]\n",
    "input_df[\"classes\"] = subset[\"classes\"]"
   ]
  },
  {
   "cell_type": "markdown",
   "metadata": {
    "tags": []
   },
   "source": [
    "![example image txt](https://user-images.githubusercontent.com/26833433/78174482-307bb800-740e-11ea-8b09-840693671042.png)\n",
    "\n",
    "This is the expected format for one image in YOLOv5"
   ]
  },
  {
   "cell_type": "code",
   "execution_count": 28,
   "metadata": {
    "tags": []
   },
   "outputs": [
    {
     "output_type": "execute_result",
     "data": {
      "text/plain": "    file_name  classes         x         y         w         h\n0   b6ab77fd7        0  0.841797  0.244141  0.054688  0.035156\n1   b6ab77fd7        0  0.284180  0.598633  0.126953  0.056641\n2   b6ab77fd7        0  0.404297  0.528320  0.072266  0.156250\n3   b6ab77fd7        0  0.867676  0.145996  0.106445  0.104492\n4   b6ab77fd7        0  0.085938  0.201172  0.121094  0.114258\n..        ...      ...       ...       ...       ...       ...\n95  7b72ea0fb        0  0.154785  0.484863  0.063477  0.051758\n96  7b72ea0fb        0  0.387695  0.289062  0.066406  0.141602\n97  7b72ea0fb        0  0.937988  0.687988  0.094727  0.074219\n98  7b72ea0fb        0  0.222656  0.139648  0.089844  0.082031\n99  7b72ea0fb        0  0.236328  0.669922  0.066406  0.082031\n\n[100 rows x 6 columns]",
      "text/html": "<div>\n<style scoped>\n    .dataframe tbody tr th:only-of-type {\n        vertical-align: middle;\n    }\n\n    .dataframe tbody tr th {\n        vertical-align: top;\n    }\n\n    .dataframe thead th {\n        text-align: right;\n    }\n</style>\n<table border=\"1\" class=\"dataframe\">\n  <thead>\n    <tr style=\"text-align: right;\">\n      <th></th>\n      <th>file_name</th>\n      <th>classes</th>\n      <th>x</th>\n      <th>y</th>\n      <th>w</th>\n      <th>h</th>\n    </tr>\n  </thead>\n  <tbody>\n    <tr>\n      <th>0</th>\n      <td>b6ab77fd7</td>\n      <td>0</td>\n      <td>0.841797</td>\n      <td>0.244141</td>\n      <td>0.054688</td>\n      <td>0.035156</td>\n    </tr>\n    <tr>\n      <th>1</th>\n      <td>b6ab77fd7</td>\n      <td>0</td>\n      <td>0.284180</td>\n      <td>0.598633</td>\n      <td>0.126953</td>\n      <td>0.056641</td>\n    </tr>\n    <tr>\n      <th>2</th>\n      <td>b6ab77fd7</td>\n      <td>0</td>\n      <td>0.404297</td>\n      <td>0.528320</td>\n      <td>0.072266</td>\n      <td>0.156250</td>\n    </tr>\n    <tr>\n      <th>3</th>\n      <td>b6ab77fd7</td>\n      <td>0</td>\n      <td>0.867676</td>\n      <td>0.145996</td>\n      <td>0.106445</td>\n      <td>0.104492</td>\n    </tr>\n    <tr>\n      <th>4</th>\n      <td>b6ab77fd7</td>\n      <td>0</td>\n      <td>0.085938</td>\n      <td>0.201172</td>\n      <td>0.121094</td>\n      <td>0.114258</td>\n    </tr>\n    <tr>\n      <th>...</th>\n      <td>...</td>\n      <td>...</td>\n      <td>...</td>\n      <td>...</td>\n      <td>...</td>\n      <td>...</td>\n    </tr>\n    <tr>\n      <th>95</th>\n      <td>7b72ea0fb</td>\n      <td>0</td>\n      <td>0.154785</td>\n      <td>0.484863</td>\n      <td>0.063477</td>\n      <td>0.051758</td>\n    </tr>\n    <tr>\n      <th>96</th>\n      <td>7b72ea0fb</td>\n      <td>0</td>\n      <td>0.387695</td>\n      <td>0.289062</td>\n      <td>0.066406</td>\n      <td>0.141602</td>\n    </tr>\n    <tr>\n      <th>97</th>\n      <td>7b72ea0fb</td>\n      <td>0</td>\n      <td>0.937988</td>\n      <td>0.687988</td>\n      <td>0.094727</td>\n      <td>0.074219</td>\n    </tr>\n    <tr>\n      <th>98</th>\n      <td>7b72ea0fb</td>\n      <td>0</td>\n      <td>0.222656</td>\n      <td>0.139648</td>\n      <td>0.089844</td>\n      <td>0.082031</td>\n    </tr>\n    <tr>\n      <th>99</th>\n      <td>7b72ea0fb</td>\n      <td>0</td>\n      <td>0.236328</td>\n      <td>0.669922</td>\n      <td>0.066406</td>\n      <td>0.082031</td>\n    </tr>\n  </tbody>\n</table>\n<p>100 rows × 6 columns</p>\n</div>"
     },
     "metadata": {},
     "execution_count": 28
    }
   ],
   "source": []
  }
 ]
}